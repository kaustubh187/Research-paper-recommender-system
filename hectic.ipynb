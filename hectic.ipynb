{
 "cells": [
  {
   "cell_type": "code",
   "execution_count": 41,
   "metadata": {},
   "outputs": [],
   "source": [
    "import pandas as pd\n",
    "# data manipulation, gathering\n",
    "import numpy as np # for array manipulation# for dataframe manipulation/reading in data\n",
    "import json # for reading in Data\n",
    "from itertools import islice # for slicing and dicing JSON records\n",
    "import os # for getting the filepath information\n",
    "import re # to identify characters that are to be removed\n",
    "import nltk # for preprocessing of textual data\n",
    "from nltk.corpus import stopwords # for removing stopwords\n",
    "from nltk.tokenize import word_tokenize # for tokenizing text\n",
    "from nltk.stem import WordNetLemmatizer # for lemmatizing text\n",
    "from sklearn.feature_extraction.text import TfidfVectorizer # for featurizing text\n",
    "from sklearn.metrics.pairwise import cosine_similarity # for getting similarity score\n",
    "from sklearn.decomposition import PCA #for dimensionality reduction\n",
    "from sklearn.cluster import KMeans #for clustering\n",
    "from sklearn.manifold import TSNE #For reducing to 2 dimensions for plotting\n"
   ]
  },
  {
   "cell_type": "code",
   "execution_count": 42,
   "metadata": {},
   "outputs": [],
   "source": [
    "df = pd.read_csv('initial_df.csv',dtype={'id': \"str\"})"
   ]
  },
  {
   "cell_type": "code",
   "execution_count": 43,
   "metadata": {},
   "outputs": [],
   "source": [
    "final_df = pd.read_csv('final_df.csv')"
   ]
  },
  {
   "cell_type": "code",
   "execution_count": 44,
   "metadata": {},
   "outputs": [],
   "source": [
    "idf = df.reset_index()\n",
    "\n",
    "dataorg = idf[idf['id']==\"0704.0002\"]\n",
    "hula = pd.DataFrame()\n",
    "hula = hula.append(dataorg,ignore_index=True)\n",
    "orgtitle = hula['title'][0]"
   ]
  },
  {
   "cell_type": "code",
   "execution_count": 67,
   "metadata": {},
   "outputs": [],
   "source": [
    "tfidf_vectorizer = TfidfVectorizer()\n",
    "\n",
    "# Generate the tf-idf vectors for the data\n",
    "tfidf_matrix = tfidf_vectorizer.fit_transform(final_df['final_text'])"
   ]
  },
  {
   "cell_type": "code",
   "execution_count": 68,
   "metadata": {},
   "outputs": [],
   "source": [
    "def get_recommendations(paper_id:str,tfidf_matrix,num_rec):\n",
    "    idx = final_df.index[final_df['id'] == paper_id][0]\n",
    "    sim = cosine_similarity(tfidf_matrix, tfidf_matrix[idx])\n",
    "    sim = sim.reshape(sim.shape[0])\n",
    "    top_n_idx = np.argsort(-sim)[1:num_rec+1]\n",
    "    top_n_id = [final_df['id'][x] for x in top_n_idx]\n",
    "    return top_n_id"
   ]
  },
  {
   "cell_type": "code",
   "execution_count": 69,
   "metadata": {},
   "outputs": [],
   "source": [
    "tfidf_vectorizer2 = TfidfVectorizer(max_features=10000)\n",
    "\n",
    "# Generate the tf-idf vectors for the data\n",
    "tfidf_matrix2 = tfidf_vectorizer2.fit_transform(final_df['final_text'])"
   ]
  },
  {
   "cell_type": "code",
   "execution_count": 70,
   "metadata": {},
   "outputs": [],
   "source": [
    "rec = get_recommendations(704.0001,tfidf_matrix,1000)\n",
    "idxs = list(final_df[final_df['id'].isin(rec)].index)\n",
    "rec_matrix = tfidf_matrix2[idxs]"
   ]
  },
  {
   "cell_type": "code",
   "execution_count": 71,
   "metadata": {},
   "outputs": [],
   "source": [
    "pca = PCA(n_components=0.95, random_state=42) #Keep 95% of the variance\n",
    "reduced_matrix = pca.fit_transform(rec_matrix.toarray())"
   ]
  },
  {
   "cell_type": "code",
   "execution_count": 72,
   "metadata": {},
   "outputs": [],
   "source": [
    "k = 10 # selectable\n",
    "kmeans = KMeans(n_clusters=k, random_state=42)\n",
    "y_pred = kmeans.fit_predict(reduced_matrix)"
   ]
  },
  {
   "cell_type": "code",
   "execution_count": 73,
   "metadata": {},
   "outputs": [
    {
     "name": "stderr",
     "output_type": "stream",
     "text": [
      "c:\\python 310\\lib\\site-packages\\sklearn\\manifold\\_t_sne.py:800: FutureWarning:\n",
      "\n",
      "The default initialization in TSNE will change from 'random' to 'pca' in 1.2.\n",
      "\n",
      "c:\\python 310\\lib\\site-packages\\sklearn\\manifold\\_t_sne.py:810: FutureWarning:\n",
      "\n",
      "The default learning rate in TSNE will change from 200.0 to 'auto' in 1.2.\n",
      "\n"
     ]
    }
   ],
   "source": [
    "tsne = TSNE(perplexity=100, random_state=42)\n",
    "two_dim_matrix = tsne.fit_transform(reduced_matrix)\n"
   ]
  },
  {
   "cell_type": "code",
   "execution_count": 74,
   "metadata": {},
   "outputs": [],
   "source": [
    "import seaborn as sns\n",
    "import matplotlib.pyplot as plt\n",
    "\n"
   ]
  },
  {
   "cell_type": "code",
   "execution_count": 75,
   "metadata": {},
   "outputs": [],
   "source": [
    "import plotly.express as px\n"
   ]
  },
  {
   "attachments": {},
   "cell_type": "markdown",
   "metadata": {},
   "source": [
    "Topic Modelling"
   ]
  },
  {
   "cell_type": "code",
   "execution_count": 76,
   "metadata": {},
   "outputs": [],
   "source": [
    "from sklearn.decomposition import LatentDirichletAllocation\n",
    "from sklearn.feature_extraction.text import CountVectorizer"
   ]
  },
  {
   "cell_type": "code",
   "execution_count": 77,
   "metadata": {},
   "outputs": [],
   "source": [
    "vectorizers = []\n",
    "    \n",
    "for x in range(0, k):\n",
    "    # Creating a vectorizer\n",
    "    vectorizers.append(CountVectorizer(min_df=5, max_df=0.9, stop_words='english', lowercase=True, token_pattern='[a-zA-Z\\-][a-zA-Z\\-]{2,}'))"
   ]
  },
  {
   "cell_type": "code",
   "execution_count": 78,
   "metadata": {},
   "outputs": [],
   "source": [
    "topic_df = pd.DataFrame()\n",
    "topic_df['id'] =df[final_df['id'].isin(rec)]['id']\n",
    "topic_df['title'] = df[final_df['id'].isin(rec)]['title']\n",
    "topic_df['text'] = df[final_df['id'].isin(rec)]['title']+\" \"+df[final_df['id'].isin(rec)]['abstract']\n",
    "topic_df['cluster'] = y_pred"
   ]
  },
  {
   "cell_type": "code",
   "execution_count": 79,
   "metadata": {},
   "outputs": [],
   "source": [
    "vectorized_data = []\n",
    "\n",
    "for current_cluster, cvec in enumerate(vectorizers):\n",
    "    try:\n",
    "        vectorized_data.append(cvec.fit_transform(topic_df.loc[topic_df['cluster'] == current_cluster, 'text']))\n",
    "    except Exception as e:\n",
    "        print(\"Not enough instances in cluster: \" + str(current_cluster))\n",
    "        vectorized_data.append(None)"
   ]
  },
  {
   "cell_type": "code",
   "execution_count": 80,
   "metadata": {},
   "outputs": [],
   "source": [
    "NUM_TOPICS_PER_CLUSTER = 5 #choose\n",
    "\n",
    "lda_models = []\n",
    "for x in range(0, k):\n",
    "    # Latent Dirichlet Allocation Model\n",
    "    lda = LatentDirichletAllocation(n_components=NUM_TOPICS_PER_CLUSTER, max_iter=10, learning_method='online',verbose=False, random_state=42)\n",
    "    lda_models.append(lda)"
   ]
  },
  {
   "cell_type": "code",
   "execution_count": 81,
   "metadata": {},
   "outputs": [],
   "source": [
    "clusters_lda_data = []\n",
    "\n",
    "for current_cluster, lda in enumerate(lda_models):\n",
    "    #print(\"Current Cluster: \" + str(current_cluster))\n",
    "    \n",
    "    if vectorized_data[current_cluster] != None:\n",
    "        clusters_lda_data.append((lda.fit_transform(vectorized_data[current_cluster])))"
   ]
  },
  {
   "cell_type": "code",
   "execution_count": 82,
   "metadata": {},
   "outputs": [],
   "source": [
    "def selected_topics(model, vectorizer, top_n=3):\n",
    "    current_words = []\n",
    "    keywords = []\n",
    "    \n",
    "    for idx, topic in enumerate(model.components_):\n",
    "        words = [(vectorizer.get_feature_names_out()[i], topic[i]) for i in topic.argsort()[:-top_n - 1:-1]]\n",
    "        for word in words:\n",
    "            if word[0] not in current_words:\n",
    "                keywords.append(word)\n",
    "                current_words.append(word[0])\n",
    "                \n",
    "    keywords.sort(key = lambda x: x[1])  \n",
    "    keywords.reverse()\n",
    "    return_values = []\n",
    "    for x in keywords:\n",
    "        return_values.append(x[0])\n",
    "    return \" \".join(return_values)\n"
   ]
  },
  {
   "cell_type": "code",
   "execution_count": 83,
   "metadata": {},
   "outputs": [],
   "source": [
    "all_keywords = []\n",
    "for current_vectorizer, lda in enumerate(lda_models):\n",
    "    #print(\"Current Cluster: \" + str(current_vectorizer))\n",
    "\n",
    "    if vectorized_data[current_vectorizer] != None:\n",
    "        all_keywords.append(selected_topics(lda, vectorizers[current_vectorizer]))"
   ]
  },
  {
   "cell_type": "code",
   "execution_count": 84,
   "metadata": {},
   "outputs": [],
   "source": [
    "cluster_keyword = {x:all_keywords[x] for x in range(k)}\n",
    "word_pred = list(map(cluster_keyword.get, y_pred))\n",
    "topic_df['keywords'] = word_pred"
   ]
  },
  {
   "cell_type": "code",
   "execution_count": 85,
   "metadata": {},
   "outputs": [
    {
     "data": {
      "application/vnd.plotly.v1+json": {
       "config": {
        "plotlyServerURL": "https://plot.ly"
       },
       "data": [
        {
         "customdata": [
          [
           "0704.0106",
           "Multiple Parton Scattering in Nuclei: Quark-quark Scattering"
          ],
          [
           "0704.1745",
           "I. The mass gap and solution of the quark confinement problem in QCD"
          ],
          [
           "0705.0953",
           "Search for color charge dependence of energy loss at RHIC"
          ],
          [
           "0706.0456",
           "Parton Distributions for the LHC"
          ],
          [
           "0706.4456",
           "Heavy-Quark Kinetics in the QGP at LHC"
          ],
          [
           "0707.0923",
           "Quark-gluon plasma paradox"
          ],
          [
           "0707.2263",
           "The Role of Surface Tension for the Equation of State of Quark-Gluon\n  Bags"
          ],
          [
           "0707.3033",
           "Dynamical quasiparticles properties and effective interactions in the\n  sQGP"
          ],
          [
           "0707.3800",
           "Higgs production at the LHC in warped extra-dimensional models"
          ],
          [
           "0709.0065",
           "Renormalized Wick expansion for a modified PQCD"
          ],
          [
           "0709.1684",
           "Thermal Charm Production in Quark-Gluon Plasma at LHC"
          ],
          [
           "0709.3174",
           "Midrapidity Production of Secondaries in pp Collisions at RHIC and LHC\n  Energies in the Quark-Gluon String Model"
          ],
          [
           "0710.1051",
           "Charm Production at RHIC"
          ],
          [
           "0710.3930",
           "Interactions of Heavy Hadrons using Regge Phenomenology and the Quark\n  Gluon String Model"
          ],
          [
           "0711.2196",
           "Baryon scattering at high energies: wave function, impact factor, and\n  gluon radiation"
          ],
          [
           "0711.2280",
           "Properties of quark gluon plasma from lattice calculations"
          ],
          [
           "0711.3943",
           "Energetic di-leptons from the Quark Gluon Plasma"
          ],
          [
           "0802.3282",
           "QCD Evolution of Jets in the Quark-Gluon Plasma"
          ],
          [
           "0803.1527",
           "Dilepton from Quark-Gluon Plasma and Quark-Hadron Phase Transition"
          ],
          [
           "0803.1611",
           "The Thermodynamics of Quarks and Gluons"
          ],
          [
           "0803.2124",
           "Relativistic description of the double charmonium production in $e^+e^-$\n  annihilation"
          ],
          [
           "0804.0275",
           "Unstable Quark-Gluon Plasma at LHC"
          ],
          [
           "0804.0455",
           "Deep-Elastic pp Scattering at LHC from Low-x Gluons"
          ],
          [
           "0804.3359",
           "QCD Splitting/Joining Functions at Finite Temperature in the Deep LPM\n  Regime"
          ],
          [
           "0805.0587",
           "Pressure isotropization of an equilibrating quark-gluon plasma"
          ],
          [
           "0805.1093",
           "Heavy Quark Production from Jet Conversions in a Quark-Gluon Plasma"
          ],
          [
           "0805.2650",
           "Associated production of prompt photons and heavy quarks in off-shell\n  gluon-gluon fusion"
          ],
          [
           "0805.4058",
           "Refraction of Gluon jet in QGP"
          ],
          [
           "0805.4821",
           "Production of electroweak gauge bosons in off-shell gluon-gluon fusion"
          ],
          [
           "0806.0644",
           "Di-Quarks and Tri-Quarks on the Lattice"
          ],
          [
           "0806.1535",
           "Maximum Wavelength of Confined Quarks and Gluons and Properties of\n  Quantum Chromodynamics"
          ],
          [
           "0806.1932",
           "Single Spin Asymmetries in Heavy Quark and Antiquark Productions"
          ],
          [
           "0807.0321",
           "NNLO Time-like Splitting Functions in QCD"
          ],
          [
           "0807.1610",
           "Relativistic Nucleus-Nucleus Collisions and the QCD Matter Phase Diagram"
          ],
          [
           "0807.2403",
           "Valence quarks and $k_T$ factorisation"
          ],
          [
           "0807.4939",
           "Coalescence Models For Hadron Formation From Quark Gluon Plasma"
          ],
          [
           "0808.0201",
           "Analytic treatment of leading-order parton evolution equations: theory\n  and tests"
          ],
          [
           "0809.1390",
           "Flavour Changing Neutral Current Constraints from Kaluza-Klein Gluons\n  and Quark Mass Matrices in RS1"
          ],
          [
           "0809.2296",
           "Recent developments in the constituent quark model including\n  quark-antiquark pairs"
          ],
          [
           "0810.1727",
           "The QCD Phase Boundary from Quark-Gluon Dynamics"
          ],
          [
           "0811.2575",
           "On the quark component in prompt photon and electroweak gauge boson\n  production at high energies"
          ],
          [
           "0812.0946",
           "Prompt photon photoproduction at HERA within the framework of the quark\n  Reggeization hypothesis"
          ],
          [
           "0812.1619",
           "Heavy Ions at LHC: A Quest for Quark-Gluon Plasma"
          ],
          [
           "0812.2465",
           "Multiplicity Distribution of Secondary Hadrons at LHC Energy and Total\n  Cross Sections of Hadron-Hadron Interactions"
          ],
          [
           "0812.2536",
           "Strange and charm quark-pair production in strong non-Abelian field"
          ],
          [
           "0812.2896",
           "Confinement and Green functions in Landau-gauge QCD"
          ],
          [
           "0812.4484",
           "QCD Evolution of the Transverse Momentum Dependent Correlations"
          ],
          [
           "0901.0946",
           "Tomography of a quark gluon plasma at RHIC and LHC energies"
          ],
          [
           "0901.4088",
           "Black holes and the quark-gluon plasma"
          ],
          [
           "0902.0741",
           "Transport properties and Langevin dynamics of heavy quarks and quarkonia\n  in the Quark Gluon Plasma"
          ],
          [
           "0902.3519",
           "Quark and gluon form factors to three loops"
          ],
          [
           "0903.2778",
           "The States of Matter in QCD"
          ],
          [
           "0904.3428",
           "Search and study of Quark Gluon Plasma at the CERN-LHC"
          ],
          [
           "0904.3558",
           "Nonzero Mean Squared Momentum of Quarks in the Non-Perturbative QCD\n  Vacuum"
          ],
          [
           "0905.3922",
           "Altarelli-Parisi Equation in Non-Equilibrium QCD"
          ],
          [
           "0906.1742",
           "Hadron mass generation and the strong interaction"
          ],
          [
           "0906.2618",
           "Fourier analysis of the flux-tube distribution in SU(3) lattice QCD"
          ],
          [
           "0906.5234",
           "Electron-Positron to Nucleon-Antinucleon Pair at Threshold and Proton\n  Form Factor"
          ],
          [
           "0907.1918",
           "Anomalous mass dependence of radiative quark energy loss in a\n  finite-size quark-gluon plasma"
          ],
          [
           "0909.2323",
           "Enhanced heavy quark-pair production in strong SU(2) color field"
          ],
          [
           "0910.0134",
           "Beauty baryon production in pp collisions at LHC and b quark\n  distribution in proton"
          ],
          [
           "0910.0394",
           "Relativistic effects in the double S- and P-wave charmonium production\n  in e^+e^- annihilation"
          ],
          [
           "0910.0958",
           "Comparison of gluon flux-tube distributions for quark-diquark and\n  quark-antiquark hadrons"
          ],
          [
           "0910.2050",
           "Predictions of Quark-Gluon String Model for pp at LHC"
          ],
          [
           "0911.3112",
           "Search for New Color-Octet Vector Particle Decaying to ttbar in ppbar\n  Collisions at $\\sqrt{s}=1.96$ TeV"
          ],
          [
           "0911.3621",
           "Factorization of Short- and Long-range Interactions in Charged Meson\n  Production"
          ],
          [
           "0911.4850",
           "Are multiple parton interactions important at high energies? New types\n  of hadrons production processes"
          ],
          [
           "0911.5517",
           "Diphoton production at Tevatron in the quasi-multi-Regge-kinematics\n  approach"
          ],
          [
           "0912.1041",
           "Possible difference between multiplicity distributions and inclusive\n  spectra of secondary hadrons in proton-proton and proton-antiproton\n  collisions at energy sqrt(s)=900 GeV"
          ],
          [
           "0912.1437",
           "Quantum Phase Transitions in Dense QCD"
          ],
          [
           "1002.1779",
           "Low $Q^2$ proton structure function, using gluon and pseudoscalar meson\n  clouds in the constituent quark framework"
          ],
          [
           "1003.0346",
           "Inclusive b and b anti-b production with quasi-multi-Regge kinematics at\n  the Tevatron"
          ],
          [
           "1003.2018",
           "The internal color degrees of freedom for the weakly interacting quarks\n  and gluons"
          ],
          [
           "1003.3531",
           "Viscosity coefficients for hadron and quark-gluon phases"
          ],
          [
           "1003.4200",
           "Heavy quark production at RHIC and LHC within a partonic transport model"
          ],
          [
           "1003.4319",
           "QCD corrections to J/psi polarisation in pp collisions at RHIC"
          ],
          [
           "1003.5508",
           "Dragging Heavy Quarks in Quark Gluon Plasma at the Large Hadron Collider"
          ],
          [
           "1004.2591",
           "Dilepton production by dynamical quasiparticles in the strongly\n  interacting quark gluon plasma"
          ],
          [
           "1004.3069",
           "Dileptons from the nonequilibrium Quark-Gluon Plasma"
          ],
          [
           "1004.4091",
           "Production and elliptic flow of heavy quarks at RHIC and LHC within a\n  partonic transport model"
          ],
          [
           "1006.4603",
           "The quark-gluon medium"
          ],
          [
           "1008.1120",
           "Heavy Quark Production from Relativistic Heavy Ion Collisions"
          ],
          [
           "1008.2306",
           "Shear Viscosity in a Perturbative Quark-Gluon-Plasma"
          ],
          [
           "1008.2730",
           "$J/\\psi$ production and elliptic flow in relativistic heavy-ion\n  collisions"
          ],
          [
           "1008.4432",
           "Initial and Final State Interaction Effects in Small-x Quark\n  Distributions"
          ],
          [
           "1008.4528",
           "Thermal axion production in the primordial quark-gluon plasma"
          ],
          [
           "1009.6137",
           "Quarkonium in a weakly-coupled quark-gluon plasma"
          ],
          [
           "1010.0203",
           "Search for Dijet Resonances in 7 TeV pp Collisions at CMS"
          ],
          [
           "1010.1503",
           "Novel QCD Phenomenology"
          ],
          [
           "1010.3991",
           "All tree-level amplitudes in massless QCD"
          ],
          [
           "1011.0808",
           "Quasi-diffraction production of white quark--gluon clusters at\n  superhigh-energy hadron collisions"
          ],
          [
           "1011.3131",
           "Inclusive jet production at Tevatron in the Regge limit of QCD"
          ],
          [
           "1012.0234",
           "The errant life of a heavy quark in the quark-gluon plasma"
          ],
          [
           "1012.0890",
           "Binding Energies and Melting Temperatures of Heavy Hadrons in\n  Quark-Gluon Plasma"
          ],
          [
           "1012.1178",
           "Probing gluon and heavy-quark nuclear PDFs with photon + heavy quark\n  production in pA collisions"
          ],
          [
           "1012.1544",
           "Direct Photon and Heavy Quark Jet Production at the LHC"
          ],
          [
           "1012.2288",
           "Jets and QCD: A Historical Review of the Discovery of the Quark and\n  Gluon Jets and its Impact on QCD"
          ],
          [
           "1101.4568",
           "Production of four-quark states with double heavy quarks at LHC"
          ],
          [
           "1101.5970",
           "The quark-gluon medium (micro- and macro-QCD)"
          ],
          [
           "1102.1134",
           "Testing for kt-factorization with inclusive prompt photon production at\n  LHC"
          ],
          [
           "1103.0073",
           "Quark-hadron phase transition in Brans-Dicke brane gravity"
          ],
          [
           "1103.0916",
           "Transport Model Studies of the Baryon-Rich Quark-Gluon Plasma formed in\n  Heavy Ion Collisions"
          ]
         ],
         "hovertemplate": "keywords=plasma quark-gluon production gluon quarks distributions scattering quark photon prompt<br>x=%{x}<br>y=%{y}<br>id=%{customdata[0]}<br>title=%{customdata[1]}<extra></extra>",
         "legendgroup": "plasma quark-gluon production gluon quarks distributions scattering quark photon prompt",
         "marker": {
          "color": "#636efa",
          "symbol": "circle"
         },
         "mode": "markers",
         "name": "plasma quark-gluon production gluon quarks distributions scattering quark photon prompt",
         "orientation": "v",
         "showlegend": true,
         "type": "scatter",
         "x": [
          -8.961907386779785,
          -16.734731674194336,
          -7.8139262199401855,
          19.07856559753418,
          -8.664913177490234,
          -11.624865531921387,
          -11.842367172241211,
          -13.915377616882324,
          -7.524302959442139,
          -14.87324047088623,
          -8.06385612487793,
          -1.7283694744110107,
          -6.496024131774902,
          -3.839236259460449,
          -14.563299179077148,
          -12.532352447509766,
          -6.8584136962890625,
          -9.531533241271973,
          -11.451798439025879,
          -12.94283390045166,
          -1.8004204034805298,
          -9.301952362060547,
          0.07728934288024902,
          -12.778552055358887,
          -10.885025024414062,
          -7.563378810882568,
          -2.943418502807617,
          -11.041975975036621,
          -3.5430800914764404,
          -10.894803047180176,
          -15.721256256103516,
          -7.983754634857178,
          -16.055028915405273,
          -13.727709770202637,
          -6.697292804718018,
          -10.0399808883667,
          -19.134456634521484,
          -11.758902549743652,
          -8.760146141052246,
          -11.716706275939941,
          -3.459150791168213,
          -4.374568939208984,
          -9.926034927368164,
          -2.8498313426971436,
          -5.271434783935547,
          -16.09726905822754,
          -5.249135494232178,
          -9.075928688049316,
          -11.152445793151855,
          -8.232099533081055,
          -16.41873550415039,
          -13.245681762695312,
          -9.999982833862305,
          -14.923994064331055,
          -16.127696990966797,
          -14.913125038146973,
          -11.557299613952637,
          -8.908321380615234,
          -10.825299263000488,
          -5.302413463592529,
          -1.7318824529647827,
          -1.8184508085250854,
          -10.895200729370117,
          -1.734456181526184,
          9.308046340942383,
          -9.802830696105957,
          -3.2261505126953125,
          -5.066542148590088,
          -2.795830726623535,
          -11.084600448608398,
          -13.351021766662598,
          -5.374129772186279,
          -12.450469017028809,
          -13.620967864990234,
          -6.379334449768066,
          -20.90735626220703,
          -8.252508163452148,
          -12.516573905944824,
          -12.55006217956543,
          -6.295807838439941,
          -11.849995613098145,
          -7.0503363609313965,
          -13.6876802444458,
          -7.70238733291626,
          -6.314987659454346,
          -10.305562019348145,
          -11.013346672058105,
          -2.655942678451538,
          0.2771208584308624,
          -18.21712875366211,
          -14.988924980163574,
          -5.314859867095947,
          -9.012784004211426,
          -12.31994342803955,
          -5.422503471374512,
          -5.265841960906982,
          -8.181946754455566,
          -7.115987300872803,
          -11.846247673034668,
          -3.414186954498291,
          -11.731176376342773,
          -9.006060600280762
         ],
         "xaxis": "x",
         "y": [
          6.185556888580322,
          11.73940372467041,
          12.467238426208496,
          6.969698429107666,
          9.377641677856445,
          11.7482271194458,
          10.482670783996582,
          11.543436050415039,
          -6.236625671386719,
          9.922232627868652,
          10.47486400604248,
          14.626043319702148,
          8.674546241760254,
          15.477622032165527,
          10.651185989379883,
          9.812117576599121,
          7.089649200439453,
          12.965004920959473,
          8.979683876037598,
          9.38353443145752,
          5.600226402282715,
          10.897773742675781,
          12.722308158874512,
          19.21489715576172,
          11.517197608947754,
          9.991333961486816,
          11.147171974182129,
          12.660892486572266,
          10.151786804199219,
          6.092220306396484,
          10.898292541503906,
          5.935001373291016,
          8.114737510681152,
          8.527223587036133,
          12.49682331085205,
          10.42638111114502,
          9.838692665100098,
          3.897282123565674,
          5.592718601226807,
          7.7732086181640625,
          10.344124794006348,
          11.080313682556152,
          9.207539558410645,
          15.972701072692871,
          6.899758338928223,
          11.505561828613281,
          16.85529899597168,
          9.919929504394531,
          11.80005168914795,
          7.947083950042725,
          9.977156639099121,
          9.029500961303711,
          9.290677070617676,
          9.267012596130371,
          8.383267402648926,
          5.144503116607666,
          5.69951057434082,
          4.91111421585083,
          11.04980754852295,
          6.846714019775391,
          13.317193984985352,
          5.597540378570557,
          6.059668064117432,
          14.528308868408203,
          4.4834065437316895,
          7.301724910736084,
          15.618237495422363,
          11.824406623840332,
          15.83437728881836,
          7.725696086883545,
          10.728816032409668,
          11.839974403381348,
          12.278074264526367,
          6.8362956047058105,
          9.624764442443848,
          5.320356369018555,
          9.11074447631836,
          11.210487365722656,
          11.049723625183105,
          9.579879760742188,
          21.965654373168945,
          9.426651000976562,
          6.885966777801514,
          10.984437942504883,
          16.84797477722168,
          12.265884399414062,
          10.579906463623047,
          20.9324893951416,
          10.06718635559082,
          7.513830661773682,
          4.225773334503174,
          11.833745956420898,
          7.965982437133789,
          7.476648807525635,
          8.588290214538574,
          8.522107124328613,
          13.800172805786133,
          5.886972904205322,
          21.980854034423828,
          10.684428215026855,
          8.511513710021973,
          11.346658706665039
         ],
         "yaxis": "y"
        },
        {
         "customdata": [
          [
           "0704.0264",
           "Gluon Radiation of an Expanding Color Skyrmion in the Quark-Gluon Plasma"
          ],
          [
           "0704.1410",
           "QCD thermodynamics and confinement from a dynamical quasiparticle point\n  of view"
          ],
          [
           "0704.2156",
           "First study of the gluon-quark-antiquark static potential in SU(3)\n  Lattice QCD"
          ],
          [
           "0704.2766",
           "Comparison of Particle Production in Quark and Gluon Fragmentation at\n  sqrt s ~ 10 GeV"
          ],
          [
           "0704.3914",
           "One-loop phi-MHV amplitudes using the unitarity bootstrap"
          ],
          [
           "0705.0036",
           "Enhancement of prompt photons in ultrarelativistic proton-proton\n  collisions from nonlinear gluon evolution at small-$x$"
          ],
          [
           "0705.0852",
           "Two Dimensional Quantum Well of Gluons in Color Ferromagnetic Quark\n  Matter"
          ],
          [
           "0705.1504",
           "Soft gluons in Higgs plus two jet production"
          ],
          [
           "0705.4402",
           "What the Infrared Behaviour of QCD Vertex Functions in Landau gauge can\n  tell us about Confinement"
          ],
          [
           "0706.0596",
           "Cherenkov gluons (predictions and proposals)"
          ],
          [
           "0706.2393",
           "Consequences Of Fully Dressing Quark-Gluon Vertex Function With\n  Two-Point Gluon Lines"
          ],
          [
           "0707.2944",
           "Measuring gluon shadowing with prompt photons at RHIC and LHC"
          ],
          [
           "0708.2430",
           "Schwinger Mechanism for Gluon Pair Production in the Presence of\n  Arbitrary Time Dependent Chromo-Electric Field"
          ],
          [
           "0708.3560",
           "Prompt photon hadroproduction at high energies in off-shell gluon-gluon\n  fusion"
          ],
          [
           "0708.4320",
           "Power-law running of the effective gluon mass"
          ],
          [
           "0708.4322",
           "On the behaviour of R(pA) at high energy"
          ],
          [
           "0708.4410",
           "2-soft-gluon exchange and factorization breaking"
          ],
          [
           "0709.3038",
           "Determination of nuclear parton distribution functions and their\n  uncertainties at next-to-leading order"
          ],
          [
           "0709.4406",
           "Small x gluon from exclusive J/psi production"
          ],
          [
           "0710.1300",
           "Massive Quark-Gluon Scattering Amplitudes at Tree Level"
          ],
          [
           "0710.1540",
           "Jet quenching parameter \\hat q in the stochastic QCD vacuum with Landau\n  damping"
          ],
          [
           "0710.3090",
           "Helicity Amplitudes for Charmonium Production in Hadron-Hadron and\n  Photon-Hadron Collisions"
          ],
          [
           "0710.3212",
           "Analytic derivation of the leading-order gluon distribution function\n  G(x,Q^2) = xg(x,Q^2) from the proton structure function F_2^p(x,Q^2)"
          ],
          [
           "0710.4330",
           "NLO evolution of color dipoles"
          ],
          [
           "0710.5107",
           "Multi-gluon field approach of QCD"
          ],
          [
           "0711.3576",
           "Testing the RRPP vertex of effective Regge action"
          ],
          [
           "0712.0048",
           "Regge behaviour of distribution functions and evolution of gluon\n  distribution function in Next-to-Leading order at low-x"
          ],
          [
           "0712.3273",
           "First Measurement of the Fraction of Top Quark Pair Production Through\n  Gluon-Gluon Fusion"
          ],
          [
           "0712.3732",
           "Collinear Singularities and Running Coupling Corrections to Gluon\n  Production in CGC"
          ],
          [
           "0801.3441",
           "Collins Asymmetry at Hadron Colliders"
          ],
          [
           "0802.0088",
           "Gluons in glueballs: Spin or helicity?"
          ],
          [
           "0802.4216",
           "The color gauge invariance and a possible origin of the Jaffe-Witten\n  mass gap in QCD"
          ],
          [
           "0803.0815",
           "Semirelativistic potential model for three-gluon glueballs"
          ],
          [
           "0804.3478",
           "U_A(1) anomaly and eta' mass from an infrared singular quark-gluon\n  vertex"
          ],
          [
           "0804.4149",
           "One-loop phi-MHV amplitudes using the unitarity bootstrap: the general\n  helicity case"
          ],
          [
           "0804.4729",
           "Can a chaos term in the QCD evolution equation restrain high-energy\n  collider physics?"
          ],
          [
           "0805.1752",
           "The Gluon Distribution Function and Factorization in Feynman Gauge"
          ],
          [
           "0806.0048",
           "The Emerging QCD Frontier: The Electron Ion Collider"
          ],
          [
           "0806.0247",
           "The color gauge invariance and a possible origin of a mass gap in QCD"
          ],
          [
           "0806.4705",
           "On the Perturbative Stability of the QCD Predictions for the Ratio\n  $R=F_L/F_T$ in Heavy-Quark Leptoproduction"
          ],
          [
           "0807.1093",
           "Decoherence and Entropy Production in Relativistic Nuclear Collisions"
          ],
          [
           "0807.2329",
           "In-medium QCD and Cherenkov gluons vs Mach waves at LHC"
          ],
          [
           "0807.4262",
           "Measurement of the fraction of t-tbar production via gluon-gluon fusion\n  in p-pbar collisions at sqrt(s)=1.96 TeV"
          ],
          [
           "0808.0413",
           "Determination of gluon polarization from deep inelastic scattering and\n  collider data"
          ],
          [
           "0808.2201",
           "Pressure and interaction measure of the gluon plasma"
          ],
          [
           "0808.2954",
           "Gluon saturation effects on J/Psi production in heavy ion collisions"
          ],
          [
           "0809.0599",
           "Parton energy loss due to synchrotron-like gluon emission"
          ],
          [
           "0809.4251",
           "Small-x single-particle distributions in jets from the coherent\n  branching formalism"
          ],
          [
           "0810.1026",
           "High-energy jet quenching in weakly-coupled quark-gluon plasmas"
          ],
          [
           "0810.3178",
           "Constraining the polarized gluon PDF in pp collisions at RHIC"
          ],
          [
           "0810.3333",
           "Accessing tri-gluon correlations in the nucleon via the single spin\n  asymmetry in open charm production"
          ],
          [
           "0811.0535",
           "Exotic static 3-body potentials"
          ],
          [
           "0811.2210",
           "Unitarity bound for gluon shadowing"
          ],
          [
           "0811.2418",
           "Medium-modified average multiplicity and multiplicity fluctuations in\n  jets"
          ],
          [
           "0811.2728",
           "Analytical results for O(\\alpha_s) radiative corrections to e+ e- ->\n  tbar t(pol.) up to a given gluon energy cut"
          ],
          [
           "0811.2934",
           "Medium-modified evolution of multiparticle production in jets in\n  heavy-ion collisions"
          ],
          [
           "0811.2940",
           "Elliptic flow of gluon matter in ultrarelativistic heavy-ion collisions"
          ],
          [
           "0811.4174",
           "The role of monopoles in a Gluon Plasma"
          ],
          [
           "0812.1519",
           "Coherent and incoherent diffractive hadron production in pA collisions\n  and gluon saturation"
          ],
          [
           "0812.2998",
           "Multi-gluon one-loop amplitudes numerically"
          ],
          [
           "0812.4345",
           "Production of charged spin-two gauge bosons in gluon-gluon scattering"
          ],
          [
           "0901.0199",
           "Constituent Gluon Content of the Static Quark-Antiquark State in Coulomb\n  Gauge"
          ],
          [
           "0901.4949",
           "Exact kinematics in the small x evolution of the color dipole and gluon\n  cascade"
          ],
          [
           "0902.0372",
           "Analytic derivation of the leading-order gluon distribution function\n  $G(x,Q^2)=xg(x,Q^2)$ from the proton structure function $F_2^{\\gamma\n  p}(x,Q^2)$. II. Effect of heavy quarks"
          ],
          [
           "0902.1920",
           "Heavy quarkonia spectra using wave function with gluonic components"
          ],
          [
           "0902.2950",
           "The sound produced by a fast parton in the quark-gluon plasma is a\n  \"crescendo\""
          ],
          [
           "0902.4836",
           "Glueballs and statistical mechanics of the gluon plasma"
          ],
          [
           "0903.3957",
           "Hot Quarks and Gluons at an Electron-Ion Collider"
          ],
          [
           "0904.2266",
           "Nonlinear iteration solution for the full gluon propagator as a function\n  of the mass gap"
          ],
          [
           "0904.2424",
           "Collider Inclusive Jet Data and the Gluon Distribution"
          ],
          [
           "0904.3209",
           "Gluon Polarisation in the Nucleon and Longitudinal Double Spin\n  Asymmetries from Open Charm Muoproduction"
          ],
          [
           "0905.0100",
           "The five-gluon amplitude in the high-energy limit"
          ],
          [
           "0905.4243",
           "Lattice QCD and Three-Body Exotic Systems in the static limit"
          ],
          [
           "0906.0271",
           "Inclusive $A_{LL}$ Measurements at STAR"
          ],
          [
           "0906.3147",
           "Touching on the gluon polarization in the Durham Pomeron"
          ],
          [
           "0906.5220",
           "On the imaginary part of the next-to-leading-order static gluon\n  self-energy in an anisotropic plasma"
          ],
          [
           "0907.0082",
           "Renormalization of the mass gap"
          ],
          [
           "0907.0966",
           "Radiative QCD backgrounds to exclusive H -> bb(bar) production:\n  radiation from the screening gluon"
          ],
          [
           "0907.1029",
           "Gluon Bremsstrahlung in Weakly-Coupled Plasmas"
          ],
          [
           "0907.2575",
           "Synchrotron-like gluon emission in the quark-gluon plasma"
          ],
          [
           "0907.3555",
           "Role of anomalous chromomagnetic interaction in Pomeron and Odderon\n  structures and in gluon distribution"
          ],
          [
           "0907.4353",
           "The Role of Color-Magnetic Monopoles in a Gluonic Plasma"
          ],
          [
           "0908.0715",
           "Gluon Structure Function of a Color Dipole in the Light-Cone Limit of\n  Lattice QCD"
          ],
          [
           "0909.4475",
           "One-loop Higgs plus four gluon amplitudes: Full analytic results"
          ],
          [
           "0910.0099",
           "Equations, chromopermittivity and instabilities of the quark-gluon\n  medium"
          ],
          [
           "0910.1350",
           "Gluon-initiated production of a Kaluza-Klein gluon in a Bulk\n  Randall-Sundrum model"
          ],
          [
           "0910.2794",
           "Gluon chains and the quark-antiquark potential"
          ],
          [
           "0910.4142",
           "Gluon mass generation without seagull divergences"
          ],
          [
           "0910.4828",
           "Gluon propagators and center vortices at finite temperature"
          ],
          [
           "0910.4855",
           "How Many Degrees of Freedom Has the Gluon ?"
          ],
          [
           "0910.5113",
           "The Factorisation of the t-channel Pole in Quark-Gluon Scattering"
          ],
          [
           "0910.5689",
           "QCD phenomenology with infrared finite SDE solutions"
          ],
          [
           "0911.1951",
           "Scalar gluons and Dirac gluinos at the LHC"
          ],
          [
           "0911.2720",
           "Long range two-particle rapidity correlations in A+A collisions from\n  high energy QCD evolution"
          ],
          [
           "0911.3912",
           "Gluon masses without seagull divergences"
          ],
          [
           "0911.3939",
           "A quantum model of dark energy"
          ],
          [
           "0911.5166",
           "Threshold expansion of the gg(qq) -> QQ+X cross section at O(alpha_s^4)"
          ],
          [
           "0911.5539",
           "The Fragmentation Function of Gluon Splitting into P-wave Spin-singlet\n  Heavy Quarkonium"
          ],
          [
           "0912.0437",
           "Lattice QCD Analysis for Gluons"
          ],
          [
           "0912.0844",
           "Gluons, quarks and deconfinement at high density"
          ],
          [
           "0912.2987",
           "Hard collinear gluon radiation and multiple scattering in a medium"
          ],
          [
           "1001.4749",
           "Total Cross-sections at very high energies: from protons to photons"
          ],
          [
           "1002.4151",
           "Running Gluon Mass from Landau Gauge Lattice QCD Propagator"
          ],
          [
           "1003.1223",
           "BKP states in the inclusive gluon production"
          ],
          [
           "1003.2145",
           "Some remarks about the transition gluon radiation"
          ],
          [
           "1004.0166",
           "SU(3) gauge invariant lattice QCD exploration of the dual superconductor\n  picture in flux tube fusion, in the dual gluon mass, and in the dual\n  Ginzburg-Landau parameters"
          ],
          [
           "1004.0733",
           "Abrikosov Gluon Vortices in Color Superconductors"
          ],
          [
           "1004.4875",
           "Charged hadrons and nuclear parton distributions in p(d)A collisions"
          ],
          [
           "1005.0850",
           "Upper Limits on a Possible Gluon Mass"
          ],
          [
           "1005.4786",
           "A new approach to calculate the gluon polarization"
          ],
          [
           "1005.5122",
           "Gluon emission in Quark-Gluon Plasma"
          ],
          [
           "1005.5290",
           "Ghost-gluon coupling, power corrections and $\\Lambda_{\\overline {\\rm\n  MS}}$ from twisted-mass lattice QCD at Nf=2"
          ],
          [
           "1006.0204",
           "Exclusive Physics at the Tevatron"
          ],
          [
           "1006.1849",
           "Double real radiation corrections to gluon scattering at NNLO"
          ],
          [
           "1006.2704",
           "New insights on non-perturbative Yang-Mills"
          ],
          [
           "1007.0208",
           "Soft gluon resummation in the infrared region and the Froissart bound"
          ],
          [
           "1008.0923",
           "Polarization properties of the quark-gluon medium"
          ],
          [
           "1008.1869",
           "Y(9.46 GeV) and the gluon discovery (a critical recollection of PLUTO\n  results)"
          ],
          [
           "1008.1936",
           "The gluon jet function at two-loop order"
          ],
          [
           "1009.2141",
           "kt-factorization for Hard Processes in Nuclei"
          ],
          [
           "1009.2965",
           "Antiangular Ordering of Gluon Radiation in QCD Media"
          ],
          [
           "1010.0841",
           "Gluons in proton and soft pp collisions at high energies"
          ],
          [
           "1010.1405",
           "Gluon polarisation from high transverse momentum hadron pairs production\n  (COMPASS)"
          ],
          [
           "1010.1975",
           "Gluon Mass in Landau Gauge QCD"
          ],
          [
           "1010.2357",
           "Compass Results on Gluon Polarisation from High pT hadron pairs"
          ],
          [
           "1010.4630",
           "Gluon saturation and inclusive production at low transverse momenta"
          ],
          [
           "1011.0340",
           "Cherenkov Radiation of Gluon Currents"
          ],
          [
           "1011.3918",
           "QCD transverse-momentum resummation in gluon fusion processes"
          ],
          [
           "1011.4225",
           "Direct Probes of Linearly Polarized Gluons inside Unpolarized Hadrons"
          ],
          [
           "1011.5161",
           "A model for gluon production in heavy-ion collisions at the LHC with\n  rcBK unintegrated gluon densities"
          ],
          [
           "1012.4224",
           "From EMC- and Cronin-effects to signals of quark-gluon plasma"
          ],
          [
           "1012.4443",
           "QCD effective charge and the structure function $F_{2}$ at small-$x$"
          ],
          [
           "1012.4601",
           "\\Delta G/G results from the COMPASS experiment for Q^2 > 1 GeV^2, using\n  high p_T hadrons"
          ],
          [
           "1012.5266",
           "Gluon condensates in a cold quark gluon plasma"
          ],
          [
           "1101.0715",
           "Universality of Unintegrated Gluon Distributions at small x"
          ],
          [
           "1101.4471",
           "Peripherical processes 2 $\\to$ 3 and 2 $\\to$ 4 in QED and QCD in $p(\\bar\n  p)p$ high energy collisions"
          ],
          [
           "1101.5358",
           "Proper identification of the gluon spin"
          ],
          [
           "1102.2528",
           "On angular ordering in medium-induced radiation"
          ],
          [
           "1103.2334",
           "Diffraction phenomenology with massive gluons: some recent developments"
          ]
         ],
         "hovertemplate": "keywords=collisions energy high gluon data gluons mass lattice scattering gluon-gluon role<br>x=%{x}<br>y=%{y}<br>id=%{customdata[0]}<br>title=%{customdata[1]}<extra></extra>",
         "legendgroup": "collisions energy high gluon data gluons mass lattice scattering gluon-gluon role",
         "marker": {
          "color": "#EF553B",
          "symbol": "circle"
         },
         "mode": "markers",
         "name": "collisions energy high gluon data gluons mass lattice scattering gluon-gluon role",
         "orientation": "v",
         "showlegend": true,
         "type": "scatter",
         "x": [
          -12.222103118896484,
          -14.072198867797852,
          -14.346735000610352,
          -6.208662986755371,
          -17.00885009765625,
          -3.0375986099243164,
          -12.705561637878418,
          -10.843019485473633,
          -16.13921546936035,
          -14.339635848999023,
          -15.955805778503418,
          3.6864211559295654,
          -11.403780937194824,
          -2.908036470413208,
          -18.35927391052246,
          -8.607780456542969,
          -16.331085205078125,
          -15.027308464050293,
          -9.487689971923828,
          -18.0091495513916,
          -13.598212242126465,
          -15.438000679016113,
          -19.18918228149414,
          -18.51882553100586,
          -12.903965950012207,
          -11.5183687210083,
          -18.0379695892334,
          -4.995596885681152,
          -9.878167152404785,
          -17.272613525390625,
          -15.539605140686035,
          -16.9561767578125,
          -15.085463523864746,
          -15.718093872070312,
          -17.06767463684082,
          -8.651056289672852,
          -12.740533828735352,
          -10.590490341186523,
          -16.777629852294922,
          -14.163595199584961,
          -16.652868270874023,
          -13.982114791870117,
          -4.947172164916992,
          -11.450274467468262,
          -13.350180625915527,
          -8.948485374450684,
          -14.706033706665039,
          -7.353984355926514,
          -12.899312019348145,
          -11.457998275756836,
          -10.365878105163574,
          -14.208921432495117,
          -9.009194374084473,
          -7.546719551086426,
          -10.560013771057129,
          -7.579512596130371,
          -8.979241371154785,
          -21.400922775268555,
          3.9017274379730225,
          -16.25871467590332,
          -10.663880348205566,
          -15.098401069641113,
          -14.051828384399414,
          -19.119672775268555,
          -13.802987098693848,
          -12.104435920715332,
          -13.566169738769531,
          -10.72552490234375,
          -16.96109390258789,
          19.899682998657227,
          -21.231416702270508,
          -16.002037048339844,
          -14.136938095092773,
          -11.415038108825684,
          -11.821637153625488,
          -18.45937728881836,
          -17.140470504760742,
          -11.484615325927734,
          -12.954607009887695,
          -14.716304779052734,
          -11.967889785766602,
          -21.396732330322266,
          -14.180243492126465,
          -13.595420837402344,
          -13.57996940612793,
          -11.868693351745605,
          -15.02109146118164,
          -18.294677734375,
          -16.508163452148438,
          -15.454187393188477,
          -10.480896949768066,
          -20.058197021484375,
          -4.665003299713135,
          -7.720876693725586,
          -18.352108001708984,
          -14.72359848022461,
          -5.546548843383789,
          -5.834961414337158,
          -17.642101287841797,
          -17.026594161987305,
          -9.824530601501465,
          -6.095169544219971,
          -18.15147590637207,
          -1.8094369173049927,
          -10.205120086669922,
          -14.709768295288086,
          -14.283404350280762,
          2.8671722412109375,
          -16.881126403808594,
          -11.542118072509766,
          -13.153064727783203,
          -19.553560256958008,
          -3.649517297744751,
          23.252849578857422,
          -19.369352340698242,
          -6.173279762268066,
          -13.35936450958252,
          -9.076010704040527,
          -8.446573257446289,
          -7.555572986602783,
          -9.801600456237793,
          -2.2448477745056152,
          -21.913515090942383,
          -18.145383834838867,
          -21.701457977294922,
          0.10574043542146683,
          -13.982038497924805,
          -11.018373489379883,
          -15.763557434082031,
          -0.03847397863864899,
          -9.042753219604492,
          -20.77361297607422,
          -21.714282989501953,
          -13.016412734985352,
          -7.565700054168701,
          -7.910745143890381,
          -12.638455390930176,
          -9.766902923583984,
          -20.65973663330078
         ],
         "xaxis": "x",
         "y": [
          13.687923431396484,
          11.845856666564941,
          13.437711715698242,
          14.68408489227295,
          18.020780563354492,
          12.112277030944824,
          12.539172172546387,
          -1.0994439125061035,
          11.737446784973145,
          20.909391403198242,
          12.391148567199707,
          18.82016372680664,
          14.36413288116455,
          11.112659454345703,
          15.30650806427002,
          18.189987182617188,
          4.289369583129883,
          0.6660393476486206,
          17.05832862854004,
          8.230460166931152,
          17.94951057434082,
          4.3187947273254395,
          10.12673568725586,
          11.805843353271484,
          13.316537857055664,
          16.088611602783203,
          10.550294876098633,
          13.823077201843262,
          16.091157913208008,
          4.705028533935547,
          16.29651641845703,
          15.140690803527832,
          15.376909255981445,
          12.058492660522461,
          18.04909324645996,
          20.32280731201172,
          16.858680725097656,
          19.13339614868164,
          15.040288925170898,
          0.34126046299934387,
          20.059228897094727,
          21.971092224121094,
          13.861828804016113,
          17.790136337280273,
          14.866869926452637,
          17.090259552001953,
          18.845849990844727,
          14.515049934387207,
          18.594776153564453,
          17.0167293548584,
          14.271120071411133,
          13.532529830932617,
          18.721364974975586,
          21.92987632751465,
          16.842227935791016,
          21.89215660095215,
          12.120226860046387,
          11.962740898132324,
          14.881071090698242,
          17.681406021118164,
          15.948885917663574,
          14.219830513000488,
          16.240381240844727,
          10.094794273376465,
          12.627570152282715,
          20.966339111328125,
          14.839932441711426,
          19.003520965576172,
          15.130290985107422,
          7.984362602233887,
          6.167110443115234,
          17.67755126953125,
          13.524238586425781,
          15.12929916381836,
          15.302055358886719,
          1.569595456123352,
          14.702569961547852,
          -4.193010330200195,
          18.751113891601562,
          18.810752868652344,
          13.007063865661621,
          11.96336555480957,
          16.269990921020508,
          -3.794337749481201,
          21.398378372192383,
          2.5482430458068848,
          14.195154190063477,
          16.17054557800293,
          13.772867202758789,
          15.73171615600586,
          15.198633193969727,
          14.842750549316406,
          1.0061038732528687,
          18.19415283203125,
          16.191280364990234,
          17.087303161621094,
          20.594057083129883,
          15.199710845947266,
          13.807485580444336,
          12.865336418151855,
          15.577983856201172,
          19.046424865722656,
          14.083312034606934,
          8.610113143920898,
          21.08006477355957,
          13.081134796142578,
          15.307927131652832,
          17.021869659423828,
          16.294315338134766,
          17.509445190429688,
          15.990592002868652,
          13.504117965698242,
          12.70248031616211,
          -8.228649139404297,
          15.267033576965332,
          19.002986907958984,
          21.400367736816406,
          14.402074813842773,
          14.554192543029785,
          16.966585159301758,
          22.388648986816406,
          14.713581085205078,
          6.566336154937744,
          14.092589378356934,
          6.472671985626221,
          15.683417320251465,
          21.055164337158203,
          -0.47495216131210327,
          4.3973565101623535,
          17.708284378051758,
          19.30820083618164,
          16.439544677734375,
          6.504911422729492,
          14.418135643005371,
          16.944190979003906,
          15.492712020874023,
          15.618715286254883,
          22.445222854614258,
          14.49278450012207
         ],
         "yaxis": "y"
        },
        {
         "customdata": [
          [
           "0704.0294",
           "QED x QCD Resummation and Shower/ME Matching for LHC Physics"
          ],
          [
           "0704.1344",
           "Resummation Effects in the Search of SM Higgs Boson at Hadron Colliders"
          ],
          [
           "0704.1677",
           "Resummed Cross Section for Jet Production at Hadron Colliders"
          ],
          [
           "0705.3887",
           "Higgs boson production at the LHC: transverse-momentum resummation and\n  rapidity dependence"
          ],
          [
           "0706.2722",
           "Three-jet event-shapes: first NLO+NLL+1/Q results"
          ],
          [
           "0706.3079",
           "Revisiting the QCD corrections to the R-parity violating processes\n  $p\\bar{p}/pp \\to e\\mu+X$"
          ],
          [
           "0706.3766",
           "Photoproduction of Hadron Pairs at Fixed-Target Experiments"
          ],
          [
           "0707.3952",
           "Threshold Resummation Effects in the Associated Production of Chargino\n  and Neutralino at Hadron Colliders"
          ],
          [
           "0708.1277",
           "Resummation of Hadroproduction Cross-sections at High Energy"
          ],
          [
           "0708.3060",
           "Single-Inclusive Hadron Production in Polarized pp Scattering at\n  Next-to-Leading Logarithmic Accuracy"
          ],
          [
           "0708.3782",
           "QCD-resummation and non-minimal flavour-violation for supersymmetric\n  particle production at hadron colliders"
          ],
          [
           "0709.3057",
           "Joint resummation for slepton pair production at hadron colliders"
          ],
          [
           "0709.3252",
           "BFKL resummation effects in exclusive production of rho meson pairs at\n  the ILC"
          ],
          [
           "0710.1573",
           "Threshold Effects in Slepton-Pair Production at the LHC"
          ],
          [
           "0710.2002",
           "Transverse-momentum, threshold and joint resummations for slepton pair\n  production at hadron colliders"
          ],
          [
           "0710.2422",
           "Soft-gluon resummation for Higgs differential distributions at the Large\n  Hadron Collider"
          ],
          [
           "0711.0749",
           "Precision predictions for Z'-production at the CERN LHC: QCD matrix\n  elements, parton showers, and joint resummation"
          ],
          [
           "0711.1086",
           "Large x Resummation in Q^2 Evolution"
          ],
          [
           "0711.1916",
           "Soft-gluon resummation for pseudoscalar Higgs boson production at hadron\n  colliders"
          ],
          [
           "0802.0032",
           "Small x Resummation with Quarks: Deep-Inelastic Scattering"
          ],
          [
           "0802.4240",
           "Resummations in QCD hard-scattering at large and small x"
          ],
          [
           "0803.0342",
           "A precise determination of alpha_s from LEP thrust data using effective\n  field theory"
          ],
          [
           "0805.1885",
           "Threshold Resummation for the Top Quark Charge Asymmetry"
          ],
          [
           "0805.2004",
           "Precision predictions for Z' production at the LHC"
          ],
          [
           "0807.2405",
           "Threshold resummation for squark-antisquark and gluino-pair production\n  at the LHC"
          ],
          [
           "0807.4515",
           "Single-inclusive hadron production in transversely polarized p-p and\n  pbar-p collisions with threshold resummation"
          ],
          [
           "0812.0353",
           "On the Soft-Gluon Resummation in Top Quark Pair Production at Hadron\n  Colliders"
          ],
          [
           "0812.2862",
           "Transverse-momentum resummation: a perturbative study of Z production at\n  the Tevatron"
          ],
          [
           "0901.2427",
           "Higgs production through gluon fusion: updated cross sections at the\n  Tevatron and the LHC"
          ],
          [
           "0901.2798",
           "Double Transverse-Spin Asymmetries for Small-Q_T Drell-Yan Pair\n  Production in p\\bar{p} Collisions"
          ],
          [
           "0901.3301",
           "Factorization and resummation for color octet production"
          ],
          [
           "0902.2702",
           "On threshold resummation beyond leading 1-x order"
          ],
          [
           "0903.1798",
           "Nonperturbative Effect in Threshold Resummation"
          ],
          [
           "0903.5047",
           "Threshold Resummation Effects in Neutral Higgs Boson Production by\n  Bottom Quark Fusion at the CERN Large Hadron Collider"
          ],
          [
           "0905.4749",
           "Soft gluon resummation for the production of gluino-gluino and\n  squark-antisquark pairs at the LHC"
          ],
          [
           "0906.2418",
           "Gaps between jets and soft gluon resummation"
          ],
          [
           "0906.4159",
           "High-energy resummation in direct photon production"
          ],
          [
           "0906.4277",
           "The Z boson a_T distribution at hadron colliders"
          ],
          [
           "0907.1105",
           "Transverse-momentum resummation for gaugino-pair production at hadron\n  colliders"
          ],
          [
           "0907.1234",
           "Threshold Resummation for Di-hadron Production in Hadronic Collisions"
          ],
          [
           "0908.1338",
           "Transverse-momentum resummation at hadron colliders"
          ],
          [
           "0908.2746",
           "Higher-order threshold resummation for semi-inclusive e^+e^-\n  annihilation"
          ],
          [
           "0908.4149",
           "Transverse-momentum resummation for gaugino-pair production at the LHC"
          ],
          [
           "0909.3488",
           "Colour structure in threshold resummation and squark-antisquark\n  production at NLL"
          ],
          [
           "0909.4418",
           "Soft-gluon resummation for squark and gluino hadroproduction"
          ],
          [
           "0909.5327",
           "The aT distribution of the Z boson at hadron colliders"
          ],
          [
           "0910.2934",
           "Scale Evolution of Unintegrated Distributions and the p_t Spectrum of\n  Gauge Bosons"
          ],
          [
           "0911.0681",
           "Direct photon production with effective field theory"
          ],
          [
           "1001.3123",
           "Soft gluon resummation for squark and gluino pair-production at hadron\n  colliders"
          ],
          [
           "1001.4082",
           "Phenomenology of event shapes at hadron colliders"
          ],
          [
           "1001.4621",
           "All-order colour structure and two-loop anomalous dimension of soft\n  radiation in heavy-particle pair production at the LHC"
          ],
          [
           "1001.4627",
           "Soft and Coulomb gluon resummation in squark-antisquark production at\n  the LHC"
          ],
          [
           "1004.0764",
           "Single-inclusive jet production in polarized pp collisions at RHIC to\n  next-to-leading logarithmic accuracy"
          ],
          [
           "1005.2909",
           "Threshold resummation for gaugino pair production at hadron colliders"
          ],
          [
           "1005.3849",
           "Two-loop resummation for QCD hard scattering"
          ],
          [
           "1005.4451",
           "Two-loop soft anomalous dimensions for single top quark associated\n  production with a W- or H-"
          ],
          [
           "1006.0681",
           "Factorization and resummation of s-channel single top quark production"
          ],
          [
           "1006.2314",
           "High-energy resummation at the LHC: the case of Drell-Yan processes"
          ],
          [
           "1006.4250",
           "High energy resummation of direct photon production at hadronic\n  colliders"
          ],
          [
           "1006.4680",
           "Infrared Singularities and Soft Gluon Resummation with Massive Partons"
          ],
          [
           "1006.4771",
           "Supersymmetric top and bottom squark production at hadron colliders"
          ],
          [
           "1007.2351",
           "Production of Drell--Yan lepton pairs in hadron collisions:\n  transverse-momentum resummation at next-to-next-to-leading logarithmic\n  accuracy"
          ],
          [
           "1007.5405",
           "HERA data and DGLAP evolution: theory and phenomenology"
          ],
          [
           "1007.5414",
           "Threshold resummation for pair production of coloured heavy (s)particles\n  at hadron colliders"
          ],
          [
           "1009.2436",
           "Threshold and transverse-momentum resummations for gaugino-pair\n  hadroproduction"
          ],
          [
           "1009.2481",
           "Soft-Gluon Resummation and the Valence Parton Distribution Function of\n  the Pion"
          ],
          [
           "1009.5691",
           "Soft gluon resummation of Drell-Yan rapidity distributions: theory and\n  phenomenology"
          ],
          [
           "1010.1860",
           "Next-to-eikonal corrections to soft gluon radiation: a diagrammatic\n  approach"
          ],
          [
           "1010.2743",
           "Small x resummation of rapidity distributions: the case of Higgs\n  production"
          ],
          [
           "1010.4509",
           "Factorization and resummation of t-channel single top quark production"
          ],
          [
           "1011.4866",
           "NNLL resummation for QCD cross sections"
          ],
          [
           "1101.0148",
           "Event shapes at hadron colliders"
          ],
          [
           "1102.3594",
           "QCD predictions for new variables to study dilepton transverse momenta\n  at hadron colliders"
          ],
          [
           "1102.4422",
           "Joint Resummation for Gaugino Pair Production at Hadron Colliders"
          ]
         ],
         "hovertemplate": "keywords=hadron cross production large lhc functions collisions polarized order results relevant<br>x=%{x}<br>y=%{y}<br>id=%{customdata[0]}<br>title=%{customdata[1]}<extra></extra>",
         "legendgroup": "hadron cross production large lhc functions collisions polarized order results relevant",
         "marker": {
          "color": "#00cc96",
          "symbol": "circle"
         },
         "mode": "markers",
         "name": "hadron cross production large lhc functions collisions polarized order results relevant",
         "orientation": "v",
         "showlegend": true,
         "type": "scatter",
         "x": [
          5.872409343719482,
          -1.2814905643463135,
          9.802616119384766,
          -0.9528617262840271,
          14.839723587036133,
          3.3208274841308594,
          11.58944034576416,
          2.9463014602661133,
          7.653193950653076,
          9.601770401000977,
          5.232410907745361,
          6.015254020690918,
          18.577259063720703,
          3.5500612258911133,
          6.255502700805664,
          -0.972095251083374,
          5.34934663772583,
          12.092596054077148,
          -0.677749514579773,
          8.444016456604004,
          -5.093178749084473,
          11.885592460632324,
          9.68332576751709,
          5.614250183105469,
          -3.192567825317383,
          9.45411491394043,
          1.5871212482452393,
          9.903239250183105,
          -2.862330675125122,
          10.873090744018555,
          -6.7578935623168945,
          12.076981544494629,
          9.11176872253418,
          2.3691961765289307,
          -3.204345941543579,
          -9.964152336120605,
          7.498994827270508,
          5.715632915496826,
          8.075837135314941,
          9.251412391662598,
          8.29586124420166,
          -4.097044944763184,
          8.089015007019043,
          -2.701430559158325,
          -2.993089199066162,
          5.712765216827393,
          -15.611948013305664,
          11.385316848754883,
          -2.5113306045532227,
          14.83808422088623,
          -2.822800397872925,
          -1.9128286838531494,
          9.767194747924805,
          7.4545674324035645,
          -4.106400012969971,
          -0.9271867275238037,
          2.662841796875,
          10.554118156433105,
          7.472427845001221,
          -4.519022464752197,
          0.03488704934716225,
          10.739425659179688,
          14.411092758178711,
          -2.0085232257843018,
          7.189523220062256,
          11.886887550354004,
          8.701273918151855,
          -0.5639168620109558,
          -5.536948204040527,
          2.64223313331604,
          -4.258893966674805,
          14.897956848144531,
          5.95181941986084,
          7.281714916229248
         ],
         "xaxis": "x",
         "y": [
          -16.14363670349121,
          -15.749654769897461,
          -15.232261657714844,
          -14.532731056213379,
          -9.757659912109375,
          -7.828799247741699,
          -11.291888236999512,
          -9.752949714660645,
          -16.038606643676758,
          -14.443768501281738,
          -18.961231231689453,
          -18.738840103149414,
          -9.204761505126953,
          -10.742366790771484,
          -18.702880859375,
          -14.405624389648438,
          -17.43642234802246,
          -16.274654388427734,
          -14.188798904418945,
          -17.096736907958984,
          -1.0698773860931396,
          -14.67817497253418,
          -16.19049072265625,
          -17.775815963745117,
          -0.29576200246810913,
          -14.545869827270508,
          -0.8478708863258362,
          -17.956865310668945,
          -9.748625755310059,
          -17.535720825195312,
          -0.40387728810310364,
          -15.969998359680176,
          -18.16651725769043,
          -9.929190635681152,
          -0.20704121887683868,
          0.1566944271326065,
          -16.00281524658203,
          -21.697551727294922,
          -20.409931182861328,
          -15.657423973083496,
          -19.28813934326172,
          -3.1141114234924316,
          -20.421466827392578,
          -2.047938346862793,
          -0.4510354995727539,
          -21.69809341430664,
          -5.971460819244385,
          -14.33593463897705,
          -1.221462607383728,
          -9.708612442016602,
          -2.002692699432373,
          -2.5866587162017822,
          -14.178147315979004,
          -18.0855712890625,
          -2.103868246078491,
          -1.1917212009429932,
          -8.814520835876465,
          -18.96100616455078,
          -16.103240966796875,
          -2.145766258239746,
          -3.5626304149627686,
          -17.858858108520508,
          -17.048635482788086,
          -2.5784800052642822,
          -19.145658493041992,
          -18.305072784423828,
          -17.4923038482666,
          -2.370844841003418,
          -5.120564937591553,
          -8.747528076171875,
          -2.14568829536438,
          -9.64986801147461,
          -20.751317977905273,
          -18.65711784362793
         ],
         "yaxis": "y"
        },
        {
         "customdata": [
          [
           "0704.0840",
           "Associated production of the charged Higgs boson and single top quark at\n  the LHC"
          ],
          [
           "0704.1143",
           "Challenges for MSSM Higgs searches at Hadron Colliders"
          ],
          [
           "0705.0035",
           "Higgs boson production with one bottom quark including higher-order\n  soft-gluon corrections"
          ],
          [
           "0705.2413",
           "Accurate backgrounds to Higgs production at the LHC"
          ],
          [
           "0705.2744",
           "Distributions for MSSM Higgs boson + jet production at hadron colliders"
          ],
          [
           "0705.3392",
           "Higgs-pair Production in Littlest Higgs Model with T-parity"
          ],
          [
           "0706.2665",
           "Higgs Pair Production at the LHC in Models with Universal Extra\n  Dimensions"
          ],
          [
           "0707.0797",
           "Higgs boson plus photon production at the LHC: a clean probe of the\n  b-quark parton densities"
          ],
          [
           "0707.4658",
           "Higgs Hadroproduction at Large Feynman x"
          ],
          [
           "0709.2668",
           "Higgs Production by Gluon initiated Weak Boson Fusion"
          ],
          [
           "0709.3513",
           "Loop induced interference effects in Higgs Boson plus two jet production\n  at the LHC"
          ],
          [
           "0710.0203",
           "Double Parton Scattering in Associate Higgs Boson Production with Bottom\n  Quarks at Hadron Colliders"
          ],
          [
           "0710.1761",
           "Search for Charged Higgs Bosons at the LHC"
          ],
          [
           "0710.4331",
           "SUSY QCD Corrections to Higgs Pair Production from Bottom Quark Fusion"
          ],
          [
           "0710.4749",
           "Electroweak and QCD corrections to Higgs production via vector-boson\n  fusion at the LHC"
          ],
          [
           "0710.4781",
           "Distributions for Higgs + jet at hadron colliders: MSSM vs SM"
          ],
          [
           "0710.5038",
           "Higgs boson productions at LHC as a probe of different littlest Higgs\n  models with T-parity"
          ],
          [
           "0711.0828",
           "Pseudo-Goldstone Higgs Production via Gluon Fusion"
          ],
          [
           "0711.2589",
           "Gauge-Higgs Unification at LHC"
          ],
          [
           "0711.3951",
           "The Higgs search of the MSSM with explicit CP violation at the LHC and\n  ILC"
          ],
          [
           "0712.2466",
           "Higgs Signal for h to aa at Hadron Colliders"
          ],
          [
           "0712.2895",
           "Electroweak and QCD corrections to Higgs-boson production in\n  vector-boson fusion at the LHC"
          ],
          [
           "0801.2229",
           "Higher-order QCD effects in the Higgs to ZZ search channel at the LHC"
          ],
          [
           "0801.2297",
           "Determining the CP parity of Higgs bosons at the LHC in their tau decay\n  channels"
          ],
          [
           "0801.2361",
           "Neutral scalar Higgs bosons in the USSM at the LHC"
          ],
          [
           "0801.2682",
           "QCD radiation effects on the H->WW->l nu l nu signal at the LHC"
          ],
          [
           "0801.3232",
           "NNLO predictions for the Higgs boson signal in the H->WW->lnu lnu and\n  H->ZZ->4l decay channels"
          ],
          [
           "0801.4231",
           "Mixed QCD-electroweak contributions to Higgs-plus-dijet production at\n  the LHC"
          ],
          [
           "0802.0171",
           "Dominant two-loop electroweak corrections to the hadroproduction of a\n  pseudoscalar Higgs boson and its photonic decay"
          ],
          [
           "0802.1410",
           "HNNLO: a Monte Carlo program to compute Higgs boson production at hadron\n  colliders"
          ],
          [
           "0802.1572",
           "Production of the charged Higgs bosons at the CERN Large Hadron Collider\n  in the left-right symmetric model"
          ],
          [
           "0802.2858",
           "A New Framework for Multijet Predictions and its application to Higgs\n  Boson production at the LHC"
          ],
          [
           "0803.0457",
           "Hard QCD at hadron colliders"
          ],
          [
           "0803.0672",
           "Higgs boson mass in supersymmetry to three loops"
          ],
          [
           "0803.0887",
           "Off resonance background effects in e+e- -> t anti-t H"
          ],
          [
           "0804.2428",
           "Quantum Effects in Higgs-Boson Production Processes at Hadron Colliders"
          ],
          [
           "0805.0973",
           "FCNC-induced heavy-quark events at the LHC from Supersymmetry"
          ],
          [
           "0805.2223",
           "Higgs Production via b bbar -> H in Hadron Colliders"
          ],
          [
           "0806.1157",
           "Associated W and Higgs boson photoproduction and other electroweak\n  photon induced processes at the LHC"
          ],
          [
           "0806.2200",
           "Next-to-leading order QCD corrections to light Higgs Pair production via\n  vector boson fusion"
          ],
          [
           "0806.3336",
           "HNNLO: a MC program for Higgs boson production at hadron colliders"
          ],
          [
           "0807.0024",
           "Gluon-induced QCD corrections to pp --> ZZ --> l anti-l l' anti-l'"
          ],
          [
           "0807.0831",
           "Possible impact of the fourth generation quarks on production of a\n  charged Higgs boson at the LHC"
          ],
          [
           "0808.0331",
           "Flavorful $Z^\\prime$ signatures at LHC and ILC"
          ],
          [
           "0808.3008",
           "Origin of the Large Perturbative Corrections to Higgs Production at\n  Hadron Colliders"
          ],
          [
           "0808.3696",
           "Higgs Boson Production in Association with Multiple Hard Jets"
          ],
          [
           "0809.0425",
           "Diffractive Higgs boson photoproduction in $\\gamma p$ process"
          ],
          [
           "0809.1301",
           "NLO Electroweak Corrections to Higgs Boson Production at Hadron\n  Colliders"
          ],
          [
           "0809.3693",
           "Higgs Production via Gluon-Induced Weak Boson Fusion"
          ],
          [
           "0809.4283",
           "Renormalization-Group Improved Prediction for Higgs Production at Hadron\n  Colliders"
          ],
          [
           "0809.4641",
           "QCD Radiation Effects on the H->WW->l nu l nu Signal at Hadron Colliders"
          ],
          [
           "0809.4934",
           "Finite-top-mass effects in NNLO Higgs production"
          ],
          [
           "0810.0433",
           "Effects of the anomalous Higgs couplings on the Higgs boson production\n  at the Large Hadron Collider"
          ],
          [
           "0810.1158",
           "(SUSY) Higgs Search at the LHC"
          ],
          [
           "0810.4078",
           "One-Loop Yukawa Corrections to the Process pp -> b anti-b H in the\n  Standard Model at the LHC: Landau Singularities"
          ],
          [
           "0810.4313",
           "Light Higgs Boson Production in Two Higgs Doublets Models type III"
          ],
          [
           "0811.3458",
           "Mixed QCD-electroweak corrections to Higgs boson production in gluon\n  fusion"
          ],
          [
           "0812.1129",
           "CP violation in associated production of a charged Higgs boson and a top\n  quark at the LHC"
          ],
          [
           "0812.1175",
           "Higgs boson at LHC: a diffractive opportunity"
          ],
          [
           "0812.1798",
           "h-> mu^+ mu^- via tth Production at the LHC"
          ],
          [
           "0812.3712",
           "Resonance--Continuum Interference in Light Higgs Boson Production at a\n  Photon Collider"
          ],
          [
           "0812.4609",
           "Higgs boson decays and production via gluon fusion at LHC in littlest\n  Higgs models with T-parity"
          ],
          [
           "0903.2885",
           "QCD corrections to associated Higgs boson production with a W boson pair\n  at the LHC"
          ],
          [
           "0903.4135",
           "MC@NLO for the hadronic decay of Higgs bosons in associated production\n  with vector bosons"
          ],
          [
           "0903.4606",
           "e+ e- -> t anti-t H including decays: on the size of background\n  contributions"
          ],
          [
           "0903.4800",
           "Search for the standard model Higgs boson in tau final states"
          ],
          [
           "0904.0230",
           "Higgs Production and Decay from TeV Scale Black Holes at the LHC"
          ],
          [
           "0904.1646",
           "Associated production of the Higgs boson and a single top quark in the\n  littlest Higgs model at Large Hadron Collier"
          ],
          [
           "0905.0597",
           "Pair production of neutral Higgs bosons from the left-right twin Higgs\n  model at the ILC and LHC"
          ],
          [
           "0905.1894",
           "Associated production of Higgs boson and heavy quarks at the LHC:\n  predictions with the kt-factorization"
          ],
          [
           "0905.2775",
           "Electroweak and finite quark-mass effects on the Higgs boson transverse\n  momentum distribution"
          ],
          [
           "0905.4314",
           "Jet angular correlation in vector-boson fusion processes at hadron\n  colliders"
          ],
          [
           "0905.4554",
           "Higgs Production via Gluon Fusion in a Six Dimensional Universal Extra\n  Dimension Model on S^2/Z_2"
          ],
          [
           "0906.1965",
           "All-Order Corrections To Higgs Boson Production In Association With Jets"
          ],
          [
           "0906.5526",
           "Exotic quark effects on the Higgs sector of the USSM at the LHC"
          ],
          [
           "0907.5367",
           "Transverse mass observables for charged Higgs searches at hadron\n  colliders"
          ],
          [
           "0908.1811",
           "Search for charged Higgs bosons in top quark decays"
          ],
          [
           "0908.3641",
           "Theoretical Status of Higgs Production at Hadron Colliders in the SM"
          ],
          [
           "0908.3969",
           "QCD-electroweak effects and a new prediction for Higgs production in\n  gluon fusion process"
          ],
          [
           "0909.1711",
           "Variable Flavor Number Parton Distributions and Weak Gauge and Higgs\n  Boson Production at Hadron Colliders at NNLO of QCD"
          ],
          [
           "0909.2305",
           "Improved Predictions for Higgs Q_T at the Tevatron and the LHC"
          ],
          [
           "0909.3420",
           "Finite top mass effects for hadronic Higgs production at\n  next-to-next-to-leading order"
          ],
          [
           "0909.3523",
           "Higgs Boson Decays to Neutralinos in Low-Scale Gauge Mediation"
          ],
          [
           "0910.1540",
           "Search for Standard Model Higgs Boson in H to WW Channel at CDF"
          ],
          [
           "0910.4149",
           "Top Mass Effects in Higgs Production at Hadron Colliders"
          ],
          [
           "0910.4481",
           "Analytic results for the one-loop NMHV Hqqgg amplitude"
          ],
          [
           "0911.0034",
           "Prospects for Higgs Searches at the Tevatron and LHC in the MSSM with\n  Explicit CP-violation"
          ],
          [
           "0911.1085",
           "Signal and Background in e+e- ->t anti-t H"
          ],
          [
           "0911.4662",
           "Finite top quark mass effects in NNLO Higgs boson production at LHC"
          ],
          [
           "0912.0267",
           "Next Generation Higgs Bosons: Theory, Constraints and Discovery\n  Prospects at the Large Hadron Collider"
          ],
          [
           "0912.3156",
           "Charged Higgs production at the LHC and CP asymmetries"
          ],
          [
           "0912.4150",
           "Very Light Higgs Bosons in Extended Models at the LHC"
          ],
          [
           "1001.1938",
           "Higgs + 2 jets: Compact Analytic Results"
          ],
          [
           "1001.3766",
           "QCD effects in Higgs boson production at hadron colliders"
          ],
          [
           "1001.4495",
           "Hadronic production of a Higgs boson and two jets at next-to-leading\n  order"
          ],
          [
           "1002.4375",
           "Resummation of transverse energy in vector boson and Higgs boson\n  production at hadron colliders"
          ],
          [
           "1003.2046",
           "Color-octet scalar effects on Higgs boson production in gluon fusion"
          ],
          [
           "1003.3251",
           "Composite Higgs Search at the LHC"
          ],
          [
           "1003.4266",
           "Predictions for Higgs production at the Tevatron and the associated\n  uncertainties"
          ],
          [
           "1003.4438",
           "Electroweak and Bottom Quark Contributions to Higgs Boson plus Jet\n  Production"
          ],
          [
           "1003.4451",
           "Higgs production via vector-boson fusion at NNLO in QCD"
          ],
          [
           "1003.4492",
           "Dark matter and Higgs phenomenology predicted by left-right twin Higgs\n  model in light of CDMS II results"
          ],
          [
           "1003.4677",
           "The NNLO gluon fusion Higgs production cross-section with many heavy\n  quarks"
          ],
          [
           "1004.0962",
           "The impact of PDF and alphas uncertainties on Higgs Production in gluon\n  fusion at hadron colliders"
          ],
          [
           "1005.2498",
           "Testing Effective Yukawa Couplings in Higgs Searches at the Tevatron and\n  LHC"
          ],
          [
           "1005.3733",
           "Hadronic production of a Higgs boson in association with two jets at\n  next to leading order"
          ],
          [
           "1006.1151",
           "Search for the Elusive Higgs Boson Using Jet Structure at LHC"
          ],
          [
           "1006.2323",
           "Higgs production at NNLO in QCD: the VBF channel"
          ],
          [
           "1006.4237",
           "Next-to-leading order QCD corrections to Higgs boson production in\n  association with a photon via weak-boson fusion at the LHC"
          ],
          [
           "1007.3492",
           "MCFM for the Tevatron and the LHC"
          ],
          [
           "1008.2690",
           "Measuring the Higgs boson mass with transverse mass variables"
          ],
          [
           "1008.3162",
           "Updated Predictions for Higgs Production at the Tevatron and the LHC"
          ],
          [
           "1009.1363",
           "Addendum to: Predictions for Higgs production at the Tevatron and the\n  associated uncertainties"
          ],
          [
           "1009.4497",
           "Hidden sector effects on double higgs production near threshold at the\n  LHC"
          ],
          [
           "1009.4670",
           "Higgs boson pair production in new physics models at hadron, lepton, and\n  photon colliders"
          ],
          [
           "1010.1559",
           "Non-renormalizable Yukawa Interactions and Higgs Physics"
          ],
          [
           "1010.2129",
           "CP-violating MSSM Higgs at Tevatron and LHC"
          ],
          [
           "1010.3701",
           "CP-violating Supersymmetric Higgs at the Tevatron and LHC"
          ],
          [
           "1010.5373",
           "Invisible Higgs in weak bosons associative production with heavy quarks\n  at LHC: probing mass and width"
          ],
          [
           "1011.1038",
           "Present status and future prospects for a Higgs boson discovery at the\n  Tevatron and LHC"
          ],
          [
           "1011.3819",
           "Gluon-fusion contributions to Phi + 2 Jet production"
          ],
          [
           "1011.4484",
           "Higgs Boson Production via Gluon Fusion in the Standard Model with four\n  Generations"
          ],
          [
           "1011.6259",
           "NNLO Benchmarks for Gauge and Higgs Boson Production at TeV Hadron\n  Colliders"
          ],
          [
           "1011.6571",
           "Diffractive exclusive production of Higgs boson and heavy quark pairs at\n  high energy proton-proton collisions"
          ],
          [
           "1012.0341",
           "Associated b-Quark Higgs Boson Production at the LHC"
          ],
          [
           "1012.0530",
           "Higgs production at the lHC"
          ],
          [
           "1012.0639",
           "Towards Higgs boson production in gluon fusion to NNLO in the MSSM"
          ],
          [
           "1012.1201",
           "Enhanced di-photon Higgs signal in the Next-to-Minimal Supersymmetric\n  Standard Model"
          ],
          [
           "1012.1806",
           "Charged Higgs production via vector-boson fusion at NNLO in QCD"
          ],
          [
           "1012.2748",
           "Revisiting the constraints on the Supersymmetric Higgs sector at the\n  Tevatron"
          ],
          [
           "1012.3361",
           "Supersymmetric Higgs production in gluon fusion"
          ],
          [
           "1012.5762",
           "Unusual Higgs boson signal in R-parity violating nonminimal\n  supersymmetric models at the LHC"
          ],
          [
           "1101.0649",
           "Higgs production and decay processes via loop diagrams in various 6D\n  Universal Extra Dimension Models at LHC"
          ],
          [
           "1101.3975",
           "Finite fermion mass effects in pseudoscalar Higgs production via\n  gluon-gluon fusion"
          ],
          [
           "1101.5261",
           "Higher order constraints on the Higgs production rate from fixed-target\n  DIS data"
          ],
          [
           "1101.5602",
           "Estimations for the Single Diffractive production of the Higgs boson at\n  the Tevatron and the LHC"
          ],
          [
           "1102.0024",
           "Search for the Higgs boson in the all-hadronic final state using the CDF\n  II detector"
          ],
          [
           "1102.0704",
           "Associated Production of Non-Standard Higgs Bosons at the LHC"
          ],
          [
           "1102.2920",
           "Composite Higgs to two Photons and Gluons"
          ]
         ],
         "hovertemplate": "keywords=boson production lhc corrections signal background photon phi parameter amplitude fully applied<br>x=%{x}<br>y=%{y}<br>id=%{customdata[0]}<br>title=%{customdata[1]}<extra></extra>",
         "legendgroup": "boson production lhc corrections signal background photon phi parameter amplitude fully applied",
         "marker": {
          "color": "#ab63fa",
          "symbol": "circle"
         },
         "mode": "markers",
         "name": "boson production lhc corrections signal background photon phi parameter amplitude fully applied",
         "orientation": "v",
         "showlegend": true,
         "type": "scatter",
         "x": [
          -11.6039400100708,
          -8.367769241333008,
          -1.4660444259643555,
          -5.337502479553223,
          -1.0960614681243896,
          -8.351343154907227,
          -8.532268524169922,
          -7.9437761306762695,
          -6.523593425750732,
          -10.827224731445312,
          -4.3967204093933105,
          -1.3937596082687378,
          -10.803462982177734,
          -4.044638156890869,
          -1.1408329010009766,
          -1.0985069274902344,
          -8.359207153320312,
          -9.0393705368042,
          -8.844724655151367,
          -9.892454147338867,
          -11.84237003326416,
          -1.1291534900665283,
          -2.7134017944335938,
          -11.038936614990234,
          -10.48139762878418,
          -2.8267765045166016,
          -3.0567710399627686,
          -0.33633771538734436,
          -4.075549602508545,
          -3.585308790206909,
          -11.046341896057129,
          -4.619495868682861,
          0.3560229539871216,
          -6.578220844268799,
          -11.919035911560059,
          -6.050365447998047,
          -6.029796123504639,
          -1.5840870141983032,
          -7.529898166656494,
          0.40121254324913025,
          -3.6613376140594482,
          1.3315387964248657,
          -12.25843334197998,
          -13.646340370178223,
          -3.187579393386841,
          -4.694955825805664,
          -9.685258865356445,
          -3.9523732662200928,
          -5.114918231964111,
          -3.1268844604492188,
          -2.8101882934570312,
          -4.76548957824707,
          -7.5155744552612305,
          -6.661620616912842,
          -2.5414533615112305,
          -6.495753765106201,
          -4.971399784088135,
          -16.010181427001953,
          -9.735289573669434,
          -9.719053268432617,
          -7.664037227630615,
          -8.676026344299316,
          0.037308089435100555,
          0.798179030418396,
          -11.81045913696289,
          -10.984233856201172,
          -6.434163570404053,
          -7.7819952964782715,
          -11.680842399597168,
          -6.504431247711182,
          -6.3361124992370605,
          -10.83563232421875,
          -8.600460052490234,
          -4.604282855987549,
          -10.51436996459961,
          -11.813969612121582,
          -11.747020721435547,
          -5.002993106842041,
          -5.066924095153809,
          -2.9683141708374023,
          -2.000178813934326,
          -3.555936574935913,
          -8.177440643310547,
          -10.771632194519043,
          -3.937875270843506,
          -13.788613319396973,
          -13.831128120422363,
          -11.865806579589844,
          -2.510483503341675,
          -7.486823558807373,
          -16.022214889526367,
          -8.419937133789062,
          -13.473456382751465,
          -5.94797945022583,
          -4.7912821769714355,
          0.2006687968969345,
          -1.6153148412704468,
          -8.759451866149902,
          -4.486291408538818,
          -5.05844259262085,
          -2.4638540744781494,
          -9.87362289428711,
          -6.368798732757568,
          -4.123327255249023,
          -8.70197868347168,
          -4.753342628479004,
          -9.025964736938477,
          -2.73042893409729,
          1.0384124517440796,
          -5.108982563018799,
          -10.01377010345459,
          -2.938070058822632,
          -4.536662578582764,
          -7.117476463317871,
          -7.509300708770752,
          -8.860008239746094,
          -9.604890823364258,
          -9.604273796081543,
          -7.578610897064209,
          -7.094708442687988,
          -7.587070941925049,
          -7.041797161102295,
          -3.009251594543457,
          -10.675941467285156,
          -6.908543109893799,
          -5.9719672203063965,
          -5.064527988433838,
          -7.191087245941162,
          -2.4459455013275146,
          -6.018664836883545,
          -5.0536603927612305,
          -8.204314231872559,
          -8.6531982421875,
          -5.234530925750732,
          -1.7974069118499756,
          -9.473210334777832,
          -10.055628776550293,
          -9.218433380126953,
          -9.495380401611328
         ],
         "xaxis": "x",
         "y": [
          -10.343996047973633,
          -16.228736877441406,
          -10.23000431060791,
          -15.453085899353027,
          -17.278242111206055,
          -10.675055503845215,
          -8.184526443481445,
          -12.015064239501953,
          -8.07437515258789,
          -2.3676698207855225,
          -13.18411636352539,
          -10.256166458129883,
          -11.50402545928955,
          -7.8366594314575195,
          -12.17991828918457,
          -17.298355102539062,
          -10.926377296447754,
          -9.200445175170898,
          -9.947225570678711,
          -11.175893783569336,
          -13.553115844726562,
          -12.188920974731445,
          -16.523193359375,
          -12.676310539245605,
          -8.734610557556152,
          -18.349956512451172,
          -16.098731994628906,
          -12.836386680603027,
          -11.863061904907227,
          -15.705301284790039,
          -10.320865631103516,
          -20.844207763671875,
          -16.032054901123047,
          -16.4820613861084,
          -7.124203205108643,
          -12.49433422088623,
          -14.66991138458252,
          -4.535041332244873,
          -20.475046157836914,
          -11.972712516784668,
          -15.613495826721191,
          -21.14078140258789,
          -11.174856185913086,
          -9.030793190002441,
          -14.180486679077148,
          -20.39529037475586,
          -6.291811943054199,
          -10.949030876159668,
          -12.561100006103516,
          -14.110424041748047,
          -18.368091583251953,
          -5.332701206207275,
          -10.486185073852539,
          -14.567683219909668,
          -8.385966300964355,
          -13.295755386352539,
          -10.900632858276367,
          -11.802388191223145,
          -6.472690105438232,
          -13.245237350463867,
          -13.188465118408203,
          -10.883872032165527,
          -11.327997207641602,
          -13.49067497253418,
          -7.093234062194824,
          -14.127080917358398,
          -10.96629810333252,
          -9.765419960021973,
          -10.131160736083984,
          -3.5305140018463135,
          -11.733884811401367,
          -1.5676804780960083,
          -8.199806213378906,
          -20.8792724609375,
          -8.661067962646484,
          -12.341436386108398,
          -12.2916898727417,
          -14.342342376708984,
          -10.550990104675293,
          -12.86996841430664,
          -15.00300121307373,
          -6.017052173614502,
          -14.955009460449219,
          -14.565264701843262,
          -4.8453688621521,
          -3.3845789432525635,
          -15.180200576782227,
          -7.169996738433838,
          -5.902261734008789,
          -15.642717361450195,
          -11.802265167236328,
          -13.398314476013184,
          -4.234764099121094,
          -13.593148231506348,
          -17.345073699951172,
          -14.992680549621582,
          -7.306474208831787,
          -12.73126220703125,
          -9.616783142089844,
          -11.596803665161133,
          -11.500056266784668,
          -10.085023880004883,
          -7.0053205490112305,
          -9.002711296081543,
          -12.442240715026855,
          -17.375263214111328,
          -13.941878318786621,
          -11.827649116516113,
          -12.088939666748047,
          -17.85883140563965,
          -12.532958984375,
          -9.884173393249512,
          -9.80063533782959,
          -9.370150566101074,
          -11.162291526794434,
          -12.080707550048828,
          -21.24741554260254,
          -21.246337890625,
          -12.346304893493652,
          -14.684894561767578,
          -7.3744916915893555,
          -7.953550338745117,
          -12.879724502563477,
          -5.2719621658325195,
          -12.077397346496582,
          -9.769816398620605,
          -7.86272668838501,
          -16.51905059814453,
          -11.48012924194336,
          -9.777740478515625,
          -7.897755146026611,
          -14.251890182495117,
          -8.309313774108887,
          -5.676627159118652,
          -13.683748245239258,
          -6.01030969619751,
          -14.555671691894531,
          -13.706002235412598,
          -11.830952644348145
         ],
         "yaxis": "y"
        },
        {
         "customdata": [
          [
           "0705.0245",
           "Measurement of masses and lifetimes of B hadrons"
          ],
          [
           "0706.0851",
           "Electroweak measurements at the Tevatron"
          ],
          [
           "0706.1278",
           "Higgs Searches at the Tevatron"
          ],
          [
           "0706.2200",
           "Searching for H->WW(*) and Other Diboson Final States at CDF"
          ],
          [
           "0706.2999",
           "Searches in Photon and Jet States"
          ],
          [
           "0707.1208",
           "Higgs searches at Tevatron"
          ],
          [
           "0707.2294",
           "Search for a High-Mass Diphoton State and Limits on Randall-Sundrum\n  Gravitons at CDF"
          ],
          [
           "0710.1964",
           "CDF Searches for New Physics with Photons"
          ],
          [
           "0710.2202",
           "Searches for Extra Dimensions and for Heavy Resonances in Dilepton,\n  Diphoton, Electron + Photon and Electron + Missing ET Final States with the\n  D0 Detector"
          ],
          [
           "0710.3617",
           "Top physics at the Tevatron Collider"
          ],
          [
           "0710.5141",
           "Search for Higgs decays to tau lepton pairs at the Tevatron"
          ],
          [
           "0712.0803",
           "Measurement of the shape of the boson transverse momentum distribution\n  in ppbar -> Z/gamma* -> ee+X events produced at sqrt{s}=1.96 TeV"
          ],
          [
           "0805.1248",
           "Search for Low Mass SM Higgs at the Tevatron"
          ],
          [
           "0808.0534",
           "Combined CDF and Dzero Upper Limits on Standard Model Higgs Boson\n  Production at High Mass (155-200 GeV/c2) with 3 fb-1 of data"
          ],
          [
           "0809.2813",
           "Search for Large extra spatial dimensions in the dielectron and diphoton\n  channels in $\\bm{p\\bar{p}}$ collisions at $\\bm{\\sqrt{s}=}$1.96 TeV"
          ],
          [
           "0809.4078",
           "B Physics at the Tevatron"
          ],
          [
           "0810.2396",
           "Searches at the Tevatron for a Low Mass Standard Model Higgs Boson"
          ],
          [
           "0810.2519",
           "Diffractive and Exclusive Production at the Tevatron"
          ],
          [
           "0810.3705",
           "Searches for the Higgs Boson"
          ],
          [
           "0810.4754",
           "High-Mass Resonances Decaying to Leptons and Photons at the Tevatron"
          ],
          [
           "0812.2511",
           "Diffraction with CDF II at the Tevatron"
          ],
          [
           "0812.3979",
           "Higgs Searches at the Fermilab Tevatron ppbar Collider"
          ],
          [
           "0901.1887",
           "Search for resonant diphoton production with the D0 detector"
          ],
          [
           "0901.4049",
           "Electroweak physics at the Tevatron"
          ],
          [
           "0905.0413",
           "Search for a Fermiophobic Higgs Boson Decaying into Diphotons in p p-bar\n  Collisions at sqrt{s} = 1.96 TeV"
          ],
          [
           "0905.2554",
           "Searches for BSM Higgs at the Tevatron"
          ],
          [
           "0905.4267",
           "Higgs Boson Searches at CDF"
          ],
          [
           "0907.0810",
           "A Search for the Associated Production of the Standard-Model Higgs Boson\n  in the All-Hadronic Channel"
          ],
          [
           "0907.3239",
           "Recent Electroweak Results from the Tevatron"
          ],
          [
           "0908.3534",
           "A Search for the Higgs Boson Produced in Association with $Z\\to\n  \\ell^+\\ell^-$ Using the Matrix Element Method at CDF II"
          ],
          [
           "0910.3564",
           "Search for Extra Dimensions in the Diphoton Channel"
          ],
          [
           "0910.3623",
           "Measurement of the Inclusive Isolated Prompt Photon Cross Section in\n  ppbar Collisions at sqrt{s} = 1.96 TeV using the CDF Detector"
          ],
          [
           "0910.3638",
           "Exotic Photon Searches at CDF II"
          ],
          [
           "0911.1469",
           "Higgs Searches"
          ],
          [
           "0911.3930",
           "Combined CDF and D0 Upper Limits on Standard Model Higgs-Boson\n  Production with 2.1 - 5.4 fb-1 of Data"
          ],
          [
           "1001.4162",
           "Combination of Tevatron searches for the standard model Higgs boson in\n  the W+W- decay mode"
          ],
          [
           "1002.4917",
           "Measurement of direct photon pair production cross sections in ppbar\n  collisions at sqrt(s)=1.96 TeV"
          ],
          [
           "1006.2754",
           "SM Higgs Searches at CDF"
          ],
          [
           "1007.4587",
           "Combined CDF and D0 Upper Limits on Standard Model Higgs-Boson\n  Production with up to 6.7 fb-1 of Data"
          ],
          [
           "1008.2133",
           "Search for diphoton events with large missing transverse energy in 6.3\n  fb-1 of ppbar collisions at sqrt(s)=1.96 TeV"
          ],
          [
           "1009.0859",
           "Search for the Higgs boson in the gamma gamma final state at the\n  Tevatron"
          ],
          [
           "1009.1046",
           "Higgs searches at the Tevatron"
          ],
          [
           "1009.3047",
           "Improved Search for a Higgs Boson Produced in Association with Z->l+l-\n  in proton antiproton Collisions at sqrt(s) = 1.96 TeV"
          ],
          [
           "1011.1532",
           "The Physics Case for Extended Tevatron Running"
          ],
          [
           "1011.2506",
           "B physics at CDF - the Beauty of hadron collisions"
          ],
          [
           "1012.2172",
           "Higgs boson searches at the Tevatron"
          ],
          [
           "1012.2795",
           "Search for Randall-Sundrum Gravitons in the Diphoton Channel at CDF"
          ]
         ],
         "hovertemplate": "keywords=higgs boson searches production diphoton search data collider large extra photon cdf results<br>x=%{x}<br>y=%{y}<br>id=%{customdata[0]}<br>title=%{customdata[1]}<extra></extra>",
         "legendgroup": "higgs boson searches production diphoton search data collider large extra photon cdf results",
         "marker": {
          "color": "#FFA15A",
          "symbol": "circle"
         },
         "mode": "markers",
         "name": "higgs boson searches production diphoton search data collider large extra photon cdf results",
         "orientation": "v",
         "showlegend": true,
         "type": "scatter",
         "x": [
          9.988473892211914,
          12.272012710571289,
          -11.113389015197754,
          19.439273834228516,
          18.058088302612305,
          -12.16054916381836,
          22.673551559448242,
          18.821929931640625,
          20.035045623779297,
          8.949565887451172,
          -12.405638694763184,
          17.79526710510254,
          -10.401691436767578,
          -10.291426658630371,
          21.23721694946289,
          10.13510513305664,
          -11.111161231994629,
          11.304095268249512,
          -8.886229515075684,
          19.945356369018555,
          10.936177253723145,
          -10.02017593383789,
          19.537132263183594,
          11.925254821777344,
          -11.724617004394531,
          -11.271783828735352,
          -10.994974136352539,
          -9.969310760498047,
          11.7696533203125,
          -10.09709644317627,
          21.657258987426758,
          15.460421562194824,
          -13.87558650970459,
          -12.19308853149414,
          -10.508218765258789,
          -11.098639488220215,
          14.907341957092285,
          -11.441018104553223,
          -10.587288856506348,
          20.51011085510254,
          -8.868135452270508,
          -9.551353454589844,
          -10.382105827331543,
          -11.320113182067871,
          9.721619606018066,
          -10.000773429870605,
          22.68047523498535
         ],
         "xaxis": "x",
         "y": [
          5.691462516784668,
          5.7606072425842285,
          -17.97171974182129,
          -2.1464478969573975,
          1.5568959712982178,
          -18.034027099609375,
          0.4420434236526489,
          1.898092269897461,
          1.432456135749817,
          5.6747565269470215,
          -15.958635330200195,
          0.190470889210701,
          -17.6724796295166,
          -16.395078659057617,
          2.9404661655426025,
          6.417080402374268,
          -16.881916046142578,
          9.379993438720703,
          -15.786556243896484,
          1.4217897653579712,
          7.535182476043701,
          -17.58646011352539,
          0.12091922760009766,
          5.9052534103393555,
          -15.252482414245605,
          -16.936403274536133,
          -15.69589900970459,
          -14.710382461547852,
          6.003429412841797,
          -15.240273475646973,
          2.9195492267608643,
          2.969287395477295,
          -17.411901473999023,
          -16.859766006469727,
          -16.74141502380371,
          -16.451433181762695,
          1.851256012916565,
          -15.913249015808105,
          -16.835695266723633,
          3.3585588932037354,
          -17.277708053588867,
          -17.09480857849121,
          -15.31869125366211,
          -19.33785057067871,
          6.57966423034668,
          -15.923377990722656,
          0.45248958468437195
         ],
         "yaxis": "y"
        },
        {
         "customdata": [
          [
           "0705.1413",
           "Diffraction : Recent Results and Implications for LHC"
          ],
          [
           "0705.2193",
           "Forward hadron production in high energy pA collisions: from RHIC to LHC"
          ],
          [
           "0705.3472",
           "Search for Excited Quarks in $q\\bar{q} \\to \\gamma\\gamma$ at the LHC"
          ],
          [
           "0705.3944",
           "Heavy chiral bosons search at hadron colliders"
          ],
          [
           "0706.0627",
           "Black Hole Production at the Large Hadron Collider"
          ],
          [
           "0706.1789",
           "B production at the LHC / QCD aspects"
          ],
          [
           "0706.1848",
           "Quenching of photon and pion spectra at intermediate RHIC energy"
          ],
          [
           "0707.1055",
           "Diffractive and Total Cross Sections at Tevatron and LHC"
          ],
          [
           "0707.1251",
           "Differential elliptic flow prediction at the LHC from parton transport"
          ],
          [
           "0707.1709",
           "W and Z Production and Asymmetries at the Tevatron"
          ],
          [
           "0707.2523",
           "Quarkonium production in coherent hadron-hadron interactions at the LHC"
          ],
          [
           "0708.1156",
           "pp Elastic Scattering at LHC in a Nucleon-Structure Model"
          ],
          [
           "0708.2368",
           "First Order Calculation of the Inclusive Cross Section pp to ZZ by\n  Graviton Exchange in Large Extra Dimensions"
          ],
          [
           "0708.3626",
           "Total cross-section and rapidity gap survival probability at the LHC\n  through an eikonal with soft gluon resummation"
          ],
          [
           "0708.3636",
           "Evidences for two scales in hadrons"
          ],
          [
           "0708.3802",
           "Unparticle physics in top pair signals at the LHC and ILC"
          ],
          [
           "0709.2378",
           "Massive color-octet bosons and pairs of resonances at hadron colliders"
          ],
          [
           "0709.2478",
           "Unparticle physics in diphoton production at the CERN LHC"
          ],
          [
           "0710.1722",
           "Precision electroweak calculation of the production of a high\n  transverse-momentum lepton pair at hadron colliders"
          ],
          [
           "0710.2234",
           "Associated production of a Kaluza-Klein excitation of a gluon with a t\n  t(bar) pair at the LHC"
          ],
          [
           "0710.2696",
           "Time Machine at the LHC"
          ],
          [
           "0710.3016",
           "Associated Higgs Production in CP-violating supersymmetry: probing the\n  `open hole' at the Large Hadron Collider"
          ],
          [
           "0710.4287",
           "Diffractive photoproduction of Z^0 bosons in coherent interactions at\n  CERN-LHC"
          ],
          [
           "0711.4672",
           "Coherent J/psi production - a novel feature at LHC?"
          ],
          [
           "0712.0943",
           "Mass Determination of New States at Hadron Colliders"
          ],
          [
           "0712.3209",
           "Toward an effective centrality trigger in pp collisions at LHC"
          ],
          [
           "0801.0236",
           "Single Production of Fourth Family Quarks at the LHC"
          ],
          [
           "0801.0237",
           "Diphoton decays of stoponium at the Large Hadron Collider"
          ],
          [
           "0801.3593",
           "Central exclusive diffractive Higgs boson production in hadron-nucleus\n  and nucleus-nucleus collisions at the LHC"
          ],
          [
           "0801.4890",
           "Low mass diffractive systems at LHC"
          ],
          [
           "0802.0007",
           "Implications of CTEQ global analysis for collider observables"
          ],
          [
           "0802.0177",
           "Early LHC measurements to check predictions for central exclusive\n  production"
          ],
          [
           "0802.2162",
           "Probing two Universal Extra Dimensions at International Linear Collider"
          ],
          [
           "0803.0075",
           "Tensor gauge boson production in high energy collisions"
          ],
          [
           "0803.1160",
           "Searching for t-bar t Resonances at the Large Hadron Collider"
          ],
          [
           "0804.0847",
           "Production of Spin-Two Gauge Bosons"
          ],
          [
           "0804.3941",
           "RS model with a small curvature and two-photon production at the LHC"
          ],
          [
           "0805.0261",
           "Diffraction at the Tevatron and the LHC"
          ],
          [
           "0805.2113",
           "Exclusive photoproduction at the Tevatron and LHC within the dipole\n  picture"
          ],
          [
           "0805.2395",
           "Investigating gluino production at the LHC"
          ],
          [
           "0805.3763",
           "Z and W production associated with quark-antiquark pair in\n  k_T-factorization at the LHC"
          ],
          [
           "0806.0769",
           "Probing gluon shadowing with forward photons at RHIC"
          ],
          [
           "0806.0915",
           "High-energy photon collisions at the LHC - dream or reality?"
          ],
          [
           "0806.1098",
           "Diphoton Generalized Distribution Amplitudes"
          ],
          [
           "0806.1116",
           "Elliptic flow in nuclear collisions at the Large Hadron Collider"
          ],
          [
           "0806.2087",
           "Probing the low-x structure of nuclear matter with diffractive hadron\n  production in pA collisions"
          ],
          [
           "0806.2389",
           "Measurement of the Underlying Event and Minimum Bias at LHC"
          ],
          [
           "0807.1126",
           "Z' boson detection in the Minimal Quiver Standard Model"
          ],
          [
           "0807.3333",
           "The LHC String Hunter's Companion"
          ],
          [
           "0807.4486",
           "Colored scalar particles production in $pp$-collisions and possible mass\n  limits for scalar gluons from future LHC data"
          ],
          [
           "0808.1055",
           "Perturbative description of inclusive single hadron production at HERA"
          ],
          [
           "0808.1680",
           "High-dimensional Z' phenomenology at hadron colliders"
          ],
          [
           "0808.2216",
           "Searching for odderon in exclusive vector meson hadroproduction"
          ],
          [
           "0808.3302",
           "Same-sign top pair production in an extra-dimension model of flavor at\n  the CERN Large Hadron Collider"
          ],
          [
           "0809.0846",
           "Direct photon production at HERA, the Tevatron and the LHC"
          ],
          [
           "0809.1707",
           "Complementarity of the CERN Large Hadron Collider and the $e^+e^-$\n  International Linear Collider"
          ],
          [
           "0809.1884",
           "Investigating the high energy QCD approaches for prompt photon\n  production at the LHC"
          ],
          [
           "0809.2366",
           "Electroweak Theory for the Tevatron, LHC, and ILC"
          ],
          [
           "0810.0701",
           "Inclusive cross section and double helicity asymmetry for pi^0\n  production in p+p collisions at sqrt(s) = 62.4 GeV"
          ],
          [
           "0810.3039",
           "Photoproduction at RHIC and the LHC"
          ],
          [
           "0810.3610",
           "Inclusive W and Z production with CMS at LHC startup"
          ],
          [
           "0811.0120",
           "Forward Physics with Rapidity Gaps at the LHC"
          ],
          [
           "0811.0255",
           "Pomeron-Odderon interference in production of pi^ + pi^- pairs in\n  ultraperipheral collisions"
          ],
          [
           "0811.0260",
           "How well can we predict the total cross section at the LHC?"
          ],
          [
           "0811.0486",
           "Prompt photon hadroproduction in the k_T-factorization approach"
          ],
          [
           "0811.0846",
           "Charged Bilepton Pair Production at LHC Including Exotic Quark\n  Contribution"
          ],
          [
           "0811.3267",
           "Photon-induced production of the mirror quarks from the $LHT$ model at\n  the $LHC$"
          ],
          [
           "0812.0474",
           "Lh_c"
          ],
          [
           "0812.3135",
           "Model Discrimination at the LHC: a Case Study"
          ],
          [
           "0902.1678",
           "Understanding the structure of the proton: From HERA and Tevatron to LHC"
          ],
          [
           "0902.4403",
           "Monte Carlo event generator validation and tuning for the LHC"
          ],
          [
           "0903.1330",
           "Predictions for the heavy-ion programme at the Large Hadron Collider"
          ],
          [
           "0903.2250",
           "Pair Production of Heavy Quarkonium and $B_c(^*)$ Mesons at Hadron\n  Colliders"
          ],
          [
           "0903.2403",
           "Measurement of the b-Hadron Production Cross Section Using Decays to\n  mu^- D^0 X Final States in ppbar Collisions at sqrt s = 1.96 TeV"
          ],
          [
           "0903.2551",
           "Signature of Large Extra Dimensions from Z boson pair production at the\n  CERN Large Hadron Collider"
          ],
          [
           "0903.2980",
           "Forward Physics at the LHC"
          ],
          [
           "0903.3174",
           "Probing two-photon decay widths of mesons at energies available at the\n  CERN Large Hadron Collider (LHC)"
          ],
          [
           "0903.3668",
           "Factorization and resummation for single color-octet scalar production\n  at the LHC"
          ],
          [
           "0904.0128",
           "Stochastic resolution of the LHC inverse problem"
          ],
          [
           "0904.1477",
           "J/\\psi Production Via Photon Fragmentation at Hadron Colliders"
          ],
          [
           "0904.2069",
           "QED contribution to the production of J/\\psi+c\\bar{c}+X at the Tevatron\n  and LHC"
          ],
          [
           "0904.2217",
           "Diffraction at HERA, Tevatron and LHC"
          ],
          [
           "0904.3560",
           "String Theory at LHC Using Higgs Production and Decay From String Balls"
          ],
          [
           "0905.1201",
           "Novel reconstruction technique for New Physics processes with initial\n  state radiation"
          ],
          [
           "0905.3455",
           "Non-perturbative effects in the transverse momentum distribution of\n  electroweak bosons at the LHC"
          ],
          [
           "0905.4696",
           "Hadronic production of $B^{(*)}_s$ at TEVATRON and LHC"
          ],
          [
           "0906.5175",
           "From RHIC to EIC: Nuclear Structure Functions"
          ],
          [
           "0906.5512",
           "Pomeron Odderon interference in production of pi+ pi- pairs at LHC"
          ],
          [
           "0907.0276",
           "Combination of electroweak and QCD corrections to single W production at\n  the Fermilab Tevatron and the CERN LHC"
          ],
          [
           "0907.0352",
           "From Diphoton GDAs and Photon GPDs to the chiral odd Photon DA"
          ],
          [
           "0907.2527",
           "New results for t bar t production at hadron colliders"
          ],
          [
           "0907.4123",
           "Photoproduction of $\\rho^0$ mesons in ultraperipheral heavy ion\n  collisions at energies available at the BNL Relativistic Heavy Ion Collider\n  (RHIC) and CERN Large Hadron Collider (LHC)"
          ],
          [
           "0908.0409",
           "The LHC String Hunter's Companion (II): Five-Particle Amplitudes and\n  Universal Properties"
          ],
          [
           "0908.0507",
           "Diffractive quarkonium production in association with a photon at the\n  LHC"
          ],
          [
           "0908.0538",
           "Forward Jet Production at the Large Hadron Collider"
          ],
          [
           "0908.2567",
           "Understanding the structure of the proton at the LHC"
          ],
          [
           "0908.3318",
           "NLO electroweak contributions to gluino pair production at hadron\n  colliders"
          ],
          [
           "0908.3695",
           "Hadrons and direct photon in pp and pA collisions at LHC and saturation\n  effects"
          ],
          [
           "0908.3853",
           "Nuclear form factor, validity of the equivalent photon approximation and\n  Coulomb corrections to muon pair production in photon-nucleus and\n  nucleus-nucleus collisions"
          ],
          [
           "0909.3046",
           "NLO electroweak contributions to squark pair production at the LHC"
          ],
          [
           "0909.3204",
           "Bound-state effects on gluino-pair production at hadron colliders"
          ],
          [
           "0909.4026",
           "Prompt-photon production in DIS"
          ],
          [
           "0909.4769",
           "Heavy flavour production at LHC"
          ],
          [
           "0910.0178",
           "Electroweak and Top Physics at the Tevatron and the LHC"
          ],
          [
           "0910.2364",
           "Heavy Flavour Production in pp and Heavy Ion Collisions in QCD Up to LHC\n  Energies"
          ],
          [
           "0910.5094",
           "W and Z Boson Production at Hadron Colliders"
          ],
          [
           "0911.2016",
           "Production of the X(3872) at the Tevatron and the LHC"
          ],
          [
           "0911.2662",
           "Exclusive central production of heavy quarks at the LHC"
          ],
          [
           "0911.2985",
           "A posteriori inclusion of parton density functions in NLO QCD\n  final-state calculations at hadron colliders: The APPLGRID Project"
          ],
          [
           "0911.4604",
           "Higher-Twist Dynamics in Large Transverse Momentum Hadron Production"
          ],
          [
           "0911.5638",
           "Diffractive $J/\\Psi$ photoproduction at large momentum transfer in\n  coherent hadron - hadron interactions at CERN LHC"
          ],
          [
           "0912.0826",
           "Quantum black holes with charge, colour, and spin at the LHC"
          ],
          [
           "0912.2806",
           "Identification of extra neutral gauge bosons at the International Linear\n  Collider"
          ],
          [
           "0912.3501",
           "Hard photon production and matrix-element parton-shower merging"
          ],
          [
           "1001.1378",
           "Single Inclusive Hadron Production at RHIC and the LHC from the Color\n  Glass Condensate"
          ],
          [
           "1001.3954",
           "Parton distributions: HERA-Tevatron-LHC"
          ],
          [
           "1002.3048",
           "DGLAP versus perturbative Pomeron in large momentum transfer hard\n  diffractive processes at HERA and LHC"
          ],
          [
           "1002.3050",
           "Why LHC?"
          ],
          [
           "1003.2963",
           "Single-inclusive production of large-pT charged particles in hadronic\n  collisions at TeV energies and perturbative QCD predictions"
          ],
          [
           "1003.3481",
           "Production of exotic atoms at the CERN Large Hadron Collider (LHC)"
          ],
          [
           "1005.0631",
           "Gluon saturation and inclusive hadron production at LHC"
          ],
          [
           "1005.0695",
           "Standard candle central exclusive processes at the Tevatron and LHC"
          ],
          [
           "1005.1078",
           "Weak interaction contribution to the inclusive hadron-hadron scattering\n  cross sections at high $p_T$"
          ],
          [
           "1005.1362",
           "Productions of heavy charged leptons via gluon fusion at LHC: A revisit"
          ],
          [
           "1005.2326",
           "Associated production of Z boson and a pair of new quarks at the LHC"
          ],
          [
           "1005.4003",
           "Production of exotic atoms at energies available at the CERN Large\n  Hadron Collider"
          ],
          [
           "1005.4529",
           "Sensitivity of isolated photon production at TeV hadron colliders to the\n  gluon distribution in the proton"
          ],
          [
           "1006.1289",
           "Central Exclusive Particle Production at High Energy Hadron Colliders"
          ],
          [
           "1006.2454",
           "Revisiting the $B^{(*)}_s$-Meson Production at the Hadronic Colliders"
          ],
          [
           "1006.2688",
           "Soft QCD at Tevatron"
          ],
          [
           "1006.2750",
           "Total J/psi production cross section at the LHC"
          ],
          [
           "1006.4045",
           "Higher-twist contributions to large pT hadron production in hadronic\n  collisions"
          ],
          [
           "1007.0865",
           "Pair Production of Color-Octet Scalars at the LHC"
          ],
          [
           "1007.2241",
           "New parton distributions for collider physics"
          ],
          [
           "1007.2430",
           "Hadron multiplicity in pp and AA collisions at LHC from the Color Glass\n  Condensate"
          ],
          [
           "1007.5163",
           "eta_c production at the Large Hadron Collider"
          ],
          [
           "1008.0540",
           "Inclusive Hadron Production in the CERN-LHC Era"
          ],
          [
           "1008.1039",
           "Top quark effects in composite vector pair production at the LHC"
          ],
          [
           "1008.1783",
           "Constraints on Dark Matter from Colliders"
          ],
          [
           "1009.0764",
           "Precocious Diphoton Signals of the Little Radion at Hadron Colliders"
          ],
          [
           "1009.5067",
           "Heavy Flavour Production at Tevatron and Parton Shower Effects"
          ],
          [
           "1010.1392",
           "Forward heavy baryon production in pp collisions at LHC"
          ],
          [
           "1010.4309",
           "Colored Resonant Signals at the LHC: Largest Rate and Simplest Topology"
          ],
          [
           "1010.4738",
           "Photon plus heavy quark production in high energy collisions within the\n  target rest frame formalism"
          ],
          [
           "1010.5700",
           "Cross Section and Forward-Backward Asymmetry of $t\\bar{t}$ Production in\n  the Model with Four Color Symmetry"
          ],
          [
           "1010.6058",
           "Z' physics with early LHC data"
          ],
          [
           "1011.1248",
           "On the Nuclear Modification Factor at RHIC and LHC"
          ],
          [
           "1011.1428",
           "One-side forward-backward asymmetry at the LHC"
          ],
          [
           "1011.1895",
           "Saturation models of HERA DIS data and inclusive hadron distributions in\n  p+p collisions at the LHC"
          ],
          [
           "1011.3591",
           "Hadron production at the LHC: Any indication of new phenomena"
          ],
          [
           "1011.5112",
           "Heavy-flavour production in hot quark matter"
          ],
          [
           "1011.5619",
           "J/psi production with NRQCD: HERA, Tevatron, RHIC and LHC"
          ],
          [
           "1012.0553",
           "New Perspectives for QCD Physics at the LHC"
          ],
          [
           "1012.0799",
           "Measurement of the Isolated Prompt Photon Production Cross Section in pp\n  Collisions at sqrt(s) = 7 TeV"
          ],
          [
           "1012.1347",
           "Natural h -> 4g in Supersymmetric Models and R-Hadrons at the LHC"
          ],
          [
           "1012.1456",
           "Spin identification of heavy nonstandard bosons in dilepton and diphoton\n  events at the LHC"
          ],
          [
           "1012.2815",
           "Total J/Psi and Upsilon production cross section at the LHC: theory vs.\n  experiment"
          ],
          [
           "1012.2854",
           "Color transparency and suppression of high-pT hadrons in nuclear\n  collisions"
          ],
          [
           "1012.4272",
           "Search for Diphoton Events with Large Missing Transverse Energy in 7 TeV\n  Proton-Proton Collisions with the ATLAS Detector"
          ],
          [
           "1012.4389",
           "Measurement of the inclusive isolated prompt photon cross section in pp\n  collisions at sqrt(s) = 7 TeV with the ATLAS detector"
          ],
          [
           "1012.5620",
           "Supermodels: Early new physics at the LHC?"
          ],
          [
           "1101.0802",
           "Cross Section and Double Helicity Asymmetry in Charged Hadron Production\n  in p+p Collisions at sqrt(s)=62.4 GeV at PHENIX"
          ],
          [
           "1101.2179",
           "Diffractive hadron production in DIS off heavy nuclei and gluon\n  saturation"
          ],
          [
           "1101.4874",
           "Exclusive production of $\\omega$ meson in proton-proton collisions at\n  high energies"
          ],
          [
           "1101.4896",
           "Measuring luminosity at LHCb using elastic diphoton dimuon production"
          ],
          [
           "1101.5596",
           "Constraints from the first LHC data on hadronic event generators for\n  ultra-high energy cosmic-ray physics"
          ],
          [
           "1102.1949",
           "Total and inelastic cross-sections at LHC at CM energy of 7 TeV and\n  beyond"
          ],
          [
           "1102.2385",
           "Gluon saturation and energy dependence of hadron multiplicity in pp and\n  AA collisions at the LHC"
          ],
          [
           "1102.2844",
           "High-energy strong interactions: from `hard' to `soft'"
          ],
          [
           "1102.3388",
           "Produced charged hadrons in central Pb + Pb collisions at LHC energies\n  in the RDM"
          ],
          [
           "1103.1106",
           "W Boson Inclusive Decays to Quarkonium at the LHC"
          ],
          [
           "1103.1471",
           "Inclusive prompt photon production in nuclear collisions at RHIC and LHC"
          ]
         ],
         "hovertemplate": "keywords=production lhc collisions model nuclear rhic soft diffractive high-energy gamma photoproduction amplitude<br>x=%{x}<br>y=%{y}<br>id=%{customdata[0]}<br>title=%{customdata[1]}<extra></extra>",
         "legendgroup": "production lhc collisions model nuclear rhic soft diffractive high-energy gamma photoproduction amplitude",
         "marker": {
          "color": "#19d3f3",
          "symbol": "circle"
         },
         "mode": "markers",
         "name": "production lhc collisions model nuclear rhic soft diffractive high-energy gamma photoproduction amplitude",
         "orientation": "v",
         "showlegend": true,
         "type": "scatter",
         "x": [
          10.038451194763184,
          4.072613716125488,
          -2.549781084060669,
          -6.812747001647949,
          11.883584976196289,
          13.461188316345215,
          4.457204341888428,
          9.619344711303711,
          0.42934414744377136,
          11.015446662902832,
          6.712335586547852,
          0.16600753366947174,
          1.266182541847229,
          10.567073822021484,
          -15.161032676696777,
          1.5744221210479736,
          8.993369102478027,
          1.5289998054504395,
          3.3998725414276123,
          -11.74339771270752,
          11.678729057312012,
          -14.698002815246582,
          7.693976402282715,
          -5.273400783538818,
          -2.26894474029541,
          -0.7092732787132263,
          0.9327102899551392,
          2.9274144172668457,
          -9.125544548034668,
          4.89644718170166,
          9.618623733520508,
          10.987861633300781,
          1.684618592262268,
          -8.605203628540039,
          -11.643865585327148,
          -8.598958015441895,
          23.35072135925293,
          9.30349349975586,
          8.200343132019043,
          -4.279906272888184,
          -6.495908737182617,
          3.708303689956665,
          8.132988929748535,
          15.353730201721191,
          0.6209542155265808,
          3.7986843585968018,
          14.88685417175293,
          -7.245559215545654,
          -0.30477315187454224,
          -0.6536199450492859,
          10.830178260803223,
          1.9323064088821411,
          13.095651626586914,
          -0.18143704533576965,
          7.873023509979248,
          5.864457130432129,
          5.0300164222717285,
          21.55455207824707,
          5.046300411224365,
          6.679714202880859,
          13.00870132446289,
          5.1161417961120605,
          8.395429611206055,
          9.383442878723145,
          -2.329603433609009,
          -13.341801643371582,
          19.553255081176758,
          8.825301170349121,
          15.604989051818848,
          8.005012512207031,
          14.87726879119873,
          2.7810473442077637,
          3.91172194480896,
          12.933895111083984,
          1.0936437845230103,
          10.488383293151855,
          6.632145404815674,
          -6.345215797424316,
          14.224583625793457,
          9.287482261657715,
          9.363815307617188,
          9.099136352539062,
          -0.016536150127649307,
          -2.9153330326080322,
          0.5860028862953186,
          2.117772340774536,
          5.7133469581604,
          8.43941593170166,
          3.385136842727661,
          17.941410064697266,
          8.685140609741211,
          6.280292987823486,
          -0.41327211260795593,
          4.358557224273682,
          12.113812446594238,
          6.979738712310791,
          -2.4841909408569336,
          4.419918060302734,
          20.780025482177734,
          2.5767064094543457,
          -2.701225757598877,
          15.754332542419434,
          1.742981195449829,
          6.917679786682129,
          -0.5033774375915527,
          0.5219150185585022,
          13.362800598144531,
          11.995796203613281,
          10.381547927856445,
          16.91176414489746,
          6.673916816711426,
          11.873958587646484,
          -14.323843955993652,
          17.57720184326172,
          2.507333755493164,
          9.887598037719727,
          7.956429958343506,
          13.839717864990234,
          15.962471961975098,
          -17.252857208251953,
          1.3922730684280396,
          12.788103103637695,
          1.932258129119873,
          -8.316568374633789,
          -1.8893769979476929,
          -17.259441375732422,
          16.14522361755371,
          12.515268325805664,
          1.587064266204834,
          10.885115623474121,
          3.1380510330200195,
          16.909175872802734,
          -6.4612202644348145,
          19.99005126953125,
          1.5741559267044067,
          8.805642127990723,
          15.796734809875488,
          -8.376794815063477,
          8.430761337280273,
          14.527587890625,
          14.687172889709473,
          -1.4217174053192139,
          -0.027330605313181877,
          14.112711906433105,
          -0.7104586362838745,
          -1.261572241783142,
          2.254206895828247,
          4.572812080383301,
          1.6129512786865234,
          0.9188923239707947,
          1.7524830102920532,
          10.932700157165527,
          0.3329949378967285,
          15.5642671585083,
          -13.728403091430664,
          -15.534281730651855,
          3.24747633934021,
          2.297018527984619,
          20.45750617980957,
          15.692314147949219,
          7.550816535949707,
          5.040173053741455,
          3.9369988441467285,
          6.864792346954346,
          12.170293807983398,
          13.104208946228027,
          10.579803466796875,
          0.5396742224693298,
          9.938544273376465,
          0.5224400758743286,
          8.447690963745117,
          3.095733404159546
         ],
         "xaxis": "x",
         "y": [
          10.211286544799805,
          16.80686378479004,
          21.072622299194336,
          -18.45677947998047,
          16.998077392578125,
          3.772054433822632,
          19.374343872070312,
          8.958539962768555,
          18.9389591217041,
          4.816349029541016,
          14.123783111572266,
          12.663326263427734,
          -8.295767784118652,
          14.288854598999023,
          3.391512632369995,
          6.370597839355469,
          -3.2870888710021973,
          6.452175140380859,
          -16.788917541503906,
          2.5444796085357666,
          17.377187728881836,
          -14.571737289428711,
          14.521697998046875,
          9.794807434082031,
          2.269852638244629,
          13.881572723388672,
          4.885839939117432,
          -5.84692907333374,
          -4.943787574768066,
          13.601812362670898,
          -0.4512288272380829,
          12.248589515686035,
          3.9191503524780273,
          -2.8053832054138184,
          2.5314524173736572,
          -2.768036365509033,
          0.5306666493415833,
          10.88858699798584,
          14.507224082946777,
          0.7537037134170532,
          -3.182481050491333,
          18.837955474853516,
          15.80761432647705,
          -12.027379035949707,
          18.45476531982422,
          15.461942672729492,
          12.641414642333984,
          -18.883758544921875,
          23.13860511779785,
          7.59235143661499,
          -3.389564037322998,
          -17.675437927246094,
          7.745677471160889,
          4.680570125579834,
          10.900574684143066,
          8.93384075164795,
          17.288421630859375,
          -2.612964630126953,
          11.084354400634766,
          15.961484909057617,
          4.219525337219238,
          13.330827713012695,
          17.709684371948242,
          8.415447235107422,
          10.80397891998291,
          -8.821907997131348,
          -15.982144355773926,
          -1.8144725561141968,
          13.952582359313965,
          10.889604568481445,
          12.591289520263672,
          12.635171890258789,
          9.46379280090332,
          1.3448842763900757,
          -8.363160133361816,
          12.645565032958984,
          16.610010147094727,
          -1.0530343055725098,
          15.122788429260254,
          -5.70828104019165,
          -5.528924942016602,
          10.80453109741211,
          22.942584991455078,
          1.582091212272644,
          -18.33821678161621,
          8.754460334777832,
          16.05118751525879,
          17.736963272094727,
          -16.558486938476562,
          3.173736333847046,
          -0.33283406496047974,
          16.2081356048584,
          23.231422424316406,
          13.909456253051758,
          -6.669823169708252,
          11.244746208190918,
          0.9282435178756714,
          17.021217346191406,
          -4.940027236938477,
          -4.713033199310303,
          1.2556666135787964,
          4.1236443519592285,
          11.56373405456543,
          7.657407283782959,
          11.185139656066895,
          -16.750045776367188,
          6.352219104766846,
          12.387566566467285,
          -0.9412702322006226,
          10.022087097167969,
          14.06545352935791,
          17.027587890625,
          -8.697823524475098,
          4.2678117752075195,
          17.767948150634766,
          -0.4847043752670288,
          12.976258277893066,
          14.699309349060059,
          7.745412826538086,
          -3.1400704383850098,
          15.622015953063965,
          10.445192337036133,
          14.112250328063965,
          -0.5494932532310486,
          3.4007911682128906,
          -3.142995595932007,
          6.852309226989746,
          11.539860725402832,
          8.388811111450195,
          10.51270866394043,
          10.06367015838623,
          10.030921936035156,
          -1.109307050704956,
          8.109522819519043,
          16.079797744750977,
          -1.7553905248641968,
          8.008447647094727,
          -1.3922096490859985,
          20.92676544189453,
          9.731017112731934,
          5.577341556549072,
          14.003585815429688,
          8.008647918701172,
          2.5227606296539307,
          7.154608726501465,
          -19.344438552856445,
          20.2368221282959,
          5.806690692901611,
          15.60206127166748,
          15.692463874816895,
          11.58765983581543,
          -5.18458890914917,
          10.089998245239258,
          3.392594337463379,
          -12.18930721282959,
          -9.095457077026367,
          10.03747844696045,
          20.229793548583984,
          3.6106114387512207,
          3.4402785301208496,
          9.260753631591797,
          11.08775806427002,
          14.811029434204102,
          18.199779510498047,
          3.6272060871124268,
          14.143896102905273,
          14.365509986877441,
          17.856481552124023,
          13.032398223876953,
          17.854511260986328,
          -4.753829479217529,
          18.095598220825195
         ],
         "yaxis": "y"
        },
        {
         "customdata": [
          [
           "0705.1975",
           "Heavy-quark production in massless quark scattering at two loops in QCD"
          ],
          [
           "0706.2733",
           "Ultrasoft contribution to quarkonium production and annihilation"
          ],
          [
           "0707.4139",
           "Heavy-quark production in gluon fusion at two loops in QCD"
          ],
          [
           "0708.1697",
           "NLO QED contributions to top-pair production at hadron collider"
          ],
          [
           "0709.3899",
           "On Third-Order Timelike Splitting Functions and Top-Mediated Higgs Decay\n  into Hadrons"
          ],
          [
           "0709.4055",
           "Next-to-Next-to-Leading Electroweak Logarithms in W-pair Production at\n  ILC"
          ],
          [
           "0710.3035",
           "NNLO Virtual corrections to W+ W- production at the LHC"
          ],
          [
           "0711.2005",
           "Leading Yukawa corrections to Higgs production associated with a tagged\n  bottom anti-bottom pair in the Standard Model at the LHC"
          ],
          [
           "0711.3476",
           "Color Transfer Enhancement for Heavy Quarkonium Production"
          ],
          [
           "0712.0287",
           "Hadronic production of top-squark pairs with electroweak NLO\n  contributions"
          ],
          [
           "0801.2374",
           "NLO QCD corrections to W-b-bbar and Z-b-bbar production"
          ],
          [
           "0801.2544",
           "Higgs production via gluon-gluon fusion with finite top mass beyond\n  next-to-leading order"
          ],
          [
           "0802.0106",
           "Next-to-next-to-leading order ${\\cal O}(\\alpha_s^4)$ results for heavy\n  quark pair production in quark--antiquark collisions: The one-loop squared\n  contributions"
          ],
          [
           "0802.4028",
           "W Pair Production at the LHC - I. Virtual O(alpha_s^2) Corrections in\n  the High Energy Limit"
          ],
          [
           "0803.1400",
           "Tops from Light Quarks: Full Mass Dependence at Two-Loops in QCD"
          ],
          [
           "0804.1014",
           "Bound-state Effects on Top Quark Production at Hadron Colliders"
          ],
          [
           "0804.1237",
           "Weak interaction corrections to hadronic top quark pair production:\n  contributions from quark-gluon and $b \\bar b$ induced reactions"
          ],
          [
           "0804.1476",
           "Theoretical status and prospects for top-quark pair production at hadron\n  colliders"
          ],
          [
           "0804.2800",
           "Updated predictions for the total production cross sections of top and\n  of heavier quark pairs at the Tevatron and at the LHC"
          ],
          [
           "0804.4004",
           "Ultrasoft contribution to heavy-quark pair production near threshold"
          ],
          [
           "0805.3844",
           "The theoretical top quark cross section at the Tevatron and the LHC"
          ],
          [
           "0806.0808",
           "NLO QCD corrections to Z b anti-b production with massive bottom quarks\n  at the Fermilab Tevatron"
          ],
          [
           "0806.3043",
           "W Pair Production at the LHC - II. One-loop Squared Corrections in the\n  High Energy Limit"
          ],
          [
           "0807.0548",
           "High Precision Gauge Boson Pair Production at the LHC"
          ],
          [
           "0807.1223",
           "Top-quark pair + 1-jet production at next-to-leading order QCD"
          ],
          [
           "0807.1248",
           "NLO QCD corrections to top anti-top bottom anti-bottom production at the\n  LHC: 1. quark-antiquark annihilation"
          ],
          [
           "0807.2794",
           "Heavy-quark pair production at two loops in QCD"
          ],
          [
           "0809.1355",
           "The one-loop gluon amplitude for heavy-quark production at NNLO"
          ],
          [
           "0809.3829",
           "Next-to-Leading-Order Corrections to Weak Boson Production with a\n  Massive Quark Jet Pair at Hadron Colliders"
          ],
          [
           "0809.3980",
           "Heavy quark pair production in gluon fusion at next-to-next-to-leading\n  ${\\cal O}(\\alpha_s^4)$ order: One-loop squared contributions"
          ],
          [
           "0810.0452",
           "Hadronic top-quark pair production in association with a hard jet at\n  next-to-leading order QCD: Phenomenological studies for the Tevatron and the\n  LHC"
          ],
          [
           "0810.0598",
           "Fermionic Corrections to the Heavy-Quark Pair Production in the\n  Quark-Antiquark Channel"
          ],
          [
           "0811.4757",
           "Higher order corrections to H+- production"
          ],
          [
           "0901.2155",
           "Heavy-Flavor Production at Accelerators"
          ],
          [
           "0901.3791",
           "Direct Photon Production in Association With A Heavy Quark At Hadron\n  Colliders"
          ],
          [
           "0903.0005",
           "Next-to-leading-order predictions for t-channel single-top production at\n  hadron colliders"
          ],
          [
           "0903.2561",
           "Two-loop soft anomalous dimensions and NNLL resummation for heavy quark\n  production"
          ],
          [
           "0905.0110",
           "NLO QCD corrections to pp -> t anti-t b anti-b + X at the LHC"
          ],
          [
           "0905.1649",
           "Heavy-quark pair production in polarized photon-photon collisions at\n  next-to-leading order: Fully integrated total cross sections"
          ],
          [
           "0905.2299",
           "Phenomenological studies of top-pair production + jet at NLO"
          ],
          [
           "0906.1923",
           "W- and Z-boson production with a massive bottom-quark pair at the Large\n  Hadron Collider"
          ],
          [
           "0906.2884",
           "Heavy Flavours at ZEUS and H1"
          ],
          [
           "0906.3671",
           "Two-Loop Planar Corrections to Heavy-Quark Pair Production in the\n  Quark-Antiquark Channel"
          ],
          [
           "0907.0025",
           "Charm-pair Rescattering Mechanism for Charmonium Production in\n  High-energy Collisions"
          ],
          [
           "0907.1790",
           "Threshold Resummation for Top-Pair Hadroproduction to\n  Next-to-Next-to-Leading Log"
          ],
          [
           "0907.2362",
           "HPro: A NLO Monte-Carlo for Higgs production via gluon fusion with\n  finite heavy quark masses"
          ],
          [
           "0907.2997",
           "Top mass effects in Higgs production at next-to-next-to-leading order\n  QCD: virtual corrections"
          ],
          [
           "0907.3090",
           "NLO QCD corrections to top quark pair production and decay at hadron\n  colliders"
          ],
          [
           "0907.3933",
           "NLO predictions for t-channel production of single top and fourth\n  generation quarks at hadron colliders"
          ],
          [
           "0908.0631",
           "Isolating Wt production at the LHC"
          ],
          [
           "0909.2666",
           "QCD Corrections to Scalar Diquark Production at Hadron Colliders"
          ],
          [
           "0909.3555",
           "Next-to-Leading Order Cross Sections for New Heavy Fermion Production at\n  Hadron Colliders"
          ],
          [
           "0910.2612",
           "Gluinonia: Energy Levels, Production and Decay"
          ],
          [
           "0910.4379",
           "Next-to-leading order QCD corrections to pp --> b b_bar b b_bar + X at\n  the LHC: the quark induced case"
          ],
          [
           "0911.0620",
           "Next-to-leading order QCD corrections to s-channel single top quark\n  production and decay at the LHC"
          ],
          [
           "0911.3541",
           "The three-quark static potential in perturbation theory"
          ],
          [
           "0912.2104",
           "Higgs production in gluon fusion at next-to-next-to-leading order QCD\n  for finite top mass"
          ],
          [
           "0912.3375",
           "Threshold expansion at order alpha_s^4 for the t-tbar invariant mass\n  distribution at hadron colliders"
          ],
          [
           "1001.2971",
           "Higgs production in gluon fusion at NNLO for finite top quark mass"
          ],
          [
           "1001.3362",
           "Associated production of a W or Z boson with bottom quarks at the\n  Tevatron and the LHC"
          ],
          [
           "1001.3994",
           "tops at NLO and NNLO"
          ],
          [
           "1001.5034",
           "NNLL resummation for s-channel single top quark production"
          ],
          [
           "1002.4009",
           "Dominant QCD Backgrounds in Higgs Boson Analyses at the LHC: A Study of\n  pp -> t anti-t + 2 jets at Next-To-Leading Order"
          ],
          [
           "1003.5360",
           "The Next-to-Leading Order Corrections to Top Quark Decays to Heavy\n  Quarkonia"
          ],
          [
           "1004.0876",
           "Next-to-leading order QCD corrections to a heavy resonance production\n  and decay into top quark pair at the LHC"
          ],
          [
           "1005.2970",
           "Beyond Heavy Top Limit In Higgs Boson Production At LHC"
          ],
          [
           "1006.2653",
           "Production of t anti-t b anti-b at the LHC at NLO QCD"
          ],
          [
           "1006.4682",
           "Top-Quark Pair Production Beyond Next-to-Leading Order"
          ],
          [
           "1007.1327",
           "-- HATHOR -- HAdronic Top and Heavy quarks crOss section calculatoR"
          ],
          [
           "1007.3083",
           "Top quark pair production with two jets at next-to-leading order"
          ],
          [
           "1009.4935",
           "Next-to-next-to-leading soft-gluon corrections for the top quark cross\n  section and transverse momentum distribution"
          ],
          [
           "1011.6647",
           "QCD corrections to the hadronic production of a heavy quark pair and a\n  W-boson including decay correlations"
          ],
          [
           "1011.6661",
           "Two-Loop Leading Color Corrections to Heavy-Quark Pair Production in the\n  Gluon Fusion Channel"
          ],
          [
           "1012.3975",
           "NLO QCD corrections to WWbb production at hadron colliders"
          ],
          [
           "1012.4230",
           "Complete off-shell effects in top quark pair hadroproduction with\n  leptonic decay at next-to-leading order"
          ],
          [
           "1012.5132",
           "Single top quark production and decay in the t-channel at\n  next-to-leading order at the LHC"
          ],
          [
           "1101.2563",
           "Next-to-Next-to-Leading Electroweak Logarithms for W-Pair Production at\n  LHC"
          ],
          [
           "1101.2672",
           "Top quark pair production in association with a jet with NLO parton\n  showering"
          ],
          [
           "1102.0269",
           "Ultrasoft NLL Running of the Nonrelativistic O(v) QCD Quark Potential"
          ],
          [
           "1102.2443",
           "Antenna subtraction for the production of heavy particles at hadron\n  colliders"
          ],
          [
           "1102.5267",
           "Off-shell effects for t-channel and s-channel single-top production at\n  NLO in QCD"
          ]
         ],
         "hovertemplate": "keywords=corrections order qcd cross heavy mass section quark heavy-quark bottom-quark effects quarks hadron<br>x=%{x}<br>y=%{y}<br>id=%{customdata[0]}<br>title=%{customdata[1]}<extra></extra>",
         "legendgroup": "corrections order qcd cross heavy mass section quark heavy-quark bottom-quark effects quarks hadron",
         "marker": {
          "color": "#FF6692",
          "symbol": "circle"
         },
         "mode": "markers",
         "name": "corrections order qcd cross heavy mass section quark heavy-quark bottom-quark effects quarks hadron",
         "orientation": "v",
         "showlegend": true,
         "type": "scatter",
         "x": [
          -5.828426837921143,
          11.974236488342285,
          -5.862983226776123,
          3.1917600631713867,
          -16.172208786010742,
          9.89810848236084,
          -1.4677965641021729,
          -2.454575538635254,
          -7.818360805511475,
          2.7400193214416504,
          0.7754960656166077,
          -4.505290508270264,
          -6.2331414222717285,
          -1.4555538892745972,
          -5.737084865570068,
          0.008194757625460625,
          -0.3730337917804718,
          1.4513415098190308,
          1.2971166372299194,
          -4.856919288635254,
          0.8924802541732788,
          0.6145482063293457,
          -1.4403371810913086,
          -1.538882851600647,
          6.31336784362793,
          1.8678470849990845,
          1.0702019929885864,
          -5.894180774688721,
          0.40122950077056885,
          -6.177796840667725,
          5.895977973937988,
          -7.533778667449951,
          3.4551641941070557,
          0.3347090482711792,
          -0.8073260188102722,
          4.049549579620361,
          -1.1264632940292358,
          1.8321622610092163,
          -0.46870192885398865,
          6.1519317626953125,
          0.737295389175415,
          -2.92029070854187,
          -7.189092636108398,
          -3.194788932800293,
          -0.13563378155231476,
          -6.0734333992004395,
          -3.5070724487304688,
          5.901315212249756,
          4.028250694274902,
          4.61610746383667,
          -9.737700462341309,
          -3.2886064052581787,
          7.440904140472412,
          2.1967411041259766,
          4.412075519561768,
          -7.7636799812316895,
          -4.427761554718018,
          2.229780912399292,
          -4.11518669128418,
          0.6364471912384033,
          5.82141637802124,
          1.0412752628326416,
          6.390995502471924,
          5.495697021484375,
          4.922656059265137,
          -2.6487224102020264,
          1.8503665924072266,
          1.948116421699524,
          2.1756722927093506,
          6.7934136390686035,
          0.7675413489341736,
          -5.373276710510254,
          -7.102475166320801,
          4.58461332321167,
          5.297738075256348,
          4.376468658447266,
          9.898092269897461,
          11.407588958740234,
          -7.439225196838379,
          22.827733993530273,
          4.257571220397949
         ],
         "xaxis": "x",
         "y": [
          4.82965612411499,
          -12.970714569091797,
          4.778255939483643,
          -4.255643367767334,
          7.462836265563965,
          -11.092950820922852,
          -21.85196876525879,
          -8.339566230773926,
          4.066652297973633,
          -4.624221324920654,
          -6.227463245391846,
          -5.22288179397583,
          1.8273478746414185,
          -21.94063377380371,
          5.417435646057129,
          2.5998799800872803,
          3.4682540893554688,
          -1.3070714473724365,
          0.3466572165489197,
          5.597582817077637,
          -2.206228733062744,
          -5.970066070556641,
          -21.96139907836914,
          -21.600875854492188,
          -3.9831392765045166,
          -20.410282135009766,
          0.37409189343452454,
          3.7827670574188232,
          -5.650104999542236,
          1.7770347595214844,
          -2.63655424118042,
          5.308087348937988,
          -0.649058997631073,
          1.0201045274734497,
          1.3187615871429443,
          -3.21964693069458,
          -1.004610538482666,
          -20.400949478149414,
          0.368411123752594,
          -3.88729190826416,
          -6.189342498779297,
          6.850304126739502,
          4.718893527984619,
          4.830070495605469,
          -1.20839262008667,
          -6.416935920715332,
          -6.458836078643799,
          -1.2599971294403076,
          -3.163611888885498,
          -4.342735767364502,
          3.5416691303253174,
          3.792323350906372,
          -3.389326572418213,
          -7.087577819824219,
          -1.1320068836212158,
          1.9351165294647217,
          -5.992370128631592,
          -2.992535352706909,
          -5.891193389892578,
          -5.935064315795898,
          -5.59776496887207,
          -1.5088344812393188,
          -4.064007759094238,
          -5.5907697677612305,
          -6.6174635887146,
          -5.771028995513916,
          -20.46698760986328,
          -1.763995885848999,
          0.09633477032184601,
          -5.131378173828125,
          -1.93416166305542,
          4.413431167602539,
          4.4975810050964355,
          -5.983142852783203,
          -2.519071578979492,
          -1.1378377676010132,
          -11.098599433898926,
          -1.9587171077728271,
          2.3370418548583984,
          -7.338810443878174,
          -2.0102076530456543
         ],
         "yaxis": "y"
        },
        {
         "customdata": [
          [
           "0705.2431",
           "Higher-order Threshold Corrections for Single Top Quark Production"
          ],
          [
           "0706.0701",
           "Top Pair Production cross-section at the Tevatron"
          ],
          [
           "0706.1640",
           "Independent measurement of the top quark mass and the light- and\n  bottom-jet energy scales at hadron colliders"
          ],
          [
           "0706.3790",
           "Measurement of the p anti-p to t anti-t Production Cross Section and the\n  Top Quark Mass at sqrt{s}=1.96 TeV in the All-Hadronic Decay Mode"
          ],
          [
           "0707.1342",
           "Top Quark Production and Decay Properties at the Tevatron"
          ],
          [
           "0708.1225",
           "Single production of heavy top quark from the three-site Higgsless model"
          ],
          [
           "0709.2665",
           "Top Quark Physics at the Tevatron"
          ],
          [
           "0709.4572",
           "Measurement of Heavy Quark cross-sections at CDF"
          ],
          [
           "0710.4983",
           "Electroweak and Top Physics at the Tevatron and Indirect Higgs Limits"
          ],
          [
           "0801.3877",
           "Search for Heavy Top-like Quarks t' -> Wq Using Lepton Plus Jets Events\n  in 1.96 TeV Proton-Antiproton Collisions"
          ],
          [
           "0802.1482",
           "Single Slepton Production in association with a single Top Quark at the\n  Tevatron and LHC"
          ],
          [
           "0802.3381",
           "Soft and collinear enhancements to top quark and Higgs cross sections"
          ],
          [
           "0803.0739",
           "Evidence for production of single top quarks"
          ],
          [
           "0803.1231",
           "Probing the topcolor-assisted technicolor model via the single t-quark\n  production at Hadron colliders"
          ],
          [
           "0804.1684",
           "Top quark pair production cross section at the Tevatron"
          ],
          [
           "0804.4288",
           "Top Quark Pair Production and Properties Measurements at the Tevatron"
          ],
          [
           "0804.4389",
           "NLO QCD corrections to pp -> top anti-top + jet + X"
          ],
          [
           "0805.1333",
           "Top quark physics at the LHC"
          ],
          [
           "0805.2086",
           "Beauty and Charm Production Cross Section Measurements at the Tevatron"
          ],
          [
           "0805.3163",
           "Top Physics at LHC"
          ],
          [
           "0805.3878",
           "Evidence for Single Top Production at the Tevatron"
          ],
          [
           "0806.4647",
           "Top Quark Production from Black Holes at the CERN LHC"
          ],
          [
           "0807.0686",
           "Measurement of top quark properties at D0"
          ],
          [
           "0808.0271",
           "Measurements of the Top Quark mass at CDF"
          ],
          [
           "0808.0797",
           "Measurements of ttbar production cross-section with D0 experiment"
          ],
          [
           "0810.2074",
           "Results on Top Quark Physics at D0"
          ],
          [
           "0810.2793",
           "Measurements of Single-Top Quark Production at the Tevatron"
          ],
          [
           "0810.3677",
           "Top quark pair cross section measurement at ATLAS"
          ],
          [
           "0810.3889",
           "Next-to-leading order QCD corrections to the top quark decay via\n  model-independent FCNC couplings"
          ],
          [
           "0810.5226",
           "Review of Properties of the Top Quark from Measurements at the Tevatron"
          ],
          [
           "0812.0919",
           "Top-quark pair production near threshold at LHC"
          ],
          [
           "0812.1529",
           "Top Quark Mass in Lepton+Jets Decays at the Tevatron"
          ],
          [
           "0901.1556",
           "Early Top Physics with ATLAS"
          ],
          [
           "0901.4840",
           "QCD and Top Quark Physics at the LHC"
          ],
          [
           "0904.2295",
           "Tevatron top physics"
          ],
          [
           "0905.4464",
           "Top quark pair production cross section at Tevatron"
          ],
          [
           "0906.0518",
           "Searching the Inclusive Lepton + Photon + Missing ET + b-quark Signature\n  for Radiative Top Quark Decay and Non-Standard-Model Processes"
          ],
          [
           "0906.5273",
           "Measuring the running top-quark mass"
          ],
          [
           "0909.0037",
           "Higher-order corrections to top-antitop pair and single top quark\n  production"
          ],
          [
           "0909.2963",
           "Top-Quark Cross Section and Properties at the Tevatron"
          ],
          [
           "0909.2980",
           "Top Quark Production at Hadron Colliders: an Overview"
          ],
          [
           "0909.4518",
           "Observation of Single Top Quark Production at the Tevatron"
          ],
          [
           "0910.3049",
           "Search for anomalous top-gluon couplings at LHC revisited"
          ],
          [
           "0911.5016",
           "Probing Top Anomalous Couplings at the Tevatron and the Large Hadron\n  Collider"
          ],
          [
           "1001.3422",
           "Spin Correlation Effects in Top Quark Pair Production at the LHC"
          ],
          [
           "1002.3223",
           "Phase Space Matching and Finite Lifetime Effects for Top-Pair Production\n  Close to Threshold"
          ],
          [
           "1002.4167",
           "Observation of Single Top Quark Production at the Tevatron Collider"
          ],
          [
           "1003.3926",
           "Distributions and correlations for top quark pair production and decay\n  at the Tevatron and LHC."
          ],
          [
           "1003.4359",
           "Top-Antitop-Quark Production and Decay Properties at the Tevatron"
          ],
          [
           "1003.5827",
           "Renormalization-Group Improved Predictions for Top-Quark Pair Production\n  at Hadron Colliders"
          ],
          [
           "1004.3284",
           "NLO QCD corrections to top quark pair production in association with one\n  hard jet at hadron colliders"
          ],
          [
           "1004.5368",
           "Review of Top Quark Measurements"
          ],
          [
           "1005.0347",
           "Spin Correlation Effects in Top Quark Pair Production"
          ],
          [
           "1005.3330",
           "Single top quark production cross section at hadron colliders"
          ],
          [
           "1006.3575",
           "Search for flavor changing neutral currents via quark-gluon couplings in\n  single top quark production using 2.3 fb^-1 of ppbar collisions"
          ],
          [
           "1007.0075",
           "Bound-state effects on kinematical distributions of top quarks at hadron\n  colliders"
          ],
          [
           "1007.1716",
           "Spin correlations: Tevatron vs. LHC"
          ],
          [
           "1007.4423",
           "Measurement of the ttbar Production Cross Section with an in situ\n  Calibration of b-jet Identification Efficiency"
          ],
          [
           "1007.4816",
           "Top Quark Physics at the CDF Experiment"
          ],
          [
           "1008.2460",
           "Top quark pair and single top production at Tevatron and LHC energies"
          ],
          [
           "1008.2685",
           "One-side Forward-backward Asymmetry in Top Quark Pair Production at CERN\n  Large Hadron Collider"
          ],
          [
           "1009.5379",
           "Color Sextet Vector Bosons and Same-Sign Top Quark Pairs at the LHC"
          ],
          [
           "1009.5629",
           "Single top quark production and Vtb at the Tevatron"
          ],
          [
           "1010.1931",
           "Probing Anomalous Top-Gluon Couplings at Colliders"
          ],
          [
           "1010.5994",
           "First Measurement of the Cross Section for Top-Quark Pair Production in\n  Proton-Proton Collisions at sqrt(s)=7 TeV"
          ],
          [
           "1010.6304",
           "Non-resonant New Physics in Top Pair Production at Hadron Colliders"
          ],
          [
           "1011.0152",
           "New Color-Octet Vector Boson?"
          ],
          [
           "1011.2655",
           "Addendum to: Search for anomalous top-gluon couplings at LHC revisited"
          ],
          [
           "1011.4679",
           "Top quark pair production at the Tevatron"
          ],
          [
           "1011.6380",
           "New Strongly Coupled Sector at the Tevatron and the LHC"
          ],
          [
           "1012.1792",
           "Measurement of the top quark-pair production cross section with ATLAS in\n  pp collisions at $\\sqrt{s}=7\\TeV$"
          ],
          [
           "1012.2319",
           "Top Quark Production at the Tevatron"
          ],
          [
           "1101.5203",
           "LHC Predictions from a Tevatron Anomaly in the Top Quark\n  Forward-Backward Asymmetry"
          ],
          [
           "1101.5625",
           "Top Quark Forward-Backward Asymmetry and Same-Sign Top Quark Pairs"
          ],
          [
           "1102.1967",
           "QCD corrections to top quark pair production in association with a\n  photon at hadron colliders"
          ],
          [
           "1102.4562",
           "Leptoquarks decaying to a top quark and a charged lepton at hadron\n  colliders"
          ],
          [
           "1103.0550",
           "RG-improved single-particle inclusive cross sections and\n  forward-backward asymmetry in $t\\bar t$ production at hadron colliders"
          ],
          [
           "1103.1266",
           "Top quark forward-backward asymmetry from the $3-3-1$ model"
          ],
          [
           "1103.2122",
           "Top quark spin correlations at the Tevatron and the LHC"
          ]
         ],
         "hovertemplate": "keywords=tevatron production lhc mass section cross measurements quark<br>x=%{x}<br>y=%{y}<br>id=%{customdata[0]}<br>title=%{customdata[1]}<extra></extra>",
         "legendgroup": "tevatron production lhc mass section cross measurements quark",
         "marker": {
          "color": "#B6E880",
          "symbol": "circle"
         },
         "mode": "markers",
         "name": "tevatron production lhc mass section cross measurements quark",
         "orientation": "v",
         "showlegend": true,
         "type": "scatter",
         "x": [
          3.457048177719116,
          9.15766716003418,
          4.808848857879639,
          10.442147254943848,
          6.92490816116333,
          2.635836124420166,
          7.422406196594238,
          11.05382251739502,
          6.851149559020996,
          9.005927085876465,
          4.964456558227539,
          -1.538447380065918,
          5.8221940994262695,
          4.498230934143066,
          8.835339546203613,
          8.003961563110352,
          5.992666721343994,
          3.4335920810699463,
          11.323321342468262,
          4.003392696380615,
          8.443756103515625,
          2.9870800971984863,
          6.400064468383789,
          8.228196144104004,
          9.980364799499512,
          6.1614861488342285,
          8.117853164672852,
          4.282079696655273,
          7.134886264801025,
          6.472127437591553,
          2.8067474365234375,
          7.925123691558838,
          4.190816402435303,
          3.8555781841278076,
          6.74411153793335,
          9.691108703613281,
          9.846726417541504,
          2.250188112258911,
          3.5641186237335205,
          7.578944206237793,
          3.4832990169525146,
          7.518021106719971,
          3.7773122787475586,
          5.720715045928955,
          2.0103328227996826,
          2.644157648086548,
          7.422848701477051,
          7.064782619476318,
          7.581612586975098,
          2.484745502471924,
          5.986895561218262,
          7.404726982116699,
          1.6990420818328857,
          4.127775192260742,
          5.772902488708496,
          0.06282278895378113,
          7.118795394897461,
          10.876022338867188,
          7.642482757568359,
          3.740983247756958,
          3.8910298347473145,
          2.7348978519439697,
          6.300305366516113,
          5.564240455627441,
          11.63832950592041,
          5.813391208648682,
          3.80183482170105,
          3.8048624992370605,
          5.994321346282959,
          5.537230014801025,
          11.51203727722168,
          8.210622787475586,
          5.065629482269287,
          4.619193077087402,
          5.860472679138184,
          6.336935520172119,
          2.6078708171844482,
          5.015594959259033,
          7.121283054351807
         ],
         "xaxis": "x",
         "y": [
          -0.06319664418697357,
          1.370929479598999,
          2.818378210067749,
          1.2168232202529907,
          2.8643722534179688,
          4.670375347137451,
          3.623817205429077,
          3.4223875999450684,
          4.522800445556641,
          3.9700586795806885,
          0.8983744382858276,
          -4.341483116149902,
          1.9877034425735474,
          0.35796433687210083,
          1.7988669872283936,
          3.5129590034484863,
          -2.6587157249450684,
          2.8579959869384766,
          4.4663262367248535,
          3.0088512897491455,
          2.5765902996063232,
          1.879315972328186,
          3.2018988132476807,
          5.125226020812988,
          2.378628969192505,
          2.960822105407715,
          2.3562426567077637,
          1.8839304447174072,
          -1.844883918762207,
          4.02156400680542,
          1.236092209815979,
          3.988945722579956,
          2.51096248626709,
          3.519726276397705,
          3.5181233882904053,
          2.5191893577575684,
          3.4331729412078857,
          0.8298196196556091,
          0.5207231044769287,
          6.304714202880859,
          1.8399455547332764,
          2.424114227294922,
          7.172693252563477,
          7.286983966827393,
          2.6462759971618652,
          -0.894839882850647,
          1.7694611549377441,
          -0.1523548811674118,
          6.32150936126709,
          -2.504061460494995,
          -1.7041523456573486,
          4.457301139831543,
          2.7819652557373047,
          0.1854231357574463,
          2.2653684616088867,
          2.5403647422790527,
          -0.0430639423429966,
          1.214146375656128,
          4.626888751983643,
          0.6459397673606873,
          5.374324798583984,
          3.69738507270813,
          2.159355878829956,
          7.345022678375244,
          1.9409873485565186,
          0.4741016924381256,
          5.336939334869385,
          7.238163948059082,
          3.0748186111450195,
          5.291327476501465,
          2.015887498855591,
          3.245968818664551,
          5.024690628051758,
          4.612071990966797,
          -0.730579137802124,
          5.917235374450684,
          -2.3529675006866455,
          3.988037109375,
          0.4612915515899658
         ],
         "yaxis": "y"
        },
        {
         "customdata": [
          [
           "0705.3804",
           "Exclusive e+e-, Di-photon and Di-jet Production at the Tevatron"
          ],
          [
           "0712.0746",
           "Testing BFKL evolution with Mueller-Navelet jets"
          ],
          [
           "0801.3906",
           "Energy Calibration of b-Quark Jets with Z->b-bbar Decays at the Tevatron\n  Collider"
          ],
          [
           "0804.0490",
           "Photon plus Jet Cross Sections at the Tevatron"
          ],
          [
           "0805.2267",
           "Analytical studies for non-perturbative QCD of jets at hadron colliders"
          ],
          [
           "0806.0825",
           "W/Z + Jets and W/Z + Heavy Flavor Jets at the Tevatron"
          ],
          [
           "0807.0066",
           "Photoproduction of single inclusive jets at future ep colliders in\n  next-to-leading order QCD"
          ],
          [
           "0808.0901",
           "QCD, Tevatron results and LHC prospects"
          ],
          [
           "0808.2238",
           "Drell-Yan Cross Section in the Jet Calculus Scheme"
          ],
          [
           "0808.3347",
           "Heavy Quark Production at the Tevatron"
          ],
          [
           "0809.1407",
           "W/Z + Light Flavor Jets and W/Z + Heavy Flavor Jets at the Tevatron"
          ],
          [
           "0809.3003",
           "Associated Production of a W Boson and One b Jet"
          ],
          [
           "0810.3754",
           "Measurements of Photon Plus Heavy Flavor Jet Cross Sections"
          ],
          [
           "0810.4321",
           "Z (+jets) At The Tevatron"
          ],
          [
           "0812.2500",
           "Diffractive and Exclusive (Higgs?) Production from CDF to LHC"
          ],
          [
           "0812.4458",
           "Measurement of Cross Sections for $b$ Jet Production in Events with a\n  $Z$ Boson in $p\\bar{p}$ Collisions at $\\sqrt{s}=1.96$ TeV"
          ],
          [
           "0901.0739",
           "Measurement of photon+b+X and photon+c+X production cross sections in\n  ppbar collisions at sqrt(s)=1.96 TeV"
          ],
          [
           "0903.0814",
           "Search for WW and WZ production in lepton plus jets final state at CDF"
          ],
          [
           "0903.1748",
           "Measurements of differential cross sections of Z/gamma*+jets+X events in\n  proton anti-proton collisions at sqrt{s}=1.96 TeV"
          ],
          [
           "0905.2201",
           "Photon + Jet production at sqrt{s}=1.96 TeV"
          ],
          [
           "0905.2323",
           "Measurement of the Underlying Event at Tevatron"
          ],
          [
           "0907.2725",
           "Review of Recent Tevatron Jet, W/Z+Jet and Heavy-flavor Production\n  Results"
          ],
          [
           "0907.4286",
           "Measurement of Z/gamma*+jet+X angular distributions in ppbar collisions\n  at sqrt{s}=1.96 TeV"
          ],
          [
           "0907.4825",
           "Measurements of Fragmentation Photons with the PHENIX Detector"
          ],
          [
           "0909.0059",
           "Weak effects in b-jet production at hadron colliders"
          ],
          [
           "0909.1505",
           "First Measurement of the b-jet Cross Section in Events with a W Boson in\n  p-pbar Collisions at sqrt{s} = 1.96 TeV"
          ],
          [
           "0909.5236",
           "Jet gap jet events at Tevatron and LHC"
          ],
          [
           "0910.0223",
           "Electroweak corrections to b-jet and di-jet production"
          ],
          [
           "0910.3400",
           "Studies of forward jets and production of W, Z bosons at LHC energies"
          ],
          [
           "0910.3671",
           "W+3 jet production at the LHC as a signal or background"
          ],
          [
           "0912.3453",
           "A study of the associated production of photons and b-quark jets in\n  p-pbar collisions at sqrt{s} = 1.96 TeV"
          ],
          [
           "0912.4927",
           "Next-to-Leading Order Jet Physics with BlackHat"
          ],
          [
           "1001.2807",
           "QCD Results from the Fermilab Tevatron proton-antiproton Collider"
          ],
          [
           "1002.3783",
           "Measurement of the ttbar Production Cross Section in ppbar Collisions at\n  sqrt(s)=1.96 TeV using Soft Electron b-Tagging"
          ],
          [
           "1004.1659",
           "Next-to-Leading Order QCD Predictions for Z,gamma^*+3-Jet Distributions\n  at the Tevatron"
          ],
          [
           "1005.4060",
           "The Beam Thrust Cross Section for Drell-Yan at NNLL Order"
          ],
          [
           "1006.2389",
           "The physics of $Z^0/\\gamma^*$-tagged jets at the LHC"
          ],
          [
           "1006.5679",
           "Jet masses for high p_T QCD jets at all orders"
          ],
          [
           "1007.5379",
           "Mean multiplicity of light and heavy quark initiated jets"
          ],
          [
           "1008.0655",
           "W/Z + jet production at the Tevatron"
          ],
          [
           "1008.2291",
           "Measurements of vector boson plus jets at the Tevatron"
          ],
          [
           "1009.0868",
           "Study of particle production from quark and gluon jets in proton-proton\n  collisions"
          ],
          [
           "1009.2338",
           "Precise Predictions for W + 4 Jet Production at the Large Hadron\n  Collider"
          ],
          [
           "1010.2089",
           "Tagged jets and jet reconstruction as a probe of QGP induced partonic\n  energy loss"
          ],
          [
           "1010.5803",
           "A brief overview of fixed-order perturbative QCD calculations of jet\n  production in heavy-ion collisions"
          ],
          [
           "1011.4590",
           "Inclusive and Associated b-jet Production at the Tevatron in the Regge\n  Limit of QCD"
          ],
          [
           "1011.6674",
           "Z+jet production at the LHC: Electroweak radiative corrections"
          ],
          [
           "1012.2975",
           "High E_T Jet physics at the Tevatron"
          ],
          [
           "1012.4480",
           "Higgs Production with a Central Jet Veto at NNLL+NNLO"
          ],
          [
           "1012.5382",
           "Measurement of the production cross section for W-bosons in association\n  with jets in pp collisions at sqrt(s) = 7 TeV with the ATLAS detector"
          ],
          [
           "1101.0756",
           "Tagged jets and jet reconstruction as a probe of the quark-gluon plasma"
          ],
          [
           "1101.2665",
           "A simple description of jet cross-section ratios"
          ],
          [
           "1101.5394",
           "Multiple Jets at the LHC with High Energy Jets"
          ],
          [
           "1102.0917",
           "LO vs NLO comparisons for Z + jets: MC as a tool for background\n  determination for NP searches at LHC"
          ],
          [
           "1103.0831",
           "Comparison of the Geometrical Characters Inside Quark- and Gluon-jet\n  Produced by Different Flavor Quarks"
          ]
         ],
         "hovertemplate": "keywords=jet production cross jets qcd event data models results<br>x=%{x}<br>y=%{y}<br>id=%{customdata[0]}<br>title=%{customdata[1]}<extra></extra>",
         "legendgroup": "jet production cross jets qcd event data models results",
         "marker": {
          "color": "#FF97FF",
          "symbol": "circle"
         },
         "mode": "markers",
         "name": "jet production cross jets qcd event data models results",
         "orientation": "v",
         "showlegend": true,
         "type": "scatter",
         "x": [
          11.719818115234375,
          18.441259384155273,
          11.869477272033691,
          15.981446266174316,
          16.567176818847656,
          16.287410736083984,
          12.559338569641113,
          15.467853546142578,
          11.994922637939453,
          13.027673721313477,
          16.32897186279297,
          13.704378128051758,
          15.716242790222168,
          16.01565933227539,
          11.476651191711426,
          13.374056816101074,
          15.595048904418945,
          19.324190139770508,
          16.413095474243164,
          15.843079566955566,
          17.584373474121094,
          15.140028953552246,
          14.597294807434082,
          17.3043155670166,
          0.9212242960929871,
          12.839945793151855,
          18.508045196533203,
          13.472058296203613,
          13.342138290405273,
          13.6558198928833,
          14.348559379577637,
          14.666699409484863,
          14.984230041503906,
          12.127947807312012,
          14.633890151977539,
          14.878092765808105,
          15.352494239807129,
          15.94570541381836,
          -3.8308629989624023,
          15.03736686706543,
          15.168335914611816,
          -7.30012321472168,
          12.791909217834473,
          -3.4260518550872803,
          15.83971881866455,
          13.69933032989502,
          12.917365074157715,
          15.273128509521484,
          14.69115161895752,
          13.665037155151367,
          -3.4556517601013184,
          16.15715980529785,
          15.753195762634277,
          13.65170955657959,
          -7.871367931365967
         ],
         "xaxis": "x",
         "y": [
          8.94970417022705,
          -7.906628131866455,
          -0.10287724435329437,
          0.9442612528800964,
          -6.919367790222168,
          -3.6483428478240967,
          -10.031163215637207,
          -1.0536110401153564,
          -1.76070237159729,
          2.4832794666290283,
          -3.6081578731536865,
          -3.9676640033721924,
          0.994555652141571,
          -1.598790168762207,
          9.193455696105957,
          0.044549401849508286,
          1.1169474124908447,
          -2.091779947280884,
          -0.38796716928482056,
          1.655524492263794,
          -2.0668580532073975,
          -1.7317935228347778,
          -2.2490715980529785,
          3.2498977184295654,
          -4.973291397094727,
          0.25032100081443787,
          -7.2649970054626465,
          -6.082385063171387,
          -5.28010368347168,
          -6.509619235992432,
          1.0948843955993652,
          -5.954944133758545,
          -0.7363242506980896,
          1.1821770668029785,
          -5.697132110595703,
          -7.693051338195801,
          -5.006807804107666,
          -7.00255012512207,
          7.924561500549316,
          -3.285043478012085,
          -3.0853078365325928,
          13.810338020324707,
          -7.842530250549316,
          18.30980110168457,
          -5.299973011016846,
          -2.351408004760742,
          -5.732314109802246,
          -2.4675564765930176,
          -7.029280185699463,
          -0.5696525573730469,
          18.288724899291992,
          -5.471676826477051,
          -6.717872142791748,
          -5.1361470222473145,
          13.989036560058594
         ],
         "yaxis": "y"
        },
        {
         "customdata": [
          [
           "0706.2984",
           "QED collinear radiation factors in the next-to-leading logarithmic\n  approximation"
          ],
          [
           "0707.0381",
           "Strong and electroweak corrections to the production of Higgs+2jets via\n  weak interactions at the LHC"
          ],
          [
           "0707.1508",
           "How important are next-to-leading order models in predicting strange\n  particle spectra in p+p collisions at STAR ?"
          ],
          [
           "0707.1510",
           "STAR identifed particle measurements at high transverse momentum in p+p\n  $\\sqrt{s}$ = 200 GeV"
          ],
          [
           "0707.3342",
           "Automated calculations for multi-leg processes"
          ],
          [
           "0707.4080",
           "QCD prerequisites for extra dimension searches"
          ],
          [
           "0708.0916",
           "Higgs Decay to Gluons at NNLO"
          ],
          [
           "0708.1689",
           "Threshold corrections to rapidity distributions of Z and W^\\pm bosons\n  beyond N^2 LO at hadron colliders"
          ],
          [
           "0708.4390",
           "Herwig++ Monte Carlo At Next-To-Leading Order for e+e- annihilation and\n  lepton pair production"
          ],
          [
           "0709.0351",
           "Tools for NNLO QCD Calculations"
          ],
          [
           "0710.0826",
           "Next-to-leading order QCD effects in associated charged Higgs and W\n  boson production in the MSSM at the CERN Large Hadron Collider"
          ],
          [
           "0710.1577",
           "NLO QCD corrections to WW+jet production at hadron colliders"
          ],
          [
           "0710.1832",
           "Next-to-leading order predictions for WW + 1 jet distributions at the\n  LHC"
          ],
          [
           "0710.3309",
           "Radiative corrections to W-boson hadroproduction: higher-order\n  electroweak and supersymmetric effects"
          ],
          [
           "0710.5621",
           "Dominant next-to-leading order QCD corrections to Higgs plus three jet\n  production in vector-boson fusion"
          ],
          [
           "0711.0142",
           "Collinear and soft gluon corrections to Higgs production at NNNLO"
          ],
          [
           "0712.3163",
           "NLO QCD corrections to pp->WW+jet+X"
          ],
          [
           "0712.4293",
           "QCD Nuclear Factor and the Moments of the Multiplicity Distributions in\n  High-Order Perturbative Gluodynamics"
          ],
          [
           "0801.1616",
           "Next-to-leading order multi-leg processes for the Large Hadron Collider"
          ],
          [
           "0801.3360",
           "Photon pair production at flavour factories with per mille accuracy"
          ],
          [
           "0803.1940",
           "Next-to-leading order QCD corrections to spin-dependent hadron-pair\n  photoproduction"
          ],
          [
           "0803.4485",
           "The High Energy Limit of QCD: BFKL Cross Sections"
          ],
          [
           "0804.2220",
           "Next-to-leading order QCD corrections to t-tbar-Z production at the LHC"
          ],
          [
           "0804.4025",
           "Yukawa corrections to Higgs production associated with two bottom quarks\n  at the LHC"
          ],
          [
           "0804.4054",
           "Unparticles in diphoton production to NLO in QCD at the LHC"
          ],
          [
           "0806.0290",
           "A Positive-Weight Next-to-Leading Order Monte Carlo Simulation of\n  Drell-Yan Vector Boson Production"
          ],
          [
           "0806.1394",
           "NLO QCD corrections to the production of a weak boson pair associated by\n  a hard jet"
          ],
          [
           "0806.3282",
           "Upsilon production at the Tevatron and the LHC"
          ],
          [
           "0807.0520",
           "Subtraction method of computing QCD jet cross sections at NNLO accuracy"
          ],
          [
           "0807.0708",
           "NLO QCD corrections to pp->WW+jet+X"
          ],
          [
           "0810.2215",
           "Dynamical next-to-next-to-leading order parton distributions and the\n  perturbative stability of F_L(x,Q^2)"
          ],
          [
           "0810.3524",
           "Recent theoretical progress in perturbative QCD"
          ],
          [
           "0811.0963",
           "Next-to-Leading-Order QCD corrections to J/\\psi(\\Upsilon)+\\gamma\n  production at the LHC"
          ],
          [
           "0811.1412",
           "Higher order QCD corrections to charged-lepton deep-inelastic scattering\n  and global fits of parton distributions"
          ],
          [
           "0811.1670",
           "Diphoton signals in theories with large extra dimensions to NLO QCD at\n  hadron colliders"
          ],
          [
           "0812.0578",
           "NLO Higgs boson production via gluon fusion matched with shower in\n  POWHEG"
          ],
          [
           "0901.0002",
           "Parton distributions for the LHC"
          ],
          [
           "0901.0802",
           "Higher-order soft corrections to squark hadro-production"
          ],
          [
           "0901.4101",
           "Generalized unitarity at work: first NLO QCD results for hadronic W+3jet\n  production"
          ],
          [
           "0901.4318",
           "Radiative corrections to stoponium annihilation decays"
          ],
          [
           "0901.4749",
           "J/\\psi polarization in photo-production up-to the next-to-leading order\n  of QCD"
          ],
          [
           "0902.2760",
           "Precise Predictions for W + 3 Jet Production at Hadron Colliders"
          ],
          [
           "0902.4894",
           "Direct photon pair production at the LHC to order alpha_s in TeV scale\n  gravity models"
          ],
          [
           "0903.1876",
           "LHC phenomenology at next-to-leading order QCD: theoretical progress and\n  new results"
          ],
          [
           "0903.2120",
           "Vector boson production at hadron colliders: a fully exclusive QCD\n  calculation at NNLO"
          ],
          [
           "0903.4345",
           "A Positive-Weight Next-to-Leading Order Monte Carlo Simulation for Higgs\n  Boson Production"
          ],
          [
           "0903.4598",
           "Gaps between jets at hadron colliders in the next-to-leading BFKL\n  framework"
          ],
          [
           "0904.0410",
           "Next-to-leading Order Calculation of the Single Transverse Spin\n  Asymmetry in the Drell-Yan Process"
          ],
          [
           "0904.4025",
           "Relativistic Correction to J/\\psi Production at Hadron Colliders"
          ],
          [
           "0904.4402",
           "Next-to-leading order QCD corrections to hadron+jet production in pp\n  collisions at RHIC"
          ],
          [
           "0905.4004",
           "Transition form factors of the pion in light-cone QCD sum rules with\n  next-to-next-to-leading order contributions"
          ],
          [
           "0906.1445",
           "W+3 jet production at the Tevatron"
          ],
          [
           "0906.1656",
           "Electroweak corrections to W + jet hadroproduction including leptonic\n  W-boson decays"
          ],
          [
           "0906.2068",
           "Higher-order QCD corrections for vector boson production at hadron\n  colliders"
          ],
          [
           "0906.2648",
           "Charged-Higgs-boson production at the LHC: NLO supersymmetric QCD\n  corrections"
          ],
          [
           "0907.0580",
           "Next-to-leading order QCD corrections to W+W+jj and W-W-jj production\n  via weak-boson fusion"
          ],
          [
           "0907.1324",
           "QCD corrections to associated production of $t\\bar t\\gamma$ at hadron\n  colliders"
          ],
          [
           "0907.1984",
           "Next-to-Leading Order QCD Predictions for W+3-Jet Distributions at\n  Hadron Colliders"
          ],
          [
           "0907.5056",
           "Simulation of $Z$ boson $p_{T}$ spectrum at Tevatron by leading-order\n  event generators"
          ],
          [
           "0908.0824",
           "Inclusive Single Hadron Production in Neutral Current Deep-Inelastic\n  Scattering at Next-to-Leading Order"
          ],
          [
           "0908.1336",
           "The Drell-Yan process in NNLO QCD"
          ],
          [
           "0908.1638",
           "NLO-QCD corrections to $W\\gamma j$ production"
          ],
          [
           "0908.3914",
           "Measurement of $d\\sigma/dy$ of Drell-Yan $e^+e^-$ pairs in the $Z$ Mass\n  Region from $p\\bar{p}$ Collisions at $\\sqrt{s}=1.96$ TeV"
          ],
          [
           "0908.4124",
           "NLO QCD corrections to pp/ppbar --> WW+jet+X including leptonic W-boson\n  decays"
          ],
          [
           "0909.2651",
           "Z boson pair production at the LHC to ${\\cal O}(\\alpha_s)$ in TeV scale\n  gravity models"
          ],
          [
           "0909.5027",
           "Precision calculations in BR(anti-B --> Xs gamma)"
          ],
          [
           "0910.1551",
           "Next-to-leading order QCD corrections to the $Z$ boson pair production\n  at the LHC in Randall Sundrum model"
          ],
          [
           "0910.3143",
           "Deviations from NLO QCD evolution in inclusive HERA data"
          ],
          [
           "0910.4349",
           "Next-to-leading order QCD corrections to the single top quark production\n  via model-independent t-q-g flavor-changing neutral-current couplings at\n  hadron colliders"
          ],
          [
           "0911.2146",
           "Next-to-Leading Order QCD Corrections to Heavy Quark Correlations in\n  Longitudinally Polarized Hadron-Hadron Collisions"
          ],
          [
           "0911.3181",
           "NLO QCD corrections to ZZ+jet production at hadron colliders"
          ],
          [
           "0911.5095",
           "NLO QCD corrections to graviton production at hadron colliders"
          ],
          [
           "0912.0199",
           "Next-to-leading order QCD predictions for graviton and photon associated\n  production in the Large Extra Dimensions model at the LHC"
          ],
          [
           "0912.4813",
           "QCD corrections to stoponium production at hadron colliders"
          ],
          [
           "1001.2427",
           "NLO QCD corrections to WW+jet production including leptonic W decays at\n  hadron colliders"
          ],
          [
           "1001.3789",
           "Next-to-leading order QCD corrections to Higgs production at a future\n  lepton-proton collider"
          ],
          [
           "1001.3968",
           "NNLO QCD correction to vector boson production at hadron colliders"
          ],
          [
           "1001.4713",
           "NNLO real corrections to gluon scattering"
          ],
          [
           "1002.3115",
           "W boson production at hadron colliders: the lepton charge asymmetry in\n  NNLO QCD"
          ],
          [
           "1003.1854",
           "Factorization breaking in high-transverse-momentum charged-hadron\n  production at the Tevatron?"
          ],
          [
           "1003.2824",
           "Antenna subtraction for gluon scattering at NNLO"
          ],
          [
           "1003.4533",
           "Helicity Parton Distributions from Spin Asymmetries in W-Boson\n  Production at RHIC"
          ],
          [
           "1003.5445",
           "Next-to-leading order QCD corrections to $W^+W^-$ production at the LHC\n  in Randall Sundrum model"
          ],
          [
           "1003.5450",
           "$W^+W^-$ production in Large extra dimension model at next-to-leading\n  order in QCD at the LHC"
          ],
          [
           "1004.0057",
           "High-energy amplitudes in the next-to-leading order"
          ],
          [
           "1004.0825",
           "Next-to-leading order QCD corrections to photon production via\n  weak-boson fusion"
          ],
          [
           "1005.0306",
           "Next-to-leading order t anti-t plus jets physics with HELAC-NLO"
          ],
          [
           "1006.0390",
           "NLO QCD corrections to WZ+jet production with leptonic decays"
          ],
          [
           "1006.5773",
           "Precise predictions for Higgs production in models with color-octet\n  scalars"
          ],
          [
           "1007.5411",
           "Higgs plus jet production in bottom quark annihilation at\n  next-to-leading order"
          ],
          [
           "1009.1477",
           "Next-to-leading order matrix elements and truncated showers"
          ],
          [
           "1009.3655",
           "J/psi (psi') production at the Tevatron and LHC at O(\\alpha_s^4v^4) in\n  nonrelativistic QCD"
          ],
          [
           "1009.5662",
           "Reconciling J/psi production at HERA, RHIC, Tevatron, and LHC with NRQCD\n  factorization at next-to-leading order"
          ],
          [
           "1011.0486",
           "Hadron plus photon production in polarized hadronic collisions at\n  next-to-leading order accuracy"
          ],
          [
           "1011.2693",
           "Next-to-leading order QCD predictions for $A^{0}\\gamma$ associated\n  production at the CERN Large Hadron Collider"
          ],
          [
           "1011.3341",
           "Threshold Improved QCD Corrections for Stop-Antistop production at\n  Hadron colliders"
          ],
          [
           "1011.3540",
           "FEWZ 2.0: A code for hadronic Z production at next-to-next-to-leading\n  order"
          ],
          [
           "1011.6027",
           "NNLO QCD corrections to the resonant sneutrino/slepton production at\n  Hadron Colliders"
          ],
          [
           "1011.6199",
           "Graviton plus vector boson production to NLO in QCD at the LHC"
          ],
          [
           "1011.6249",
           "Associated production of top quarks and charged Higgs bosons at\n  next-to-leading order"
          ],
          [
           "1012.0507",
           "Associated production of one particle and a Drell-Yan pair in hadronic\n  collisions"
          ],
          [
           "1012.0712",
           "Monte Carlo modelling of NLO DGLAP QCD Evolution in the fully\n  unintegrated form"
          ],
          [
           "1012.1030",
           "A complete NLO calculation of the $J/\\psi$ and $\\psi'$ production at\n  hadron colliders"
          ],
          [
           "1012.3798",
           "QCD corrections to $J/\\psi$ production in association with a $W$-boson\n  at the LHC"
          ],
          [
           "1012.4987",
           "Recent developments in NLO QCD calculations: the particular case of pp\n  -> ttjj"
          ],
          [
           "1101.3269",
           "Next-to-leading ultrasoft running of the heavy quarkonium potentials and\n  spectrum: Spin-independent case"
          ],
          [
           "1101.4611",
           "Next-to-leading QCD effect to the quark compositeness search at the LHC"
          ],
          [
           "1101.4987",
           "The light MSSM neutral Higgs boson production associated with an\n  electron and a jet at the LHeC"
          ],
          [
           "1102.0118",
           "Testing the QCD fragmentation mechanism on heavy quarkonium production\n  at LHC"
          ],
          [
           "1102.0398",
           "QCD corrections to $J/\\psi$ plus $Z^0$-boson production at the LHC"
          ],
          [
           "1103.0914",
           "Electroweak corrections to dilepton + jet production at hadron colliders"
          ],
          [
           "1103.1318",
           "Perturbative QCD for the LHC"
          ]
         ],
         "hovertemplate": "keywords=order qcd corrections nnlo calculation production fragmentation improved<br>x=%{x}<br>y=%{y}<br>id=%{customdata[0]}<br>title=%{customdata[1]}<extra></extra>",
         "legendgroup": "order qcd corrections nnlo calculation production fragmentation improved",
         "marker": {
          "color": "#FECB52",
          "symbol": "circle"
         },
         "mode": "markers",
         "name": "order qcd corrections nnlo calculation production fragmentation improved",
         "orientation": "v",
         "showlegend": true,
         "type": "scatter",
         "x": [
          12.873682975769043,
          -0.996602475643158,
          20.455671310424805,
          20.45608139038086,
          17.556846618652344,
          5.710434436798096,
          -1.1124005317687988,
          3.5237877368927,
          6.616339206695557,
          13.725963592529297,
          4.634836673736572,
          8.192863464355469,
          8.62806224822998,
          2.644758701324463,
          0.6996945142745972,
          -1.3414287567138672,
          8.33908462524414,
          14.161712646484375,
          17.084062576293945,
          3.5771515369415283,
          11.548317909240723,
          18.38435935974121,
          5.896294593811035,
          -1.3620820045471191,
          7.533746719360352,
          2.147050380706787,
          16.941259384155273,
          9.840351104736328,
          13.20120620727539,
          8.31672477722168,
          15.874138832092285,
          15.206137657165527,
          9.614238739013672,
          14.347655296325684,
          5.524498462677002,
          1.0451353788375854,
          19.109285354614258,
          -0.15118059515953064,
          10.716333389282227,
          3.1148784160614014,
          9.866095542907715,
          12.473474502563477,
          7.655956268310547,
          15.509186744689941,
          4.471110820770264,
          2.0353193283081055,
          18.535934448242188,
          11.031328201293945,
          8.781020164489746,
          9.87617301940918,
          14.432961463928223,
          11.090293884277344,
          5.078368663787842,
          4.422893047332764,
          -0.2378707230091095,
          2.130666494369507,
          4.578385829925537,
          12.374470710754395,
          18.351360321044922,
          10.836186408996582,
          4.538315773010254,
          6.286616802215576,
          13.77490520477295,
          7.120868682861328,
          7.481278896331787,
          13.90622615814209,
          7.123764991760254,
          14.40668773651123,
          4.880058288574219,
          -4.2659430503845215,
          7.473174095153809,
          4.725534915924072,
          4.399977684020996,
          3.4791815280914307,
          7.023632049560547,
          1.715070366859436,
          4.415989875793457,
          23.092405319213867,
          4.192071914672852,
          12.226266860961914,
          23.103734970092773,
          -17.900209426879883,
          7.071017742156982,
          7.347244739532471,
          13.611233711242676,
          1.8767329454421997,
          6.912402153015137,
          6.311324119567871,
          -1.5596373081207275,
          0.13323605060577393,
          18.02638053894043,
          10.458592414855957,
          10.97588062286377,
          9.884721755981445,
          4.710881233215332,
          0.9565660953521729,
          5.311787128448486,
          4.27459192276001,
          4.581412315368652,
          0.15658985078334808,
          11.040521621704102,
          6.202670097351074,
          10.477295875549316,
          8.640373229980469,
          6.724122047424316,
          12.264516830444336,
          5.380097389221191,
          1.2410016059875488,
          8.688482284545898,
          8.726463317871094,
          5.12293004989624,
          16.589147567749023
         ],
         "xaxis": "x",
         "y": [
          -15.117992401123047,
          -12.040099143981934,
          -12.065232276916504,
          -12.06878662109375,
          -12.538723945617676,
          -9.051764488220215,
          -8.906521797180176,
          -12.020586013793945,
          -14.168919563293457,
          -12.41662883758545,
          -8.30100154876709,
          -8.990395545959473,
          -9.887639045715332,
          -13.646051406860352,
          -11.987457275390625,
          -4.595630645751953,
          -9.0185546875,
          -14.68677043914795,
          -12.181323051452637,
          -17.23823356628418,
          -11.303260803222656,
          -8.844099044799805,
          -12.417496681213379,
          -8.755507469177246,
          -10.86998462677002,
          -15.181113243103027,
          -12.055804252624512,
          -7.56209659576416,
          -11.261829376220703,
          -9.019878387451172,
          -16.29633140563965,
          -14.037582397460938,
          -6.71638822555542,
          -16.406478881835938,
          -8.448783874511719,
          -14.006178855895996,
          6.994860649108887,
          -3.3977696895599365,
          -9.22819709777832,
          -6.054593086242676,
          -5.929921627044678,
          -8.401409149169922,
          -12.303173065185547,
          -14.021062850952148,
          -14.355707168579102,
          -15.16148567199707,
          -7.417169570922852,
          -18.12978172302246,
          -6.958698749542236,
          -12.75164794921875,
          -12.649393081665039,
          -9.07168197631836,
          -11.517691612243652,
          -13.532405853271484,
          -10.118419647216797,
          -12.26189136505127,
          -7.142472267150879,
          -8.472723960876465,
          -4.4997878074646,
          -3.4004273414611816,
          -14.451770782470703,
          -10.281851768493652,
          0.37257078289985657,
          -9.26505184173584,
          -12.296099662780762,
          -12.441728591918945,
          -12.160903930664062,
          -16.9654598236084,
          -7.261442184448242,
          3.390302896499634,
          -8.765636444091797,
          -9.87121868133545,
          -8.358179092407227,
          -6.207380771636963,
          -9.220438003540039,
          -11.486451148986816,
          -14.2307710647583,
          -7.997908115386963,
          -14.992865562438965,
          -3.6821515560150146,
          -7.966543674468994,
          -7.956710338592529,
          -12.103657722473145,
          -12.188727378845215,
          -13.642438888549805,
          -12.244694709777832,
          -6.799570560455322,
          -10.376696586608887,
          -7.27817440032959,
          -7.671442031860352,
          4.7584123611450195,
          -7.098394393920898,
          -5.1718058586120605,
          -12.802270889282227,
          -8.243326187133789,
          -3.7231311798095703,
          -14.541175842285156,
          -12.787467956542969,
          -9.795318603515625,
          -9.907532691955566,
          -19.09994888305664,
          -7.8880720138549805,
          -7.108538627624512,
          -6.619944095611572,
          -6.754852771759033,
          -13.335134506225586,
          -7.058586597442627,
          -10.462653160095215,
          -5.246453762054443,
          -6.605733871459961,
          -11.484776496887207,
          -9.873026847839355
         ],
         "yaxis": "y"
        }
       ],
       "layout": {
        "coloraxis": {
         "colorbar": {
          "tickfont": {
           "size": 16
          },
          "title": {
           "font": {
            "size": 20
           }
          }
         }
        },
        "height": 700,
        "legend": {
         "font": {
          "size": 11
         },
         "orientation": "h",
         "title": {
          "text": "keywords"
         },
         "tracegroupgap": 0,
         "x": 1,
         "xanchor": "right",
         "y": -0.3,
         "yanchor": "bottom"
        },
        "template": {
         "data": {
          "bar": [
           {
            "error_x": {
             "color": "#2a3f5f"
            },
            "error_y": {
             "color": "#2a3f5f"
            },
            "marker": {
             "line": {
              "color": "#E5ECF6",
              "width": 0.5
             },
             "pattern": {
              "fillmode": "overlay",
              "size": 10,
              "solidity": 0.2
             }
            },
            "type": "bar"
           }
          ],
          "barpolar": [
           {
            "marker": {
             "line": {
              "color": "#E5ECF6",
              "width": 0.5
             },
             "pattern": {
              "fillmode": "overlay",
              "size": 10,
              "solidity": 0.2
             }
            },
            "type": "barpolar"
           }
          ],
          "carpet": [
           {
            "aaxis": {
             "endlinecolor": "#2a3f5f",
             "gridcolor": "white",
             "linecolor": "white",
             "minorgridcolor": "white",
             "startlinecolor": "#2a3f5f"
            },
            "baxis": {
             "endlinecolor": "#2a3f5f",
             "gridcolor": "white",
             "linecolor": "white",
             "minorgridcolor": "white",
             "startlinecolor": "#2a3f5f"
            },
            "type": "carpet"
           }
          ],
          "choropleth": [
           {
            "colorbar": {
             "outlinewidth": 0,
             "ticks": ""
            },
            "type": "choropleth"
           }
          ],
          "contour": [
           {
            "colorbar": {
             "outlinewidth": 0,
             "ticks": ""
            },
            "colorscale": [
             [
              0,
              "#0d0887"
             ],
             [
              0.1111111111111111,
              "#46039f"
             ],
             [
              0.2222222222222222,
              "#7201a8"
             ],
             [
              0.3333333333333333,
              "#9c179e"
             ],
             [
              0.4444444444444444,
              "#bd3786"
             ],
             [
              0.5555555555555556,
              "#d8576b"
             ],
             [
              0.6666666666666666,
              "#ed7953"
             ],
             [
              0.7777777777777778,
              "#fb9f3a"
             ],
             [
              0.8888888888888888,
              "#fdca26"
             ],
             [
              1,
              "#f0f921"
             ]
            ],
            "type": "contour"
           }
          ],
          "contourcarpet": [
           {
            "colorbar": {
             "outlinewidth": 0,
             "ticks": ""
            },
            "type": "contourcarpet"
           }
          ],
          "heatmap": [
           {
            "colorbar": {
             "outlinewidth": 0,
             "ticks": ""
            },
            "colorscale": [
             [
              0,
              "#0d0887"
             ],
             [
              0.1111111111111111,
              "#46039f"
             ],
             [
              0.2222222222222222,
              "#7201a8"
             ],
             [
              0.3333333333333333,
              "#9c179e"
             ],
             [
              0.4444444444444444,
              "#bd3786"
             ],
             [
              0.5555555555555556,
              "#d8576b"
             ],
             [
              0.6666666666666666,
              "#ed7953"
             ],
             [
              0.7777777777777778,
              "#fb9f3a"
             ],
             [
              0.8888888888888888,
              "#fdca26"
             ],
             [
              1,
              "#f0f921"
             ]
            ],
            "type": "heatmap"
           }
          ],
          "heatmapgl": [
           {
            "colorbar": {
             "outlinewidth": 0,
             "ticks": ""
            },
            "colorscale": [
             [
              0,
              "#0d0887"
             ],
             [
              0.1111111111111111,
              "#46039f"
             ],
             [
              0.2222222222222222,
              "#7201a8"
             ],
             [
              0.3333333333333333,
              "#9c179e"
             ],
             [
              0.4444444444444444,
              "#bd3786"
             ],
             [
              0.5555555555555556,
              "#d8576b"
             ],
             [
              0.6666666666666666,
              "#ed7953"
             ],
             [
              0.7777777777777778,
              "#fb9f3a"
             ],
             [
              0.8888888888888888,
              "#fdca26"
             ],
             [
              1,
              "#f0f921"
             ]
            ],
            "type": "heatmapgl"
           }
          ],
          "histogram": [
           {
            "marker": {
             "pattern": {
              "fillmode": "overlay",
              "size": 10,
              "solidity": 0.2
             }
            },
            "type": "histogram"
           }
          ],
          "histogram2d": [
           {
            "colorbar": {
             "outlinewidth": 0,
             "ticks": ""
            },
            "colorscale": [
             [
              0,
              "#0d0887"
             ],
             [
              0.1111111111111111,
              "#46039f"
             ],
             [
              0.2222222222222222,
              "#7201a8"
             ],
             [
              0.3333333333333333,
              "#9c179e"
             ],
             [
              0.4444444444444444,
              "#bd3786"
             ],
             [
              0.5555555555555556,
              "#d8576b"
             ],
             [
              0.6666666666666666,
              "#ed7953"
             ],
             [
              0.7777777777777778,
              "#fb9f3a"
             ],
             [
              0.8888888888888888,
              "#fdca26"
             ],
             [
              1,
              "#f0f921"
             ]
            ],
            "type": "histogram2d"
           }
          ],
          "histogram2dcontour": [
           {
            "colorbar": {
             "outlinewidth": 0,
             "ticks": ""
            },
            "colorscale": [
             [
              0,
              "#0d0887"
             ],
             [
              0.1111111111111111,
              "#46039f"
             ],
             [
              0.2222222222222222,
              "#7201a8"
             ],
             [
              0.3333333333333333,
              "#9c179e"
             ],
             [
              0.4444444444444444,
              "#bd3786"
             ],
             [
              0.5555555555555556,
              "#d8576b"
             ],
             [
              0.6666666666666666,
              "#ed7953"
             ],
             [
              0.7777777777777778,
              "#fb9f3a"
             ],
             [
              0.8888888888888888,
              "#fdca26"
             ],
             [
              1,
              "#f0f921"
             ]
            ],
            "type": "histogram2dcontour"
           }
          ],
          "mesh3d": [
           {
            "colorbar": {
             "outlinewidth": 0,
             "ticks": ""
            },
            "type": "mesh3d"
           }
          ],
          "parcoords": [
           {
            "line": {
             "colorbar": {
              "outlinewidth": 0,
              "ticks": ""
             }
            },
            "type": "parcoords"
           }
          ],
          "pie": [
           {
            "automargin": true,
            "type": "pie"
           }
          ],
          "scatter": [
           {
            "fillpattern": {
             "fillmode": "overlay",
             "size": 10,
             "solidity": 0.2
            },
            "type": "scatter"
           }
          ],
          "scatter3d": [
           {
            "line": {
             "colorbar": {
              "outlinewidth": 0,
              "ticks": ""
             }
            },
            "marker": {
             "colorbar": {
              "outlinewidth": 0,
              "ticks": ""
             }
            },
            "type": "scatter3d"
           }
          ],
          "scattercarpet": [
           {
            "marker": {
             "colorbar": {
              "outlinewidth": 0,
              "ticks": ""
             }
            },
            "type": "scattercarpet"
           }
          ],
          "scattergeo": [
           {
            "marker": {
             "colorbar": {
              "outlinewidth": 0,
              "ticks": ""
             }
            },
            "type": "scattergeo"
           }
          ],
          "scattergl": [
           {
            "marker": {
             "colorbar": {
              "outlinewidth": 0,
              "ticks": ""
             }
            },
            "type": "scattergl"
           }
          ],
          "scattermapbox": [
           {
            "marker": {
             "colorbar": {
              "outlinewidth": 0,
              "ticks": ""
             }
            },
            "type": "scattermapbox"
           }
          ],
          "scatterpolar": [
           {
            "marker": {
             "colorbar": {
              "outlinewidth": 0,
              "ticks": ""
             }
            },
            "type": "scatterpolar"
           }
          ],
          "scatterpolargl": [
           {
            "marker": {
             "colorbar": {
              "outlinewidth": 0,
              "ticks": ""
             }
            },
            "type": "scatterpolargl"
           }
          ],
          "scatterternary": [
           {
            "marker": {
             "colorbar": {
              "outlinewidth": 0,
              "ticks": ""
             }
            },
            "type": "scatterternary"
           }
          ],
          "surface": [
           {
            "colorbar": {
             "outlinewidth": 0,
             "ticks": ""
            },
            "colorscale": [
             [
              0,
              "#0d0887"
             ],
             [
              0.1111111111111111,
              "#46039f"
             ],
             [
              0.2222222222222222,
              "#7201a8"
             ],
             [
              0.3333333333333333,
              "#9c179e"
             ],
             [
              0.4444444444444444,
              "#bd3786"
             ],
             [
              0.5555555555555556,
              "#d8576b"
             ],
             [
              0.6666666666666666,
              "#ed7953"
             ],
             [
              0.7777777777777778,
              "#fb9f3a"
             ],
             [
              0.8888888888888888,
              "#fdca26"
             ],
             [
              1,
              "#f0f921"
             ]
            ],
            "type": "surface"
           }
          ],
          "table": [
           {
            "cells": {
             "fill": {
              "color": "#EBF0F8"
             },
             "line": {
              "color": "white"
             }
            },
            "header": {
             "fill": {
              "color": "#C8D4E3"
             },
             "line": {
              "color": "white"
             }
            },
            "type": "table"
           }
          ]
         },
         "layout": {
          "annotationdefaults": {
           "arrowcolor": "#2a3f5f",
           "arrowhead": 0,
           "arrowwidth": 1
          },
          "autotypenumbers": "strict",
          "coloraxis": {
           "colorbar": {
            "outlinewidth": 0,
            "ticks": ""
           }
          },
          "colorscale": {
           "diverging": [
            [
             0,
             "#8e0152"
            ],
            [
             0.1,
             "#c51b7d"
            ],
            [
             0.2,
             "#de77ae"
            ],
            [
             0.3,
             "#f1b6da"
            ],
            [
             0.4,
             "#fde0ef"
            ],
            [
             0.5,
             "#f7f7f7"
            ],
            [
             0.6,
             "#e6f5d0"
            ],
            [
             0.7,
             "#b8e186"
            ],
            [
             0.8,
             "#7fbc41"
            ],
            [
             0.9,
             "#4d9221"
            ],
            [
             1,
             "#276419"
            ]
           ],
           "sequential": [
            [
             0,
             "#0d0887"
            ],
            [
             0.1111111111111111,
             "#46039f"
            ],
            [
             0.2222222222222222,
             "#7201a8"
            ],
            [
             0.3333333333333333,
             "#9c179e"
            ],
            [
             0.4444444444444444,
             "#bd3786"
            ],
            [
             0.5555555555555556,
             "#d8576b"
            ],
            [
             0.6666666666666666,
             "#ed7953"
            ],
            [
             0.7777777777777778,
             "#fb9f3a"
            ],
            [
             0.8888888888888888,
             "#fdca26"
            ],
            [
             1,
             "#f0f921"
            ]
           ],
           "sequentialminus": [
            [
             0,
             "#0d0887"
            ],
            [
             0.1111111111111111,
             "#46039f"
            ],
            [
             0.2222222222222222,
             "#7201a8"
            ],
            [
             0.3333333333333333,
             "#9c179e"
            ],
            [
             0.4444444444444444,
             "#bd3786"
            ],
            [
             0.5555555555555556,
             "#d8576b"
            ],
            [
             0.6666666666666666,
             "#ed7953"
            ],
            [
             0.7777777777777778,
             "#fb9f3a"
            ],
            [
             0.8888888888888888,
             "#fdca26"
            ],
            [
             1,
             "#f0f921"
            ]
           ]
          },
          "colorway": [
           "#636efa",
           "#EF553B",
           "#00cc96",
           "#ab63fa",
           "#FFA15A",
           "#19d3f3",
           "#FF6692",
           "#B6E880",
           "#FF97FF",
           "#FECB52"
          ],
          "font": {
           "color": "#2a3f5f"
          },
          "geo": {
           "bgcolor": "white",
           "lakecolor": "white",
           "landcolor": "#E5ECF6",
           "showlakes": true,
           "showland": true,
           "subunitcolor": "white"
          },
          "hoverlabel": {
           "align": "left"
          },
          "hovermode": "closest",
          "mapbox": {
           "style": "light"
          },
          "paper_bgcolor": "white",
          "plot_bgcolor": "#E5ECF6",
          "polar": {
           "angularaxis": {
            "gridcolor": "white",
            "linecolor": "white",
            "ticks": ""
           },
           "bgcolor": "#E5ECF6",
           "radialaxis": {
            "gridcolor": "white",
            "linecolor": "white",
            "ticks": ""
           }
          },
          "scene": {
           "xaxis": {
            "backgroundcolor": "#E5ECF6",
            "gridcolor": "white",
            "gridwidth": 2,
            "linecolor": "white",
            "showbackground": true,
            "ticks": "",
            "zerolinecolor": "white"
           },
           "yaxis": {
            "backgroundcolor": "#E5ECF6",
            "gridcolor": "white",
            "gridwidth": 2,
            "linecolor": "white",
            "showbackground": true,
            "ticks": "",
            "zerolinecolor": "white"
           },
           "zaxis": {
            "backgroundcolor": "#E5ECF6",
            "gridcolor": "white",
            "gridwidth": 2,
            "linecolor": "white",
            "showbackground": true,
            "ticks": "",
            "zerolinecolor": "white"
           }
          },
          "shapedefaults": {
           "line": {
            "color": "#2a3f5f"
           }
          },
          "ternary": {
           "aaxis": {
            "gridcolor": "white",
            "linecolor": "white",
            "ticks": ""
           },
           "baxis": {
            "gridcolor": "white",
            "linecolor": "white",
            "ticks": ""
           },
           "bgcolor": "#E5ECF6",
           "caxis": {
            "gridcolor": "white",
            "linecolor": "white",
            "ticks": ""
           }
          },
          "title": {
           "x": 0.05
          },
          "xaxis": {
           "automargin": true,
           "gridcolor": "white",
           "linecolor": "white",
           "ticks": "",
           "title": {
            "standoff": 15
           },
           "zerolinecolor": "white",
           "zerolinewidth": 2
          },
          "yaxis": {
           "automargin": true,
           "gridcolor": "white",
           "linecolor": "white",
           "ticks": "",
           "title": {
            "standoff": 15
           },
           "zerolinecolor": "white",
           "zerolinewidth": 2
          }
         }
        },
        "title": {
         "text": "Clustered Papers"
        },
        "width": 1200,
        "xaxis": {
         "anchor": "y",
         "domain": [
          0,
          1
         ],
         "title": {
          "text": "x"
         }
        },
        "yaxis": {
         "anchor": "x",
         "domain": [
          0,
          1
         ],
         "title": {
          "text": "y"
         }
        }
       }
      }
     },
     "metadata": {},
     "output_type": "display_data"
    }
   ],
   "source": [
    "fig = px.scatter(topic_df, x=two_dim_matrix[:,0], y=two_dim_matrix[:,1], color='keywords',\n",
    "                 hover_data=['id','title'],\n",
    "                 height= 700, width=1200,\n",
    "                title = \"Clustered Papers\",)\n",
    "\n",
    "fig.update_layout(\n",
    "    coloraxis_colorbar=dict(\n",
    "        title_font=dict(size=20), # Set the font size of the color legend title to 20\n",
    "        tickfont=dict(size=16) # Set the font size of the color legend tick labels to 16\n",
    "    ),\n",
    "    legend=dict(\n",
    "        font=dict(size=11) # Set the font size of the marker legend to 16\n",
    "    )\n",
    ")\n",
    "fig.update_layout(\n",
    "    legend=dict(orientation=\"h\", yanchor=\"bottom\", y=-0.3, xanchor=\"right\", x=1)\n",
    ")\n",
    "fig.show()"
   ]
  },
  {
   "cell_type": "code",
   "execution_count": 87,
   "metadata": {},
   "outputs": [],
   "source": [
    "from bokeh.plotting import figure, show\n",
    "from bokeh.models import ColumnDataSource, HoverTool\n",
    "from bokeh.palettes import Category10\n",
    "\n",
    "# Load data\n",
    "\n",
    "\n",
    "# Define colors\n",
    "colors = Category10[len(topic_df['keywords'].unique())]\n",
    "\n",
    "# Create Bokeh figure\n",
    "p = figure(title='Clustered Papers', width=1600, height=1200)\n",
    "\n",
    "# Create ColumnDataSource\n",
    "source = ColumnDataSource(data={\n",
    "    'x': two_dim_matrix[:,0],\n",
    "    'y': two_dim_matrix[:,1],\n",
    "    'id': topic_df['id'],\n",
    "    'title': topic_df['title'],\n",
    "    'keywords': topic_df['keywords'],\n",
    "})\n",
    "\n",
    "# Add scatter plot\n",
    "p.scatter('x', 'y', source=source, color='keywords', legend_group='keywords', size=10, fill_alpha=0.8, line_alpha=0.8)\n",
    "\n",
    "# Add hover tool\n",
    "hover = HoverTool(tooltips=[('ID', '@id'), ('Title', '@title')])\n",
    "p.add_tools(hover)\n",
    "\n",
    "# Show the plot\n",
    "show(p)\n"
   ]
  }
 ],
 "metadata": {
  "kernelspec": {
   "display_name": "Python 3",
   "language": "python",
   "name": "python3"
  },
  "language_info": {
   "codemirror_mode": {
    "name": "ipython",
    "version": 3
   },
   "file_extension": ".py",
   "mimetype": "text/x-python",
   "name": "python",
   "nbconvert_exporter": "python",
   "pygments_lexer": "ipython3",
   "version": "3.10.1"
  },
  "orig_nbformat": 4
 },
 "nbformat": 4,
 "nbformat_minor": 2
}
